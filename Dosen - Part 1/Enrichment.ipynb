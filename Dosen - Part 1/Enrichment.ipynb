{
  "nbformat": 4,
  "nbformat_minor": 0,
  "metadata": {
    "colab": {
      "provenance": [],
      "gpuType": "T4",
      "collapsed_sections": [
        "qJFr3t9U-5eg",
        "xlc9yf6nAtDC",
        "XmkQG3TVUvaG",
        "YxknH1cHIeJi",
        "eNF0_65Efwwe",
        "k80Nji5kczLv",
        "mFYJCssTDIxp",
        "6whoK1bzGUIx",
        "_fFXI5xvGWKY",
        "b2ke7efFte6u"
      ]
    },
    "kernelspec": {
      "name": "python3",
      "display_name": "Python 3"
    },
    "language_info": {
      "name": "python"
    },
    "accelerator": "GPU",
    "widgets": {
      "application/vnd.jupyter.widget-state+json": {
        "1f2f952f56364db58695b24429545f46": {
          "model_module": "@jupyter-widgets/controls",
          "model_name": "HBoxModel",
          "model_module_version": "1.5.0",
          "state": {
            "_dom_classes": [],
            "_model_module": "@jupyter-widgets/controls",
            "_model_module_version": "1.5.0",
            "_model_name": "HBoxModel",
            "_view_count": null,
            "_view_module": "@jupyter-widgets/controls",
            "_view_module_version": "1.5.0",
            "_view_name": "HBoxView",
            "box_style": "",
            "children": [
              "IPY_MODEL_aa5ba9219f584a7386a4116c47d4f683",
              "IPY_MODEL_690bdc7d83ec4855b82a793e6a573b33",
              "IPY_MODEL_1b91c376c46742e78193b8affdc30d54"
            ],
            "layout": "IPY_MODEL_08ad52e926a041e5a87476880b4f4db5"
          }
        },
        "aa5ba9219f584a7386a4116c47d4f683": {
          "model_module": "@jupyter-widgets/controls",
          "model_name": "HTMLModel",
          "model_module_version": "1.5.0",
          "state": {
            "_dom_classes": [],
            "_model_module": "@jupyter-widgets/controls",
            "_model_module_version": "1.5.0",
            "_model_name": "HTMLModel",
            "_view_count": null,
            "_view_module": "@jupyter-widgets/controls",
            "_view_module_version": "1.5.0",
            "_view_name": "HTMLView",
            "description": "",
            "description_tooltip": null,
            "layout": "IPY_MODEL_e41bee6b560f4e56a4f9364fae48b53c",
            "placeholder": "​",
            "style": "IPY_MODEL_21ddeb193f4c4fb899ae08b0509227bc",
            "value": "Downloading builder script: 100%"
          }
        },
        "690bdc7d83ec4855b82a793e6a573b33": {
          "model_module": "@jupyter-widgets/controls",
          "model_name": "FloatProgressModel",
          "model_module_version": "1.5.0",
          "state": {
            "_dom_classes": [],
            "_model_module": "@jupyter-widgets/controls",
            "_model_module_version": "1.5.0",
            "_model_name": "FloatProgressModel",
            "_view_count": null,
            "_view_module": "@jupyter-widgets/controls",
            "_view_module_version": "1.5.0",
            "_view_name": "ProgressView",
            "bar_style": "success",
            "description": "",
            "description_tooltip": null,
            "layout": "IPY_MODEL_ee39ee9a424c40e7b3f81c8deb3aae72",
            "max": 5025,
            "min": 0,
            "orientation": "horizontal",
            "style": "IPY_MODEL_b7e88edb3f454c7aac9f49f3ab308384",
            "value": 5025
          }
        },
        "1b91c376c46742e78193b8affdc30d54": {
          "model_module": "@jupyter-widgets/controls",
          "model_name": "HTMLModel",
          "model_module_version": "1.5.0",
          "state": {
            "_dom_classes": [],
            "_model_module": "@jupyter-widgets/controls",
            "_model_module_version": "1.5.0",
            "_model_name": "HTMLModel",
            "_view_count": null,
            "_view_module": "@jupyter-widgets/controls",
            "_view_module_version": "1.5.0",
            "_view_name": "HTMLView",
            "description": "",
            "description_tooltip": null,
            "layout": "IPY_MODEL_4d844eb4120c43ab87e4e6b6e510c1fd",
            "placeholder": "​",
            "style": "IPY_MODEL_d6b0ed72ee6648a2ae4edcf31ee772e4",
            "value": " 5.03k/5.03k [00:00&lt;00:00, 258kB/s]"
          }
        },
        "08ad52e926a041e5a87476880b4f4db5": {
          "model_module": "@jupyter-widgets/base",
          "model_name": "LayoutModel",
          "model_module_version": "1.2.0",
          "state": {
            "_model_module": "@jupyter-widgets/base",
            "_model_module_version": "1.2.0",
            "_model_name": "LayoutModel",
            "_view_count": null,
            "_view_module": "@jupyter-widgets/base",
            "_view_module_version": "1.2.0",
            "_view_name": "LayoutView",
            "align_content": null,
            "align_items": null,
            "align_self": null,
            "border": null,
            "bottom": null,
            "display": null,
            "flex": null,
            "flex_flow": null,
            "grid_area": null,
            "grid_auto_columns": null,
            "grid_auto_flow": null,
            "grid_auto_rows": null,
            "grid_column": null,
            "grid_gap": null,
            "grid_row": null,
            "grid_template_areas": null,
            "grid_template_columns": null,
            "grid_template_rows": null,
            "height": null,
            "justify_content": null,
            "justify_items": null,
            "left": null,
            "margin": null,
            "max_height": null,
            "max_width": null,
            "min_height": null,
            "min_width": null,
            "object_fit": null,
            "object_position": null,
            "order": null,
            "overflow": null,
            "overflow_x": null,
            "overflow_y": null,
            "padding": null,
            "right": null,
            "top": null,
            "visibility": null,
            "width": null
          }
        },
        "e41bee6b560f4e56a4f9364fae48b53c": {
          "model_module": "@jupyter-widgets/base",
          "model_name": "LayoutModel",
          "model_module_version": "1.2.0",
          "state": {
            "_model_module": "@jupyter-widgets/base",
            "_model_module_version": "1.2.0",
            "_model_name": "LayoutModel",
            "_view_count": null,
            "_view_module": "@jupyter-widgets/base",
            "_view_module_version": "1.2.0",
            "_view_name": "LayoutView",
            "align_content": null,
            "align_items": null,
            "align_self": null,
            "border": null,
            "bottom": null,
            "display": null,
            "flex": null,
            "flex_flow": null,
            "grid_area": null,
            "grid_auto_columns": null,
            "grid_auto_flow": null,
            "grid_auto_rows": null,
            "grid_column": null,
            "grid_gap": null,
            "grid_row": null,
            "grid_template_areas": null,
            "grid_template_columns": null,
            "grid_template_rows": null,
            "height": null,
            "justify_content": null,
            "justify_items": null,
            "left": null,
            "margin": null,
            "max_height": null,
            "max_width": null,
            "min_height": null,
            "min_width": null,
            "object_fit": null,
            "object_position": null,
            "order": null,
            "overflow": null,
            "overflow_x": null,
            "overflow_y": null,
            "padding": null,
            "right": null,
            "top": null,
            "visibility": null,
            "width": null
          }
        },
        "21ddeb193f4c4fb899ae08b0509227bc": {
          "model_module": "@jupyter-widgets/controls",
          "model_name": "DescriptionStyleModel",
          "model_module_version": "1.5.0",
          "state": {
            "_model_module": "@jupyter-widgets/controls",
            "_model_module_version": "1.5.0",
            "_model_name": "DescriptionStyleModel",
            "_view_count": null,
            "_view_module": "@jupyter-widgets/base",
            "_view_module_version": "1.2.0",
            "_view_name": "StyleView",
            "description_width": ""
          }
        },
        "ee39ee9a424c40e7b3f81c8deb3aae72": {
          "model_module": "@jupyter-widgets/base",
          "model_name": "LayoutModel",
          "model_module_version": "1.2.0",
          "state": {
            "_model_module": "@jupyter-widgets/base",
            "_model_module_version": "1.2.0",
            "_model_name": "LayoutModel",
            "_view_count": null,
            "_view_module": "@jupyter-widgets/base",
            "_view_module_version": "1.2.0",
            "_view_name": "LayoutView",
            "align_content": null,
            "align_items": null,
            "align_self": null,
            "border": null,
            "bottom": null,
            "display": null,
            "flex": null,
            "flex_flow": null,
            "grid_area": null,
            "grid_auto_columns": null,
            "grid_auto_flow": null,
            "grid_auto_rows": null,
            "grid_column": null,
            "grid_gap": null,
            "grid_row": null,
            "grid_template_areas": null,
            "grid_template_columns": null,
            "grid_template_rows": null,
            "height": null,
            "justify_content": null,
            "justify_items": null,
            "left": null,
            "margin": null,
            "max_height": null,
            "max_width": null,
            "min_height": null,
            "min_width": null,
            "object_fit": null,
            "object_position": null,
            "order": null,
            "overflow": null,
            "overflow_x": null,
            "overflow_y": null,
            "padding": null,
            "right": null,
            "top": null,
            "visibility": null,
            "width": null
          }
        },
        "b7e88edb3f454c7aac9f49f3ab308384": {
          "model_module": "@jupyter-widgets/controls",
          "model_name": "ProgressStyleModel",
          "model_module_version": "1.5.0",
          "state": {
            "_model_module": "@jupyter-widgets/controls",
            "_model_module_version": "1.5.0",
            "_model_name": "ProgressStyleModel",
            "_view_count": null,
            "_view_module": "@jupyter-widgets/base",
            "_view_module_version": "1.2.0",
            "_view_name": "StyleView",
            "bar_color": null,
            "description_width": ""
          }
        },
        "4d844eb4120c43ab87e4e6b6e510c1fd": {
          "model_module": "@jupyter-widgets/base",
          "model_name": "LayoutModel",
          "model_module_version": "1.2.0",
          "state": {
            "_model_module": "@jupyter-widgets/base",
            "_model_module_version": "1.2.0",
            "_model_name": "LayoutModel",
            "_view_count": null,
            "_view_module": "@jupyter-widgets/base",
            "_view_module_version": "1.2.0",
            "_view_name": "LayoutView",
            "align_content": null,
            "align_items": null,
            "align_self": null,
            "border": null,
            "bottom": null,
            "display": null,
            "flex": null,
            "flex_flow": null,
            "grid_area": null,
            "grid_auto_columns": null,
            "grid_auto_flow": null,
            "grid_auto_rows": null,
            "grid_column": null,
            "grid_gap": null,
            "grid_row": null,
            "grid_template_areas": null,
            "grid_template_columns": null,
            "grid_template_rows": null,
            "height": null,
            "justify_content": null,
            "justify_items": null,
            "left": null,
            "margin": null,
            "max_height": null,
            "max_width": null,
            "min_height": null,
            "min_width": null,
            "object_fit": null,
            "object_position": null,
            "order": null,
            "overflow": null,
            "overflow_x": null,
            "overflow_y": null,
            "padding": null,
            "right": null,
            "top": null,
            "visibility": null,
            "width": null
          }
        },
        "d6b0ed72ee6648a2ae4edcf31ee772e4": {
          "model_module": "@jupyter-widgets/controls",
          "model_name": "DescriptionStyleModel",
          "model_module_version": "1.5.0",
          "state": {
            "_model_module": "@jupyter-widgets/controls",
            "_model_module_version": "1.5.0",
            "_model_name": "DescriptionStyleModel",
            "_view_count": null,
            "_view_module": "@jupyter-widgets/base",
            "_view_module_version": "1.2.0",
            "_view_name": "StyleView",
            "description_width": ""
          }
        },
        "f7b55e81ae394a7c8765905ee50091c1": {
          "model_module": "@jupyter-widgets/controls",
          "model_name": "HBoxModel",
          "model_module_version": "1.5.0",
          "state": {
            "_dom_classes": [],
            "_model_module": "@jupyter-widgets/controls",
            "_model_module_version": "1.5.0",
            "_model_name": "HBoxModel",
            "_view_count": null,
            "_view_module": "@jupyter-widgets/controls",
            "_view_module_version": "1.5.0",
            "_view_name": "HBoxView",
            "box_style": "",
            "children": [
              "IPY_MODEL_75a52679e92b4b5ea9bc963013ba773d",
              "IPY_MODEL_54cfaa2510c4480e986a4dbe5a56dbaa",
              "IPY_MODEL_8cdb1632efbd4fa1bc697ba2480c2ec8"
            ],
            "layout": "IPY_MODEL_66e078e9f7064f7c9a33db1f9d28da61"
          }
        },
        "75a52679e92b4b5ea9bc963013ba773d": {
          "model_module": "@jupyter-widgets/controls",
          "model_name": "HTMLModel",
          "model_module_version": "1.5.0",
          "state": {
            "_dom_classes": [],
            "_model_module": "@jupyter-widgets/controls",
            "_model_module_version": "1.5.0",
            "_model_name": "HTMLModel",
            "_view_count": null,
            "_view_module": "@jupyter-widgets/controls",
            "_view_module_version": "1.5.0",
            "_view_name": "HTMLView",
            "description": "",
            "description_tooltip": null,
            "layout": "IPY_MODEL_0fab25dd763c4cf6b90e96ffb1bbdcdc",
            "placeholder": "​",
            "style": "IPY_MODEL_d075159b75bb4041a80b58719d1238ae",
            "value": "Downloading metadata: 100%"
          }
        },
        "54cfaa2510c4480e986a4dbe5a56dbaa": {
          "model_module": "@jupyter-widgets/controls",
          "model_name": "FloatProgressModel",
          "model_module_version": "1.5.0",
          "state": {
            "_dom_classes": [],
            "_model_module": "@jupyter-widgets/controls",
            "_model_module_version": "1.5.0",
            "_model_name": "FloatProgressModel",
            "_view_count": null,
            "_view_module": "@jupyter-widgets/controls",
            "_view_module_version": "1.5.0",
            "_view_name": "ProgressView",
            "bar_style": "success",
            "description": "",
            "description_tooltip": null,
            "layout": "IPY_MODEL_978745f540ee4f33b2f436212378c50f",
            "max": 2021,
            "min": 0,
            "orientation": "horizontal",
            "style": "IPY_MODEL_9314b7e646124e68898fd40a15ad9edd",
            "value": 2021
          }
        },
        "8cdb1632efbd4fa1bc697ba2480c2ec8": {
          "model_module": "@jupyter-widgets/controls",
          "model_name": "HTMLModel",
          "model_module_version": "1.5.0",
          "state": {
            "_dom_classes": [],
            "_model_module": "@jupyter-widgets/controls",
            "_model_module_version": "1.5.0",
            "_model_name": "HTMLModel",
            "_view_count": null,
            "_view_module": "@jupyter-widgets/controls",
            "_view_module_version": "1.5.0",
            "_view_name": "HTMLView",
            "description": "",
            "description_tooltip": null,
            "layout": "IPY_MODEL_8b2e208f7bb944c58861a2e2f1bf9cd4",
            "placeholder": "​",
            "style": "IPY_MODEL_f37312e4d50a414d83ae88a5edcef143",
            "value": " 2.02k/2.02k [00:00&lt;00:00, 134kB/s]"
          }
        },
        "66e078e9f7064f7c9a33db1f9d28da61": {
          "model_module": "@jupyter-widgets/base",
          "model_name": "LayoutModel",
          "model_module_version": "1.2.0",
          "state": {
            "_model_module": "@jupyter-widgets/base",
            "_model_module_version": "1.2.0",
            "_model_name": "LayoutModel",
            "_view_count": null,
            "_view_module": "@jupyter-widgets/base",
            "_view_module_version": "1.2.0",
            "_view_name": "LayoutView",
            "align_content": null,
            "align_items": null,
            "align_self": null,
            "border": null,
            "bottom": null,
            "display": null,
            "flex": null,
            "flex_flow": null,
            "grid_area": null,
            "grid_auto_columns": null,
            "grid_auto_flow": null,
            "grid_auto_rows": null,
            "grid_column": null,
            "grid_gap": null,
            "grid_row": null,
            "grid_template_areas": null,
            "grid_template_columns": null,
            "grid_template_rows": null,
            "height": null,
            "justify_content": null,
            "justify_items": null,
            "left": null,
            "margin": null,
            "max_height": null,
            "max_width": null,
            "min_height": null,
            "min_width": null,
            "object_fit": null,
            "object_position": null,
            "order": null,
            "overflow": null,
            "overflow_x": null,
            "overflow_y": null,
            "padding": null,
            "right": null,
            "top": null,
            "visibility": null,
            "width": null
          }
        },
        "0fab25dd763c4cf6b90e96ffb1bbdcdc": {
          "model_module": "@jupyter-widgets/base",
          "model_name": "LayoutModel",
          "model_module_version": "1.2.0",
          "state": {
            "_model_module": "@jupyter-widgets/base",
            "_model_module_version": "1.2.0",
            "_model_name": "LayoutModel",
            "_view_count": null,
            "_view_module": "@jupyter-widgets/base",
            "_view_module_version": "1.2.0",
            "_view_name": "LayoutView",
            "align_content": null,
            "align_items": null,
            "align_self": null,
            "border": null,
            "bottom": null,
            "display": null,
            "flex": null,
            "flex_flow": null,
            "grid_area": null,
            "grid_auto_columns": null,
            "grid_auto_flow": null,
            "grid_auto_rows": null,
            "grid_column": null,
            "grid_gap": null,
            "grid_row": null,
            "grid_template_areas": null,
            "grid_template_columns": null,
            "grid_template_rows": null,
            "height": null,
            "justify_content": null,
            "justify_items": null,
            "left": null,
            "margin": null,
            "max_height": null,
            "max_width": null,
            "min_height": null,
            "min_width": null,
            "object_fit": null,
            "object_position": null,
            "order": null,
            "overflow": null,
            "overflow_x": null,
            "overflow_y": null,
            "padding": null,
            "right": null,
            "top": null,
            "visibility": null,
            "width": null
          }
        },
        "d075159b75bb4041a80b58719d1238ae": {
          "model_module": "@jupyter-widgets/controls",
          "model_name": "DescriptionStyleModel",
          "model_module_version": "1.5.0",
          "state": {
            "_model_module": "@jupyter-widgets/controls",
            "_model_module_version": "1.5.0",
            "_model_name": "DescriptionStyleModel",
            "_view_count": null,
            "_view_module": "@jupyter-widgets/base",
            "_view_module_version": "1.2.0",
            "_view_name": "StyleView",
            "description_width": ""
          }
        },
        "978745f540ee4f33b2f436212378c50f": {
          "model_module": "@jupyter-widgets/base",
          "model_name": "LayoutModel",
          "model_module_version": "1.2.0",
          "state": {
            "_model_module": "@jupyter-widgets/base",
            "_model_module_version": "1.2.0",
            "_model_name": "LayoutModel",
            "_view_count": null,
            "_view_module": "@jupyter-widgets/base",
            "_view_module_version": "1.2.0",
            "_view_name": "LayoutView",
            "align_content": null,
            "align_items": null,
            "align_self": null,
            "border": null,
            "bottom": null,
            "display": null,
            "flex": null,
            "flex_flow": null,
            "grid_area": null,
            "grid_auto_columns": null,
            "grid_auto_flow": null,
            "grid_auto_rows": null,
            "grid_column": null,
            "grid_gap": null,
            "grid_row": null,
            "grid_template_areas": null,
            "grid_template_columns": null,
            "grid_template_rows": null,
            "height": null,
            "justify_content": null,
            "justify_items": null,
            "left": null,
            "margin": null,
            "max_height": null,
            "max_width": null,
            "min_height": null,
            "min_width": null,
            "object_fit": null,
            "object_position": null,
            "order": null,
            "overflow": null,
            "overflow_x": null,
            "overflow_y": null,
            "padding": null,
            "right": null,
            "top": null,
            "visibility": null,
            "width": null
          }
        },
        "9314b7e646124e68898fd40a15ad9edd": {
          "model_module": "@jupyter-widgets/controls",
          "model_name": "ProgressStyleModel",
          "model_module_version": "1.5.0",
          "state": {
            "_model_module": "@jupyter-widgets/controls",
            "_model_module_version": "1.5.0",
            "_model_name": "ProgressStyleModel",
            "_view_count": null,
            "_view_module": "@jupyter-widgets/base",
            "_view_module_version": "1.2.0",
            "_view_name": "StyleView",
            "bar_color": null,
            "description_width": ""
          }
        },
        "8b2e208f7bb944c58861a2e2f1bf9cd4": {
          "model_module": "@jupyter-widgets/base",
          "model_name": "LayoutModel",
          "model_module_version": "1.2.0",
          "state": {
            "_model_module": "@jupyter-widgets/base",
            "_model_module_version": "1.2.0",
            "_model_name": "LayoutModel",
            "_view_count": null,
            "_view_module": "@jupyter-widgets/base",
            "_view_module_version": "1.2.0",
            "_view_name": "LayoutView",
            "align_content": null,
            "align_items": null,
            "align_self": null,
            "border": null,
            "bottom": null,
            "display": null,
            "flex": null,
            "flex_flow": null,
            "grid_area": null,
            "grid_auto_columns": null,
            "grid_auto_flow": null,
            "grid_auto_rows": null,
            "grid_column": null,
            "grid_gap": null,
            "grid_row": null,
            "grid_template_areas": null,
            "grid_template_columns": null,
            "grid_template_rows": null,
            "height": null,
            "justify_content": null,
            "justify_items": null,
            "left": null,
            "margin": null,
            "max_height": null,
            "max_width": null,
            "min_height": null,
            "min_width": null,
            "object_fit": null,
            "object_position": null,
            "order": null,
            "overflow": null,
            "overflow_x": null,
            "overflow_y": null,
            "padding": null,
            "right": null,
            "top": null,
            "visibility": null,
            "width": null
          }
        },
        "f37312e4d50a414d83ae88a5edcef143": {
          "model_module": "@jupyter-widgets/controls",
          "model_name": "DescriptionStyleModel",
          "model_module_version": "1.5.0",
          "state": {
            "_model_module": "@jupyter-widgets/controls",
            "_model_module_version": "1.5.0",
            "_model_name": "DescriptionStyleModel",
            "_view_count": null,
            "_view_module": "@jupyter-widgets/base",
            "_view_module_version": "1.2.0",
            "_view_name": "StyleView",
            "description_width": ""
          }
        },
        "5d96f9f172bd4264b45a07bb0277108d": {
          "model_module": "@jupyter-widgets/controls",
          "model_name": "HBoxModel",
          "model_module_version": "1.5.0",
          "state": {
            "_dom_classes": [],
            "_model_module": "@jupyter-widgets/controls",
            "_model_module_version": "1.5.0",
            "_model_name": "HBoxModel",
            "_view_count": null,
            "_view_module": "@jupyter-widgets/controls",
            "_view_module_version": "1.5.0",
            "_view_name": "HBoxView",
            "box_style": "",
            "children": [
              "IPY_MODEL_318f55e71d2d4a13962aceb05d3b598e",
              "IPY_MODEL_b68a9f63bf8848d4ba3ad40d9afbd05a",
              "IPY_MODEL_56bad86aafc54370ba36990d7f73c3b7"
            ],
            "layout": "IPY_MODEL_81ed2a598ed34d02a5b3c8b69f51c97d"
          }
        },
        "318f55e71d2d4a13962aceb05d3b598e": {
          "model_module": "@jupyter-widgets/controls",
          "model_name": "HTMLModel",
          "model_module_version": "1.5.0",
          "state": {
            "_dom_classes": [],
            "_model_module": "@jupyter-widgets/controls",
            "_model_module_version": "1.5.0",
            "_model_name": "HTMLModel",
            "_view_count": null,
            "_view_module": "@jupyter-widgets/controls",
            "_view_module_version": "1.5.0",
            "_view_name": "HTMLView",
            "description": "",
            "description_tooltip": null,
            "layout": "IPY_MODEL_2db784bbfab941ab8519a9bf47f40335",
            "placeholder": "​",
            "style": "IPY_MODEL_4bceff0cc4d14adaa13a43389db12978",
            "value": "Downloading readme: 100%"
          }
        },
        "b68a9f63bf8848d4ba3ad40d9afbd05a": {
          "model_module": "@jupyter-widgets/controls",
          "model_name": "FloatProgressModel",
          "model_module_version": "1.5.0",
          "state": {
            "_dom_classes": [],
            "_model_module": "@jupyter-widgets/controls",
            "_model_module_version": "1.5.0",
            "_model_name": "FloatProgressModel",
            "_view_count": null,
            "_view_module": "@jupyter-widgets/controls",
            "_view_module_version": "1.5.0",
            "_view_name": "ProgressView",
            "bar_style": "success",
            "description": "",
            "description_tooltip": null,
            "layout": "IPY_MODEL_23e09a1865324575b8fbd8ce0d80a940",
            "max": 7247,
            "min": 0,
            "orientation": "horizontal",
            "style": "IPY_MODEL_faaba958cc67484494258a14b4a7dc5a",
            "value": 7247
          }
        },
        "56bad86aafc54370ba36990d7f73c3b7": {
          "model_module": "@jupyter-widgets/controls",
          "model_name": "HTMLModel",
          "model_module_version": "1.5.0",
          "state": {
            "_dom_classes": [],
            "_model_module": "@jupyter-widgets/controls",
            "_model_module_version": "1.5.0",
            "_model_name": "HTMLModel",
            "_view_count": null,
            "_view_module": "@jupyter-widgets/controls",
            "_view_module_version": "1.5.0",
            "_view_name": "HTMLView",
            "description": "",
            "description_tooltip": null,
            "layout": "IPY_MODEL_ba8cf0ea78c94282b2da5887675d03c0",
            "placeholder": "​",
            "style": "IPY_MODEL_56acee3fbcba4210bc252cc480fc0a86",
            "value": " 7.25k/7.25k [00:00&lt;00:00, 431kB/s]"
          }
        },
        "81ed2a598ed34d02a5b3c8b69f51c97d": {
          "model_module": "@jupyter-widgets/base",
          "model_name": "LayoutModel",
          "model_module_version": "1.2.0",
          "state": {
            "_model_module": "@jupyter-widgets/base",
            "_model_module_version": "1.2.0",
            "_model_name": "LayoutModel",
            "_view_count": null,
            "_view_module": "@jupyter-widgets/base",
            "_view_module_version": "1.2.0",
            "_view_name": "LayoutView",
            "align_content": null,
            "align_items": null,
            "align_self": null,
            "border": null,
            "bottom": null,
            "display": null,
            "flex": null,
            "flex_flow": null,
            "grid_area": null,
            "grid_auto_columns": null,
            "grid_auto_flow": null,
            "grid_auto_rows": null,
            "grid_column": null,
            "grid_gap": null,
            "grid_row": null,
            "grid_template_areas": null,
            "grid_template_columns": null,
            "grid_template_rows": null,
            "height": null,
            "justify_content": null,
            "justify_items": null,
            "left": null,
            "margin": null,
            "max_height": null,
            "max_width": null,
            "min_height": null,
            "min_width": null,
            "object_fit": null,
            "object_position": null,
            "order": null,
            "overflow": null,
            "overflow_x": null,
            "overflow_y": null,
            "padding": null,
            "right": null,
            "top": null,
            "visibility": null,
            "width": null
          }
        },
        "2db784bbfab941ab8519a9bf47f40335": {
          "model_module": "@jupyter-widgets/base",
          "model_name": "LayoutModel",
          "model_module_version": "1.2.0",
          "state": {
            "_model_module": "@jupyter-widgets/base",
            "_model_module_version": "1.2.0",
            "_model_name": "LayoutModel",
            "_view_count": null,
            "_view_module": "@jupyter-widgets/base",
            "_view_module_version": "1.2.0",
            "_view_name": "LayoutView",
            "align_content": null,
            "align_items": null,
            "align_self": null,
            "border": null,
            "bottom": null,
            "display": null,
            "flex": null,
            "flex_flow": null,
            "grid_area": null,
            "grid_auto_columns": null,
            "grid_auto_flow": null,
            "grid_auto_rows": null,
            "grid_column": null,
            "grid_gap": null,
            "grid_row": null,
            "grid_template_areas": null,
            "grid_template_columns": null,
            "grid_template_rows": null,
            "height": null,
            "justify_content": null,
            "justify_items": null,
            "left": null,
            "margin": null,
            "max_height": null,
            "max_width": null,
            "min_height": null,
            "min_width": null,
            "object_fit": null,
            "object_position": null,
            "order": null,
            "overflow": null,
            "overflow_x": null,
            "overflow_y": null,
            "padding": null,
            "right": null,
            "top": null,
            "visibility": null,
            "width": null
          }
        },
        "4bceff0cc4d14adaa13a43389db12978": {
          "model_module": "@jupyter-widgets/controls",
          "model_name": "DescriptionStyleModel",
          "model_module_version": "1.5.0",
          "state": {
            "_model_module": "@jupyter-widgets/controls",
            "_model_module_version": "1.5.0",
            "_model_name": "DescriptionStyleModel",
            "_view_count": null,
            "_view_module": "@jupyter-widgets/base",
            "_view_module_version": "1.2.0",
            "_view_name": "StyleView",
            "description_width": ""
          }
        },
        "23e09a1865324575b8fbd8ce0d80a940": {
          "model_module": "@jupyter-widgets/base",
          "model_name": "LayoutModel",
          "model_module_version": "1.2.0",
          "state": {
            "_model_module": "@jupyter-widgets/base",
            "_model_module_version": "1.2.0",
            "_model_name": "LayoutModel",
            "_view_count": null,
            "_view_module": "@jupyter-widgets/base",
            "_view_module_version": "1.2.0",
            "_view_name": "LayoutView",
            "align_content": null,
            "align_items": null,
            "align_self": null,
            "border": null,
            "bottom": null,
            "display": null,
            "flex": null,
            "flex_flow": null,
            "grid_area": null,
            "grid_auto_columns": null,
            "grid_auto_flow": null,
            "grid_auto_rows": null,
            "grid_column": null,
            "grid_gap": null,
            "grid_row": null,
            "grid_template_areas": null,
            "grid_template_columns": null,
            "grid_template_rows": null,
            "height": null,
            "justify_content": null,
            "justify_items": null,
            "left": null,
            "margin": null,
            "max_height": null,
            "max_width": null,
            "min_height": null,
            "min_width": null,
            "object_fit": null,
            "object_position": null,
            "order": null,
            "overflow": null,
            "overflow_x": null,
            "overflow_y": null,
            "padding": null,
            "right": null,
            "top": null,
            "visibility": null,
            "width": null
          }
        },
        "faaba958cc67484494258a14b4a7dc5a": {
          "model_module": "@jupyter-widgets/controls",
          "model_name": "ProgressStyleModel",
          "model_module_version": "1.5.0",
          "state": {
            "_model_module": "@jupyter-widgets/controls",
            "_model_module_version": "1.5.0",
            "_model_name": "ProgressStyleModel",
            "_view_count": null,
            "_view_module": "@jupyter-widgets/base",
            "_view_module_version": "1.2.0",
            "_view_name": "StyleView",
            "bar_color": null,
            "description_width": ""
          }
        },
        "ba8cf0ea78c94282b2da5887675d03c0": {
          "model_module": "@jupyter-widgets/base",
          "model_name": "LayoutModel",
          "model_module_version": "1.2.0",
          "state": {
            "_model_module": "@jupyter-widgets/base",
            "_model_module_version": "1.2.0",
            "_model_name": "LayoutModel",
            "_view_count": null,
            "_view_module": "@jupyter-widgets/base",
            "_view_module_version": "1.2.0",
            "_view_name": "LayoutView",
            "align_content": null,
            "align_items": null,
            "align_self": null,
            "border": null,
            "bottom": null,
            "display": null,
            "flex": null,
            "flex_flow": null,
            "grid_area": null,
            "grid_auto_columns": null,
            "grid_auto_flow": null,
            "grid_auto_rows": null,
            "grid_column": null,
            "grid_gap": null,
            "grid_row": null,
            "grid_template_areas": null,
            "grid_template_columns": null,
            "grid_template_rows": null,
            "height": null,
            "justify_content": null,
            "justify_items": null,
            "left": null,
            "margin": null,
            "max_height": null,
            "max_width": null,
            "min_height": null,
            "min_width": null,
            "object_fit": null,
            "object_position": null,
            "order": null,
            "overflow": null,
            "overflow_x": null,
            "overflow_y": null,
            "padding": null,
            "right": null,
            "top": null,
            "visibility": null,
            "width": null
          }
        },
        "56acee3fbcba4210bc252cc480fc0a86": {
          "model_module": "@jupyter-widgets/controls",
          "model_name": "DescriptionStyleModel",
          "model_module_version": "1.5.0",
          "state": {
            "_model_module": "@jupyter-widgets/controls",
            "_model_module_version": "1.5.0",
            "_model_name": "DescriptionStyleModel",
            "_view_count": null,
            "_view_module": "@jupyter-widgets/base",
            "_view_module_version": "1.2.0",
            "_view_name": "StyleView",
            "description_width": ""
          }
        },
        "878690cfd0f249d0a28dbcc76c924364": {
          "model_module": "@jupyter-widgets/controls",
          "model_name": "HBoxModel",
          "model_module_version": "1.5.0",
          "state": {
            "_dom_classes": [],
            "_model_module": "@jupyter-widgets/controls",
            "_model_module_version": "1.5.0",
            "_model_name": "HBoxModel",
            "_view_count": null,
            "_view_module": "@jupyter-widgets/controls",
            "_view_module_version": "1.5.0",
            "_view_name": "HBoxView",
            "box_style": "",
            "children": [
              "IPY_MODEL_bdde633a610f4f0aad1ccd51e88e4dcc",
              "IPY_MODEL_8f86ade1ab6544a88de5b9102a215aea",
              "IPY_MODEL_e545ce529cd044b99ad3896c2aa1cf2a"
            ],
            "layout": "IPY_MODEL_1b57973fc5f74ec2a52c334095651003"
          }
        },
        "bdde633a610f4f0aad1ccd51e88e4dcc": {
          "model_module": "@jupyter-widgets/controls",
          "model_name": "HTMLModel",
          "model_module_version": "1.5.0",
          "state": {
            "_dom_classes": [],
            "_model_module": "@jupyter-widgets/controls",
            "_model_module_version": "1.5.0",
            "_model_name": "HTMLModel",
            "_view_count": null,
            "_view_module": "@jupyter-widgets/controls",
            "_view_module_version": "1.5.0",
            "_view_name": "HTMLView",
            "description": "",
            "description_tooltip": null,
            "layout": "IPY_MODEL_558f27828996435a935833e452b6183e",
            "placeholder": "​",
            "style": "IPY_MODEL_e7955bd2ab764827a3ea3c62b9afc2f3",
            "value": "Downloading data: 100%"
          }
        },
        "8f86ade1ab6544a88de5b9102a215aea": {
          "model_module": "@jupyter-widgets/controls",
          "model_name": "FloatProgressModel",
          "model_module_version": "1.5.0",
          "state": {
            "_dom_classes": [],
            "_model_module": "@jupyter-widgets/controls",
            "_model_module_version": "1.5.0",
            "_model_name": "FloatProgressModel",
            "_view_count": null,
            "_view_module": "@jupyter-widgets/controls",
            "_view_module_version": "1.5.0",
            "_view_name": "ProgressView",
            "bar_style": "success",
            "description": "",
            "description_tooltip": null,
            "layout": "IPY_MODEL_6412b5ee40584c609af394d93f4f36f6",
            "max": 487770,
            "min": 0,
            "orientation": "horizontal",
            "style": "IPY_MODEL_614b166ba8004bcabab42fdf644b40f4",
            "value": 487770
          }
        },
        "e545ce529cd044b99ad3896c2aa1cf2a": {
          "model_module": "@jupyter-widgets/controls",
          "model_name": "HTMLModel",
          "model_module_version": "1.5.0",
          "state": {
            "_dom_classes": [],
            "_model_module": "@jupyter-widgets/controls",
            "_model_module_version": "1.5.0",
            "_model_name": "HTMLModel",
            "_view_count": null,
            "_view_module": "@jupyter-widgets/controls",
            "_view_module_version": "1.5.0",
            "_view_name": "HTMLView",
            "description": "",
            "description_tooltip": null,
            "layout": "IPY_MODEL_f0a4346081f3483e86d696b0a1fb7c24",
            "placeholder": "​",
            "style": "IPY_MODEL_e57ec5b6ade04877b10696c5b54f4620",
            "value": " 488k/488k [00:00&lt;00:00, 1.05MB/s]"
          }
        },
        "1b57973fc5f74ec2a52c334095651003": {
          "model_module": "@jupyter-widgets/base",
          "model_name": "LayoutModel",
          "model_module_version": "1.2.0",
          "state": {
            "_model_module": "@jupyter-widgets/base",
            "_model_module_version": "1.2.0",
            "_model_name": "LayoutModel",
            "_view_count": null,
            "_view_module": "@jupyter-widgets/base",
            "_view_module_version": "1.2.0",
            "_view_name": "LayoutView",
            "align_content": null,
            "align_items": null,
            "align_self": null,
            "border": null,
            "bottom": null,
            "display": null,
            "flex": null,
            "flex_flow": null,
            "grid_area": null,
            "grid_auto_columns": null,
            "grid_auto_flow": null,
            "grid_auto_rows": null,
            "grid_column": null,
            "grid_gap": null,
            "grid_row": null,
            "grid_template_areas": null,
            "grid_template_columns": null,
            "grid_template_rows": null,
            "height": null,
            "justify_content": null,
            "justify_items": null,
            "left": null,
            "margin": null,
            "max_height": null,
            "max_width": null,
            "min_height": null,
            "min_width": null,
            "object_fit": null,
            "object_position": null,
            "order": null,
            "overflow": null,
            "overflow_x": null,
            "overflow_y": null,
            "padding": null,
            "right": null,
            "top": null,
            "visibility": null,
            "width": null
          }
        },
        "558f27828996435a935833e452b6183e": {
          "model_module": "@jupyter-widgets/base",
          "model_name": "LayoutModel",
          "model_module_version": "1.2.0",
          "state": {
            "_model_module": "@jupyter-widgets/base",
            "_model_module_version": "1.2.0",
            "_model_name": "LayoutModel",
            "_view_count": null,
            "_view_module": "@jupyter-widgets/base",
            "_view_module_version": "1.2.0",
            "_view_name": "LayoutView",
            "align_content": null,
            "align_items": null,
            "align_self": null,
            "border": null,
            "bottom": null,
            "display": null,
            "flex": null,
            "flex_flow": null,
            "grid_area": null,
            "grid_auto_columns": null,
            "grid_auto_flow": null,
            "grid_auto_rows": null,
            "grid_column": null,
            "grid_gap": null,
            "grid_row": null,
            "grid_template_areas": null,
            "grid_template_columns": null,
            "grid_template_rows": null,
            "height": null,
            "justify_content": null,
            "justify_items": null,
            "left": null,
            "margin": null,
            "max_height": null,
            "max_width": null,
            "min_height": null,
            "min_width": null,
            "object_fit": null,
            "object_position": null,
            "order": null,
            "overflow": null,
            "overflow_x": null,
            "overflow_y": null,
            "padding": null,
            "right": null,
            "top": null,
            "visibility": null,
            "width": null
          }
        },
        "e7955bd2ab764827a3ea3c62b9afc2f3": {
          "model_module": "@jupyter-widgets/controls",
          "model_name": "DescriptionStyleModel",
          "model_module_version": "1.5.0",
          "state": {
            "_model_module": "@jupyter-widgets/controls",
            "_model_module_version": "1.5.0",
            "_model_name": "DescriptionStyleModel",
            "_view_count": null,
            "_view_module": "@jupyter-widgets/base",
            "_view_module_version": "1.2.0",
            "_view_name": "StyleView",
            "description_width": ""
          }
        },
        "6412b5ee40584c609af394d93f4f36f6": {
          "model_module": "@jupyter-widgets/base",
          "model_name": "LayoutModel",
          "model_module_version": "1.2.0",
          "state": {
            "_model_module": "@jupyter-widgets/base",
            "_model_module_version": "1.2.0",
            "_model_name": "LayoutModel",
            "_view_count": null,
            "_view_module": "@jupyter-widgets/base",
            "_view_module_version": "1.2.0",
            "_view_name": "LayoutView",
            "align_content": null,
            "align_items": null,
            "align_self": null,
            "border": null,
            "bottom": null,
            "display": null,
            "flex": null,
            "flex_flow": null,
            "grid_area": null,
            "grid_auto_columns": null,
            "grid_auto_flow": null,
            "grid_auto_rows": null,
            "grid_column": null,
            "grid_gap": null,
            "grid_row": null,
            "grid_template_areas": null,
            "grid_template_columns": null,
            "grid_template_rows": null,
            "height": null,
            "justify_content": null,
            "justify_items": null,
            "left": null,
            "margin": null,
            "max_height": null,
            "max_width": null,
            "min_height": null,
            "min_width": null,
            "object_fit": null,
            "object_position": null,
            "order": null,
            "overflow": null,
            "overflow_x": null,
            "overflow_y": null,
            "padding": null,
            "right": null,
            "top": null,
            "visibility": null,
            "width": null
          }
        },
        "614b166ba8004bcabab42fdf644b40f4": {
          "model_module": "@jupyter-widgets/controls",
          "model_name": "ProgressStyleModel",
          "model_module_version": "1.5.0",
          "state": {
            "_model_module": "@jupyter-widgets/controls",
            "_model_module_version": "1.5.0",
            "_model_name": "ProgressStyleModel",
            "_view_count": null,
            "_view_module": "@jupyter-widgets/base",
            "_view_module_version": "1.2.0",
            "_view_name": "StyleView",
            "bar_color": null,
            "description_width": ""
          }
        },
        "f0a4346081f3483e86d696b0a1fb7c24": {
          "model_module": "@jupyter-widgets/base",
          "model_name": "LayoutModel",
          "model_module_version": "1.2.0",
          "state": {
            "_model_module": "@jupyter-widgets/base",
            "_model_module_version": "1.2.0",
            "_model_name": "LayoutModel",
            "_view_count": null,
            "_view_module": "@jupyter-widgets/base",
            "_view_module_version": "1.2.0",
            "_view_name": "LayoutView",
            "align_content": null,
            "align_items": null,
            "align_self": null,
            "border": null,
            "bottom": null,
            "display": null,
            "flex": null,
            "flex_flow": null,
            "grid_area": null,
            "grid_auto_columns": null,
            "grid_auto_flow": null,
            "grid_auto_rows": null,
            "grid_column": null,
            "grid_gap": null,
            "grid_row": null,
            "grid_template_areas": null,
            "grid_template_columns": null,
            "grid_template_rows": null,
            "height": null,
            "justify_content": null,
            "justify_items": null,
            "left": null,
            "margin": null,
            "max_height": null,
            "max_width": null,
            "min_height": null,
            "min_width": null,
            "object_fit": null,
            "object_position": null,
            "order": null,
            "overflow": null,
            "overflow_x": null,
            "overflow_y": null,
            "padding": null,
            "right": null,
            "top": null,
            "visibility": null,
            "width": null
          }
        },
        "e57ec5b6ade04877b10696c5b54f4620": {
          "model_module": "@jupyter-widgets/controls",
          "model_name": "DescriptionStyleModel",
          "model_module_version": "1.5.0",
          "state": {
            "_model_module": "@jupyter-widgets/controls",
            "_model_module_version": "1.5.0",
            "_model_name": "DescriptionStyleModel",
            "_view_count": null,
            "_view_module": "@jupyter-widgets/base",
            "_view_module_version": "1.2.0",
            "_view_name": "StyleView",
            "description_width": ""
          }
        },
        "877314b2610946f395a81ed81f3038a4": {
          "model_module": "@jupyter-widgets/controls",
          "model_name": "HBoxModel",
          "model_module_version": "1.5.0",
          "state": {
            "_dom_classes": [],
            "_model_module": "@jupyter-widgets/controls",
            "_model_module_version": "1.5.0",
            "_model_name": "HBoxModel",
            "_view_count": null,
            "_view_module": "@jupyter-widgets/controls",
            "_view_module_version": "1.5.0",
            "_view_name": "HBoxView",
            "box_style": "",
            "children": [
              "IPY_MODEL_b5bc12bf20fd477e968a8441f51bf8e1",
              "IPY_MODEL_bd9543b3f55c43b8a1b7abf7f2423af4",
              "IPY_MODEL_616e30fb75f14c64b671484b88bb3089"
            ],
            "layout": "IPY_MODEL_b357e5eed20f43babcc898099a76d2e5"
          }
        },
        "b5bc12bf20fd477e968a8441f51bf8e1": {
          "model_module": "@jupyter-widgets/controls",
          "model_name": "HTMLModel",
          "model_module_version": "1.5.0",
          "state": {
            "_dom_classes": [],
            "_model_module": "@jupyter-widgets/controls",
            "_model_module_version": "1.5.0",
            "_model_name": "HTMLModel",
            "_view_count": null,
            "_view_module": "@jupyter-widgets/controls",
            "_view_module_version": "1.5.0",
            "_view_name": "HTMLView",
            "description": "",
            "description_tooltip": null,
            "layout": "IPY_MODEL_896fbaf772644882b1072fcd879bc024",
            "placeholder": "​",
            "style": "IPY_MODEL_f80d54a99a5c43e0a70bbdb837cec108",
            "value": "Generating train split:  94%"
          }
        },
        "bd9543b3f55c43b8a1b7abf7f2423af4": {
          "model_module": "@jupyter-widgets/controls",
          "model_name": "FloatProgressModel",
          "model_module_version": "1.5.0",
          "state": {
            "_dom_classes": [],
            "_model_module": "@jupyter-widgets/controls",
            "_model_module_version": "1.5.0",
            "_model_name": "FloatProgressModel",
            "_view_count": null,
            "_view_module": "@jupyter-widgets/controls",
            "_view_module_version": "1.5.0",
            "_view_name": "ProgressView",
            "bar_style": "",
            "description": "",
            "description_tooltip": null,
            "layout": "IPY_MODEL_a19088629b7f43208cb8fb2f4c7481cf",
            "max": 8530,
            "min": 0,
            "orientation": "horizontal",
            "style": "IPY_MODEL_f84a2e41cd194aaca4e2d0f0a0af9bc3",
            "value": 8530
          }
        },
        "616e30fb75f14c64b671484b88bb3089": {
          "model_module": "@jupyter-widgets/controls",
          "model_name": "HTMLModel",
          "model_module_version": "1.5.0",
          "state": {
            "_dom_classes": [],
            "_model_module": "@jupyter-widgets/controls",
            "_model_module_version": "1.5.0",
            "_model_name": "HTMLModel",
            "_view_count": null,
            "_view_module": "@jupyter-widgets/controls",
            "_view_module_version": "1.5.0",
            "_view_name": "HTMLView",
            "description": "",
            "description_tooltip": null,
            "layout": "IPY_MODEL_6e7fb0d7b7504910986a8769e7273d73",
            "placeholder": "​",
            "style": "IPY_MODEL_59357c3512ed4aff8ed7c43be4fe08e6",
            "value": " 8000/8530 [00:00&lt;00:00, 27908.13 examples/s]"
          }
        },
        "b357e5eed20f43babcc898099a76d2e5": {
          "model_module": "@jupyter-widgets/base",
          "model_name": "LayoutModel",
          "model_module_version": "1.2.0",
          "state": {
            "_model_module": "@jupyter-widgets/base",
            "_model_module_version": "1.2.0",
            "_model_name": "LayoutModel",
            "_view_count": null,
            "_view_module": "@jupyter-widgets/base",
            "_view_module_version": "1.2.0",
            "_view_name": "LayoutView",
            "align_content": null,
            "align_items": null,
            "align_self": null,
            "border": null,
            "bottom": null,
            "display": null,
            "flex": null,
            "flex_flow": null,
            "grid_area": null,
            "grid_auto_columns": null,
            "grid_auto_flow": null,
            "grid_auto_rows": null,
            "grid_column": null,
            "grid_gap": null,
            "grid_row": null,
            "grid_template_areas": null,
            "grid_template_columns": null,
            "grid_template_rows": null,
            "height": null,
            "justify_content": null,
            "justify_items": null,
            "left": null,
            "margin": null,
            "max_height": null,
            "max_width": null,
            "min_height": null,
            "min_width": null,
            "object_fit": null,
            "object_position": null,
            "order": null,
            "overflow": null,
            "overflow_x": null,
            "overflow_y": null,
            "padding": null,
            "right": null,
            "top": null,
            "visibility": "hidden",
            "width": null
          }
        },
        "896fbaf772644882b1072fcd879bc024": {
          "model_module": "@jupyter-widgets/base",
          "model_name": "LayoutModel",
          "model_module_version": "1.2.0",
          "state": {
            "_model_module": "@jupyter-widgets/base",
            "_model_module_version": "1.2.0",
            "_model_name": "LayoutModel",
            "_view_count": null,
            "_view_module": "@jupyter-widgets/base",
            "_view_module_version": "1.2.0",
            "_view_name": "LayoutView",
            "align_content": null,
            "align_items": null,
            "align_self": null,
            "border": null,
            "bottom": null,
            "display": null,
            "flex": null,
            "flex_flow": null,
            "grid_area": null,
            "grid_auto_columns": null,
            "grid_auto_flow": null,
            "grid_auto_rows": null,
            "grid_column": null,
            "grid_gap": null,
            "grid_row": null,
            "grid_template_areas": null,
            "grid_template_columns": null,
            "grid_template_rows": null,
            "height": null,
            "justify_content": null,
            "justify_items": null,
            "left": null,
            "margin": null,
            "max_height": null,
            "max_width": null,
            "min_height": null,
            "min_width": null,
            "object_fit": null,
            "object_position": null,
            "order": null,
            "overflow": null,
            "overflow_x": null,
            "overflow_y": null,
            "padding": null,
            "right": null,
            "top": null,
            "visibility": null,
            "width": null
          }
        },
        "f80d54a99a5c43e0a70bbdb837cec108": {
          "model_module": "@jupyter-widgets/controls",
          "model_name": "DescriptionStyleModel",
          "model_module_version": "1.5.0",
          "state": {
            "_model_module": "@jupyter-widgets/controls",
            "_model_module_version": "1.5.0",
            "_model_name": "DescriptionStyleModel",
            "_view_count": null,
            "_view_module": "@jupyter-widgets/base",
            "_view_module_version": "1.2.0",
            "_view_name": "StyleView",
            "description_width": ""
          }
        },
        "a19088629b7f43208cb8fb2f4c7481cf": {
          "model_module": "@jupyter-widgets/base",
          "model_name": "LayoutModel",
          "model_module_version": "1.2.0",
          "state": {
            "_model_module": "@jupyter-widgets/base",
            "_model_module_version": "1.2.0",
            "_model_name": "LayoutModel",
            "_view_count": null,
            "_view_module": "@jupyter-widgets/base",
            "_view_module_version": "1.2.0",
            "_view_name": "LayoutView",
            "align_content": null,
            "align_items": null,
            "align_self": null,
            "border": null,
            "bottom": null,
            "display": null,
            "flex": null,
            "flex_flow": null,
            "grid_area": null,
            "grid_auto_columns": null,
            "grid_auto_flow": null,
            "grid_auto_rows": null,
            "grid_column": null,
            "grid_gap": null,
            "grid_row": null,
            "grid_template_areas": null,
            "grid_template_columns": null,
            "grid_template_rows": null,
            "height": null,
            "justify_content": null,
            "justify_items": null,
            "left": null,
            "margin": null,
            "max_height": null,
            "max_width": null,
            "min_height": null,
            "min_width": null,
            "object_fit": null,
            "object_position": null,
            "order": null,
            "overflow": null,
            "overflow_x": null,
            "overflow_y": null,
            "padding": null,
            "right": null,
            "top": null,
            "visibility": null,
            "width": null
          }
        },
        "f84a2e41cd194aaca4e2d0f0a0af9bc3": {
          "model_module": "@jupyter-widgets/controls",
          "model_name": "ProgressStyleModel",
          "model_module_version": "1.5.0",
          "state": {
            "_model_module": "@jupyter-widgets/controls",
            "_model_module_version": "1.5.0",
            "_model_name": "ProgressStyleModel",
            "_view_count": null,
            "_view_module": "@jupyter-widgets/base",
            "_view_module_version": "1.2.0",
            "_view_name": "StyleView",
            "bar_color": null,
            "description_width": ""
          }
        },
        "6e7fb0d7b7504910986a8769e7273d73": {
          "model_module": "@jupyter-widgets/base",
          "model_name": "LayoutModel",
          "model_module_version": "1.2.0",
          "state": {
            "_model_module": "@jupyter-widgets/base",
            "_model_module_version": "1.2.0",
            "_model_name": "LayoutModel",
            "_view_count": null,
            "_view_module": "@jupyter-widgets/base",
            "_view_module_version": "1.2.0",
            "_view_name": "LayoutView",
            "align_content": null,
            "align_items": null,
            "align_self": null,
            "border": null,
            "bottom": null,
            "display": null,
            "flex": null,
            "flex_flow": null,
            "grid_area": null,
            "grid_auto_columns": null,
            "grid_auto_flow": null,
            "grid_auto_rows": null,
            "grid_column": null,
            "grid_gap": null,
            "grid_row": null,
            "grid_template_areas": null,
            "grid_template_columns": null,
            "grid_template_rows": null,
            "height": null,
            "justify_content": null,
            "justify_items": null,
            "left": null,
            "margin": null,
            "max_height": null,
            "max_width": null,
            "min_height": null,
            "min_width": null,
            "object_fit": null,
            "object_position": null,
            "order": null,
            "overflow": null,
            "overflow_x": null,
            "overflow_y": null,
            "padding": null,
            "right": null,
            "top": null,
            "visibility": null,
            "width": null
          }
        },
        "59357c3512ed4aff8ed7c43be4fe08e6": {
          "model_module": "@jupyter-widgets/controls",
          "model_name": "DescriptionStyleModel",
          "model_module_version": "1.5.0",
          "state": {
            "_model_module": "@jupyter-widgets/controls",
            "_model_module_version": "1.5.0",
            "_model_name": "DescriptionStyleModel",
            "_view_count": null,
            "_view_module": "@jupyter-widgets/base",
            "_view_module_version": "1.2.0",
            "_view_name": "StyleView",
            "description_width": ""
          }
        },
        "facc3b70d67e481c9f45901279ab9460": {
          "model_module": "@jupyter-widgets/controls",
          "model_name": "HBoxModel",
          "model_module_version": "1.5.0",
          "state": {
            "_dom_classes": [],
            "_model_module": "@jupyter-widgets/controls",
            "_model_module_version": "1.5.0",
            "_model_name": "HBoxModel",
            "_view_count": null,
            "_view_module": "@jupyter-widgets/controls",
            "_view_module_version": "1.5.0",
            "_view_name": "HBoxView",
            "box_style": "",
            "children": [
              "IPY_MODEL_46041ebce1b34f8db21c8a94b02a1732",
              "IPY_MODEL_1d704284615d4aaabce7d9f224c85b6c",
              "IPY_MODEL_311fee2f73ff4e168abe40788b8a5c16"
            ],
            "layout": "IPY_MODEL_fc37c950c1954a02b9826f1bfe74e532"
          }
        },
        "46041ebce1b34f8db21c8a94b02a1732": {
          "model_module": "@jupyter-widgets/controls",
          "model_name": "HTMLModel",
          "model_module_version": "1.5.0",
          "state": {
            "_dom_classes": [],
            "_model_module": "@jupyter-widgets/controls",
            "_model_module_version": "1.5.0",
            "_model_name": "HTMLModel",
            "_view_count": null,
            "_view_module": "@jupyter-widgets/controls",
            "_view_module_version": "1.5.0",
            "_view_name": "HTMLView",
            "description": "",
            "description_tooltip": null,
            "layout": "IPY_MODEL_7219eeb7928e44698e504df192e70b8e",
            "placeholder": "​",
            "style": "IPY_MODEL_aa540cad244c4cf7beb24e8e6e5a7cc6",
            "value": "Generating validation split:   0%"
          }
        },
        "1d704284615d4aaabce7d9f224c85b6c": {
          "model_module": "@jupyter-widgets/controls",
          "model_name": "FloatProgressModel",
          "model_module_version": "1.5.0",
          "state": {
            "_dom_classes": [],
            "_model_module": "@jupyter-widgets/controls",
            "_model_module_version": "1.5.0",
            "_model_name": "FloatProgressModel",
            "_view_count": null,
            "_view_module": "@jupyter-widgets/controls",
            "_view_module_version": "1.5.0",
            "_view_name": "ProgressView",
            "bar_style": "",
            "description": "",
            "description_tooltip": null,
            "layout": "IPY_MODEL_f37c4169078b4fea803348aa37fa4970",
            "max": 1066,
            "min": 0,
            "orientation": "horizontal",
            "style": "IPY_MODEL_68e0cae0e02e4601909951e191476997",
            "value": 1066
          }
        },
        "311fee2f73ff4e168abe40788b8a5c16": {
          "model_module": "@jupyter-widgets/controls",
          "model_name": "HTMLModel",
          "model_module_version": "1.5.0",
          "state": {
            "_dom_classes": [],
            "_model_module": "@jupyter-widgets/controls",
            "_model_module_version": "1.5.0",
            "_model_name": "HTMLModel",
            "_view_count": null,
            "_view_module": "@jupyter-widgets/controls",
            "_view_module_version": "1.5.0",
            "_view_name": "HTMLView",
            "description": "",
            "description_tooltip": null,
            "layout": "IPY_MODEL_2355c569c7e8482784b0e154c9cfaab3",
            "placeholder": "​",
            "style": "IPY_MODEL_4bd06206ddff48229577e7d04247aafd",
            "value": " 0/1066 [00:00&lt;?, ? examples/s]"
          }
        },
        "fc37c950c1954a02b9826f1bfe74e532": {
          "model_module": "@jupyter-widgets/base",
          "model_name": "LayoutModel",
          "model_module_version": "1.2.0",
          "state": {
            "_model_module": "@jupyter-widgets/base",
            "_model_module_version": "1.2.0",
            "_model_name": "LayoutModel",
            "_view_count": null,
            "_view_module": "@jupyter-widgets/base",
            "_view_module_version": "1.2.0",
            "_view_name": "LayoutView",
            "align_content": null,
            "align_items": null,
            "align_self": null,
            "border": null,
            "bottom": null,
            "display": null,
            "flex": null,
            "flex_flow": null,
            "grid_area": null,
            "grid_auto_columns": null,
            "grid_auto_flow": null,
            "grid_auto_rows": null,
            "grid_column": null,
            "grid_gap": null,
            "grid_row": null,
            "grid_template_areas": null,
            "grid_template_columns": null,
            "grid_template_rows": null,
            "height": null,
            "justify_content": null,
            "justify_items": null,
            "left": null,
            "margin": null,
            "max_height": null,
            "max_width": null,
            "min_height": null,
            "min_width": null,
            "object_fit": null,
            "object_position": null,
            "order": null,
            "overflow": null,
            "overflow_x": null,
            "overflow_y": null,
            "padding": null,
            "right": null,
            "top": null,
            "visibility": "hidden",
            "width": null
          }
        },
        "7219eeb7928e44698e504df192e70b8e": {
          "model_module": "@jupyter-widgets/base",
          "model_name": "LayoutModel",
          "model_module_version": "1.2.0",
          "state": {
            "_model_module": "@jupyter-widgets/base",
            "_model_module_version": "1.2.0",
            "_model_name": "LayoutModel",
            "_view_count": null,
            "_view_module": "@jupyter-widgets/base",
            "_view_module_version": "1.2.0",
            "_view_name": "LayoutView",
            "align_content": null,
            "align_items": null,
            "align_self": null,
            "border": null,
            "bottom": null,
            "display": null,
            "flex": null,
            "flex_flow": null,
            "grid_area": null,
            "grid_auto_columns": null,
            "grid_auto_flow": null,
            "grid_auto_rows": null,
            "grid_column": null,
            "grid_gap": null,
            "grid_row": null,
            "grid_template_areas": null,
            "grid_template_columns": null,
            "grid_template_rows": null,
            "height": null,
            "justify_content": null,
            "justify_items": null,
            "left": null,
            "margin": null,
            "max_height": null,
            "max_width": null,
            "min_height": null,
            "min_width": null,
            "object_fit": null,
            "object_position": null,
            "order": null,
            "overflow": null,
            "overflow_x": null,
            "overflow_y": null,
            "padding": null,
            "right": null,
            "top": null,
            "visibility": null,
            "width": null
          }
        },
        "aa540cad244c4cf7beb24e8e6e5a7cc6": {
          "model_module": "@jupyter-widgets/controls",
          "model_name": "DescriptionStyleModel",
          "model_module_version": "1.5.0",
          "state": {
            "_model_module": "@jupyter-widgets/controls",
            "_model_module_version": "1.5.0",
            "_model_name": "DescriptionStyleModel",
            "_view_count": null,
            "_view_module": "@jupyter-widgets/base",
            "_view_module_version": "1.2.0",
            "_view_name": "StyleView",
            "description_width": ""
          }
        },
        "f37c4169078b4fea803348aa37fa4970": {
          "model_module": "@jupyter-widgets/base",
          "model_name": "LayoutModel",
          "model_module_version": "1.2.0",
          "state": {
            "_model_module": "@jupyter-widgets/base",
            "_model_module_version": "1.2.0",
            "_model_name": "LayoutModel",
            "_view_count": null,
            "_view_module": "@jupyter-widgets/base",
            "_view_module_version": "1.2.0",
            "_view_name": "LayoutView",
            "align_content": null,
            "align_items": null,
            "align_self": null,
            "border": null,
            "bottom": null,
            "display": null,
            "flex": null,
            "flex_flow": null,
            "grid_area": null,
            "grid_auto_columns": null,
            "grid_auto_flow": null,
            "grid_auto_rows": null,
            "grid_column": null,
            "grid_gap": null,
            "grid_row": null,
            "grid_template_areas": null,
            "grid_template_columns": null,
            "grid_template_rows": null,
            "height": null,
            "justify_content": null,
            "justify_items": null,
            "left": null,
            "margin": null,
            "max_height": null,
            "max_width": null,
            "min_height": null,
            "min_width": null,
            "object_fit": null,
            "object_position": null,
            "order": null,
            "overflow": null,
            "overflow_x": null,
            "overflow_y": null,
            "padding": null,
            "right": null,
            "top": null,
            "visibility": null,
            "width": null
          }
        },
        "68e0cae0e02e4601909951e191476997": {
          "model_module": "@jupyter-widgets/controls",
          "model_name": "ProgressStyleModel",
          "model_module_version": "1.5.0",
          "state": {
            "_model_module": "@jupyter-widgets/controls",
            "_model_module_version": "1.5.0",
            "_model_name": "ProgressStyleModel",
            "_view_count": null,
            "_view_module": "@jupyter-widgets/base",
            "_view_module_version": "1.2.0",
            "_view_name": "StyleView",
            "bar_color": null,
            "description_width": ""
          }
        },
        "2355c569c7e8482784b0e154c9cfaab3": {
          "model_module": "@jupyter-widgets/base",
          "model_name": "LayoutModel",
          "model_module_version": "1.2.0",
          "state": {
            "_model_module": "@jupyter-widgets/base",
            "_model_module_version": "1.2.0",
            "_model_name": "LayoutModel",
            "_view_count": null,
            "_view_module": "@jupyter-widgets/base",
            "_view_module_version": "1.2.0",
            "_view_name": "LayoutView",
            "align_content": null,
            "align_items": null,
            "align_self": null,
            "border": null,
            "bottom": null,
            "display": null,
            "flex": null,
            "flex_flow": null,
            "grid_area": null,
            "grid_auto_columns": null,
            "grid_auto_flow": null,
            "grid_auto_rows": null,
            "grid_column": null,
            "grid_gap": null,
            "grid_row": null,
            "grid_template_areas": null,
            "grid_template_columns": null,
            "grid_template_rows": null,
            "height": null,
            "justify_content": null,
            "justify_items": null,
            "left": null,
            "margin": null,
            "max_height": null,
            "max_width": null,
            "min_height": null,
            "min_width": null,
            "object_fit": null,
            "object_position": null,
            "order": null,
            "overflow": null,
            "overflow_x": null,
            "overflow_y": null,
            "padding": null,
            "right": null,
            "top": null,
            "visibility": null,
            "width": null
          }
        },
        "4bd06206ddff48229577e7d04247aafd": {
          "model_module": "@jupyter-widgets/controls",
          "model_name": "DescriptionStyleModel",
          "model_module_version": "1.5.0",
          "state": {
            "_model_module": "@jupyter-widgets/controls",
            "_model_module_version": "1.5.0",
            "_model_name": "DescriptionStyleModel",
            "_view_count": null,
            "_view_module": "@jupyter-widgets/base",
            "_view_module_version": "1.2.0",
            "_view_name": "StyleView",
            "description_width": ""
          }
        },
        "0e1a9b2006f94fa990067f25740f5b22": {
          "model_module": "@jupyter-widgets/controls",
          "model_name": "HBoxModel",
          "model_module_version": "1.5.0",
          "state": {
            "_dom_classes": [],
            "_model_module": "@jupyter-widgets/controls",
            "_model_module_version": "1.5.0",
            "_model_name": "HBoxModel",
            "_view_count": null,
            "_view_module": "@jupyter-widgets/controls",
            "_view_module_version": "1.5.0",
            "_view_name": "HBoxView",
            "box_style": "",
            "children": [
              "IPY_MODEL_b0ae82c418864e21a396f636b1c8e9e5",
              "IPY_MODEL_ecd07a46e2e84c0cb35de8090645a733",
              "IPY_MODEL_c1398654796248ada3f213e39940fa8c"
            ],
            "layout": "IPY_MODEL_1b0a219fb50a4bfc97ed8ad7826cebdc"
          }
        },
        "b0ae82c418864e21a396f636b1c8e9e5": {
          "model_module": "@jupyter-widgets/controls",
          "model_name": "HTMLModel",
          "model_module_version": "1.5.0",
          "state": {
            "_dom_classes": [],
            "_model_module": "@jupyter-widgets/controls",
            "_model_module_version": "1.5.0",
            "_model_name": "HTMLModel",
            "_view_count": null,
            "_view_module": "@jupyter-widgets/controls",
            "_view_module_version": "1.5.0",
            "_view_name": "HTMLView",
            "description": "",
            "description_tooltip": null,
            "layout": "IPY_MODEL_c9f0fb616e6e4cff975754fd2611ff3a",
            "placeholder": "​",
            "style": "IPY_MODEL_9e531f7ae2fc430b856e4ce05ee6b102",
            "value": "Generating test split:   0%"
          }
        },
        "ecd07a46e2e84c0cb35de8090645a733": {
          "model_module": "@jupyter-widgets/controls",
          "model_name": "FloatProgressModel",
          "model_module_version": "1.5.0",
          "state": {
            "_dom_classes": [],
            "_model_module": "@jupyter-widgets/controls",
            "_model_module_version": "1.5.0",
            "_model_name": "FloatProgressModel",
            "_view_count": null,
            "_view_module": "@jupyter-widgets/controls",
            "_view_module_version": "1.5.0",
            "_view_name": "ProgressView",
            "bar_style": "",
            "description": "",
            "description_tooltip": null,
            "layout": "IPY_MODEL_2b01ae0e6bfe49e18214b84b3048bcb4",
            "max": 1066,
            "min": 0,
            "orientation": "horizontal",
            "style": "IPY_MODEL_7c324a3cd1334a63ae5d310f8db3f9c1",
            "value": 1066
          }
        },
        "c1398654796248ada3f213e39940fa8c": {
          "model_module": "@jupyter-widgets/controls",
          "model_name": "HTMLModel",
          "model_module_version": "1.5.0",
          "state": {
            "_dom_classes": [],
            "_model_module": "@jupyter-widgets/controls",
            "_model_module_version": "1.5.0",
            "_model_name": "HTMLModel",
            "_view_count": null,
            "_view_module": "@jupyter-widgets/controls",
            "_view_module_version": "1.5.0",
            "_view_name": "HTMLView",
            "description": "",
            "description_tooltip": null,
            "layout": "IPY_MODEL_99b61f63356d4e998dd3d6b6f7b663c8",
            "placeholder": "​",
            "style": "IPY_MODEL_46d26a0dbc37486692ef7fcac7491a90",
            "value": " 0/1066 [00:00&lt;?, ? examples/s]"
          }
        },
        "1b0a219fb50a4bfc97ed8ad7826cebdc": {
          "model_module": "@jupyter-widgets/base",
          "model_name": "LayoutModel",
          "model_module_version": "1.2.0",
          "state": {
            "_model_module": "@jupyter-widgets/base",
            "_model_module_version": "1.2.0",
            "_model_name": "LayoutModel",
            "_view_count": null,
            "_view_module": "@jupyter-widgets/base",
            "_view_module_version": "1.2.0",
            "_view_name": "LayoutView",
            "align_content": null,
            "align_items": null,
            "align_self": null,
            "border": null,
            "bottom": null,
            "display": null,
            "flex": null,
            "flex_flow": null,
            "grid_area": null,
            "grid_auto_columns": null,
            "grid_auto_flow": null,
            "grid_auto_rows": null,
            "grid_column": null,
            "grid_gap": null,
            "grid_row": null,
            "grid_template_areas": null,
            "grid_template_columns": null,
            "grid_template_rows": null,
            "height": null,
            "justify_content": null,
            "justify_items": null,
            "left": null,
            "margin": null,
            "max_height": null,
            "max_width": null,
            "min_height": null,
            "min_width": null,
            "object_fit": null,
            "object_position": null,
            "order": null,
            "overflow": null,
            "overflow_x": null,
            "overflow_y": null,
            "padding": null,
            "right": null,
            "top": null,
            "visibility": "hidden",
            "width": null
          }
        },
        "c9f0fb616e6e4cff975754fd2611ff3a": {
          "model_module": "@jupyter-widgets/base",
          "model_name": "LayoutModel",
          "model_module_version": "1.2.0",
          "state": {
            "_model_module": "@jupyter-widgets/base",
            "_model_module_version": "1.2.0",
            "_model_name": "LayoutModel",
            "_view_count": null,
            "_view_module": "@jupyter-widgets/base",
            "_view_module_version": "1.2.0",
            "_view_name": "LayoutView",
            "align_content": null,
            "align_items": null,
            "align_self": null,
            "border": null,
            "bottom": null,
            "display": null,
            "flex": null,
            "flex_flow": null,
            "grid_area": null,
            "grid_auto_columns": null,
            "grid_auto_flow": null,
            "grid_auto_rows": null,
            "grid_column": null,
            "grid_gap": null,
            "grid_row": null,
            "grid_template_areas": null,
            "grid_template_columns": null,
            "grid_template_rows": null,
            "height": null,
            "justify_content": null,
            "justify_items": null,
            "left": null,
            "margin": null,
            "max_height": null,
            "max_width": null,
            "min_height": null,
            "min_width": null,
            "object_fit": null,
            "object_position": null,
            "order": null,
            "overflow": null,
            "overflow_x": null,
            "overflow_y": null,
            "padding": null,
            "right": null,
            "top": null,
            "visibility": null,
            "width": null
          }
        },
        "9e531f7ae2fc430b856e4ce05ee6b102": {
          "model_module": "@jupyter-widgets/controls",
          "model_name": "DescriptionStyleModel",
          "model_module_version": "1.5.0",
          "state": {
            "_model_module": "@jupyter-widgets/controls",
            "_model_module_version": "1.5.0",
            "_model_name": "DescriptionStyleModel",
            "_view_count": null,
            "_view_module": "@jupyter-widgets/base",
            "_view_module_version": "1.2.0",
            "_view_name": "StyleView",
            "description_width": ""
          }
        },
        "2b01ae0e6bfe49e18214b84b3048bcb4": {
          "model_module": "@jupyter-widgets/base",
          "model_name": "LayoutModel",
          "model_module_version": "1.2.0",
          "state": {
            "_model_module": "@jupyter-widgets/base",
            "_model_module_version": "1.2.0",
            "_model_name": "LayoutModel",
            "_view_count": null,
            "_view_module": "@jupyter-widgets/base",
            "_view_module_version": "1.2.0",
            "_view_name": "LayoutView",
            "align_content": null,
            "align_items": null,
            "align_self": null,
            "border": null,
            "bottom": null,
            "display": null,
            "flex": null,
            "flex_flow": null,
            "grid_area": null,
            "grid_auto_columns": null,
            "grid_auto_flow": null,
            "grid_auto_rows": null,
            "grid_column": null,
            "grid_gap": null,
            "grid_row": null,
            "grid_template_areas": null,
            "grid_template_columns": null,
            "grid_template_rows": null,
            "height": null,
            "justify_content": null,
            "justify_items": null,
            "left": null,
            "margin": null,
            "max_height": null,
            "max_width": null,
            "min_height": null,
            "min_width": null,
            "object_fit": null,
            "object_position": null,
            "order": null,
            "overflow": null,
            "overflow_x": null,
            "overflow_y": null,
            "padding": null,
            "right": null,
            "top": null,
            "visibility": null,
            "width": null
          }
        },
        "7c324a3cd1334a63ae5d310f8db3f9c1": {
          "model_module": "@jupyter-widgets/controls",
          "model_name": "ProgressStyleModel",
          "model_module_version": "1.5.0",
          "state": {
            "_model_module": "@jupyter-widgets/controls",
            "_model_module_version": "1.5.0",
            "_model_name": "ProgressStyleModel",
            "_view_count": null,
            "_view_module": "@jupyter-widgets/base",
            "_view_module_version": "1.2.0",
            "_view_name": "StyleView",
            "bar_color": null,
            "description_width": ""
          }
        },
        "99b61f63356d4e998dd3d6b6f7b663c8": {
          "model_module": "@jupyter-widgets/base",
          "model_name": "LayoutModel",
          "model_module_version": "1.2.0",
          "state": {
            "_model_module": "@jupyter-widgets/base",
            "_model_module_version": "1.2.0",
            "_model_name": "LayoutModel",
            "_view_count": null,
            "_view_module": "@jupyter-widgets/base",
            "_view_module_version": "1.2.0",
            "_view_name": "LayoutView",
            "align_content": null,
            "align_items": null,
            "align_self": null,
            "border": null,
            "bottom": null,
            "display": null,
            "flex": null,
            "flex_flow": null,
            "grid_area": null,
            "grid_auto_columns": null,
            "grid_auto_flow": null,
            "grid_auto_rows": null,
            "grid_column": null,
            "grid_gap": null,
            "grid_row": null,
            "grid_template_areas": null,
            "grid_template_columns": null,
            "grid_template_rows": null,
            "height": null,
            "justify_content": null,
            "justify_items": null,
            "left": null,
            "margin": null,
            "max_height": null,
            "max_width": null,
            "min_height": null,
            "min_width": null,
            "object_fit": null,
            "object_position": null,
            "order": null,
            "overflow": null,
            "overflow_x": null,
            "overflow_y": null,
            "padding": null,
            "right": null,
            "top": null,
            "visibility": null,
            "width": null
          }
        },
        "46d26a0dbc37486692ef7fcac7491a90": {
          "model_module": "@jupyter-widgets/controls",
          "model_name": "DescriptionStyleModel",
          "model_module_version": "1.5.0",
          "state": {
            "_model_module": "@jupyter-widgets/controls",
            "_model_module_version": "1.5.0",
            "_model_name": "DescriptionStyleModel",
            "_view_count": null,
            "_view_module": "@jupyter-widgets/base",
            "_view_module_version": "1.2.0",
            "_view_name": "StyleView",
            "description_width": ""
          }
        },
        "cee5f9bb41cb461cae54734209157155": {
          "model_module": "@jupyter-widgets/controls",
          "model_name": "HBoxModel",
          "model_module_version": "1.5.0",
          "state": {
            "_dom_classes": [],
            "_model_module": "@jupyter-widgets/controls",
            "_model_module_version": "1.5.0",
            "_model_name": "HBoxModel",
            "_view_count": null,
            "_view_module": "@jupyter-widgets/controls",
            "_view_module_version": "1.5.0",
            "_view_name": "HBoxView",
            "box_style": "",
            "children": [
              "IPY_MODEL_d6194d5ede6e449fbfdede2bc387e8f6",
              "IPY_MODEL_0f798c6c65f244df822ae7e554f12551",
              "IPY_MODEL_aac61437e0be4231baba9666b6c02893"
            ],
            "layout": "IPY_MODEL_7e9f239e81094515a6d0a3dc06b7d9e6"
          }
        },
        "d6194d5ede6e449fbfdede2bc387e8f6": {
          "model_module": "@jupyter-widgets/controls",
          "model_name": "HTMLModel",
          "model_module_version": "1.5.0",
          "state": {
            "_dom_classes": [],
            "_model_module": "@jupyter-widgets/controls",
            "_model_module_version": "1.5.0",
            "_model_name": "HTMLModel",
            "_view_count": null,
            "_view_module": "@jupyter-widgets/controls",
            "_view_module_version": "1.5.0",
            "_view_name": "HTMLView",
            "description": "",
            "description_tooltip": null,
            "layout": "IPY_MODEL_6c94a9ac3a0942b496945129ce24ce74",
            "placeholder": "​",
            "style": "IPY_MODEL_26f84460b0d04677bb61ad6aa9674035",
            "value": "100%"
          }
        },
        "0f798c6c65f244df822ae7e554f12551": {
          "model_module": "@jupyter-widgets/controls",
          "model_name": "FloatProgressModel",
          "model_module_version": "1.5.0",
          "state": {
            "_dom_classes": [],
            "_model_module": "@jupyter-widgets/controls",
            "_model_module_version": "1.5.0",
            "_model_name": "FloatProgressModel",
            "_view_count": null,
            "_view_module": "@jupyter-widgets/controls",
            "_view_module_version": "1.5.0",
            "_view_name": "ProgressView",
            "bar_style": "success",
            "description": "",
            "description_tooltip": null,
            "layout": "IPY_MODEL_82f50718603440d090c9a3bf471affd7",
            "max": 3,
            "min": 0,
            "orientation": "horizontal",
            "style": "IPY_MODEL_939f7c5f4670430db6ccd68990e09dd8",
            "value": 3
          }
        },
        "aac61437e0be4231baba9666b6c02893": {
          "model_module": "@jupyter-widgets/controls",
          "model_name": "HTMLModel",
          "model_module_version": "1.5.0",
          "state": {
            "_dom_classes": [],
            "_model_module": "@jupyter-widgets/controls",
            "_model_module_version": "1.5.0",
            "_model_name": "HTMLModel",
            "_view_count": null,
            "_view_module": "@jupyter-widgets/controls",
            "_view_module_version": "1.5.0",
            "_view_name": "HTMLView",
            "description": "",
            "description_tooltip": null,
            "layout": "IPY_MODEL_e31be130b0da4774bc35ecc63c82ffc9",
            "placeholder": "​",
            "style": "IPY_MODEL_ac0ea838382e421f93298f42b675c4cd",
            "value": " 3/3 [00:00&lt;00:00, 89.65it/s]"
          }
        },
        "7e9f239e81094515a6d0a3dc06b7d9e6": {
          "model_module": "@jupyter-widgets/base",
          "model_name": "LayoutModel",
          "model_module_version": "1.2.0",
          "state": {
            "_model_module": "@jupyter-widgets/base",
            "_model_module_version": "1.2.0",
            "_model_name": "LayoutModel",
            "_view_count": null,
            "_view_module": "@jupyter-widgets/base",
            "_view_module_version": "1.2.0",
            "_view_name": "LayoutView",
            "align_content": null,
            "align_items": null,
            "align_self": null,
            "border": null,
            "bottom": null,
            "display": null,
            "flex": null,
            "flex_flow": null,
            "grid_area": null,
            "grid_auto_columns": null,
            "grid_auto_flow": null,
            "grid_auto_rows": null,
            "grid_column": null,
            "grid_gap": null,
            "grid_row": null,
            "grid_template_areas": null,
            "grid_template_columns": null,
            "grid_template_rows": null,
            "height": null,
            "justify_content": null,
            "justify_items": null,
            "left": null,
            "margin": null,
            "max_height": null,
            "max_width": null,
            "min_height": null,
            "min_width": null,
            "object_fit": null,
            "object_position": null,
            "order": null,
            "overflow": null,
            "overflow_x": null,
            "overflow_y": null,
            "padding": null,
            "right": null,
            "top": null,
            "visibility": null,
            "width": null
          }
        },
        "6c94a9ac3a0942b496945129ce24ce74": {
          "model_module": "@jupyter-widgets/base",
          "model_name": "LayoutModel",
          "model_module_version": "1.2.0",
          "state": {
            "_model_module": "@jupyter-widgets/base",
            "_model_module_version": "1.2.0",
            "_model_name": "LayoutModel",
            "_view_count": null,
            "_view_module": "@jupyter-widgets/base",
            "_view_module_version": "1.2.0",
            "_view_name": "LayoutView",
            "align_content": null,
            "align_items": null,
            "align_self": null,
            "border": null,
            "bottom": null,
            "display": null,
            "flex": null,
            "flex_flow": null,
            "grid_area": null,
            "grid_auto_columns": null,
            "grid_auto_flow": null,
            "grid_auto_rows": null,
            "grid_column": null,
            "grid_gap": null,
            "grid_row": null,
            "grid_template_areas": null,
            "grid_template_columns": null,
            "grid_template_rows": null,
            "height": null,
            "justify_content": null,
            "justify_items": null,
            "left": null,
            "margin": null,
            "max_height": null,
            "max_width": null,
            "min_height": null,
            "min_width": null,
            "object_fit": null,
            "object_position": null,
            "order": null,
            "overflow": null,
            "overflow_x": null,
            "overflow_y": null,
            "padding": null,
            "right": null,
            "top": null,
            "visibility": null,
            "width": null
          }
        },
        "26f84460b0d04677bb61ad6aa9674035": {
          "model_module": "@jupyter-widgets/controls",
          "model_name": "DescriptionStyleModel",
          "model_module_version": "1.5.0",
          "state": {
            "_model_module": "@jupyter-widgets/controls",
            "_model_module_version": "1.5.0",
            "_model_name": "DescriptionStyleModel",
            "_view_count": null,
            "_view_module": "@jupyter-widgets/base",
            "_view_module_version": "1.2.0",
            "_view_name": "StyleView",
            "description_width": ""
          }
        },
        "82f50718603440d090c9a3bf471affd7": {
          "model_module": "@jupyter-widgets/base",
          "model_name": "LayoutModel",
          "model_module_version": "1.2.0",
          "state": {
            "_model_module": "@jupyter-widgets/base",
            "_model_module_version": "1.2.0",
            "_model_name": "LayoutModel",
            "_view_count": null,
            "_view_module": "@jupyter-widgets/base",
            "_view_module_version": "1.2.0",
            "_view_name": "LayoutView",
            "align_content": null,
            "align_items": null,
            "align_self": null,
            "border": null,
            "bottom": null,
            "display": null,
            "flex": null,
            "flex_flow": null,
            "grid_area": null,
            "grid_auto_columns": null,
            "grid_auto_flow": null,
            "grid_auto_rows": null,
            "grid_column": null,
            "grid_gap": null,
            "grid_row": null,
            "grid_template_areas": null,
            "grid_template_columns": null,
            "grid_template_rows": null,
            "height": null,
            "justify_content": null,
            "justify_items": null,
            "left": null,
            "margin": null,
            "max_height": null,
            "max_width": null,
            "min_height": null,
            "min_width": null,
            "object_fit": null,
            "object_position": null,
            "order": null,
            "overflow": null,
            "overflow_x": null,
            "overflow_y": null,
            "padding": null,
            "right": null,
            "top": null,
            "visibility": null,
            "width": null
          }
        },
        "939f7c5f4670430db6ccd68990e09dd8": {
          "model_module": "@jupyter-widgets/controls",
          "model_name": "ProgressStyleModel",
          "model_module_version": "1.5.0",
          "state": {
            "_model_module": "@jupyter-widgets/controls",
            "_model_module_version": "1.5.0",
            "_model_name": "ProgressStyleModel",
            "_view_count": null,
            "_view_module": "@jupyter-widgets/base",
            "_view_module_version": "1.2.0",
            "_view_name": "StyleView",
            "bar_color": null,
            "description_width": ""
          }
        },
        "e31be130b0da4774bc35ecc63c82ffc9": {
          "model_module": "@jupyter-widgets/base",
          "model_name": "LayoutModel",
          "model_module_version": "1.2.0",
          "state": {
            "_model_module": "@jupyter-widgets/base",
            "_model_module_version": "1.2.0",
            "_model_name": "LayoutModel",
            "_view_count": null,
            "_view_module": "@jupyter-widgets/base",
            "_view_module_version": "1.2.0",
            "_view_name": "LayoutView",
            "align_content": null,
            "align_items": null,
            "align_self": null,
            "border": null,
            "bottom": null,
            "display": null,
            "flex": null,
            "flex_flow": null,
            "grid_area": null,
            "grid_auto_columns": null,
            "grid_auto_flow": null,
            "grid_auto_rows": null,
            "grid_column": null,
            "grid_gap": null,
            "grid_row": null,
            "grid_template_areas": null,
            "grid_template_columns": null,
            "grid_template_rows": null,
            "height": null,
            "justify_content": null,
            "justify_items": null,
            "left": null,
            "margin": null,
            "max_height": null,
            "max_width": null,
            "min_height": null,
            "min_width": null,
            "object_fit": null,
            "object_position": null,
            "order": null,
            "overflow": null,
            "overflow_x": null,
            "overflow_y": null,
            "padding": null,
            "right": null,
            "top": null,
            "visibility": null,
            "width": null
          }
        },
        "ac0ea838382e421f93298f42b675c4cd": {
          "model_module": "@jupyter-widgets/controls",
          "model_name": "DescriptionStyleModel",
          "model_module_version": "1.5.0",
          "state": {
            "_model_module": "@jupyter-widgets/controls",
            "_model_module_version": "1.5.0",
            "_model_name": "DescriptionStyleModel",
            "_view_count": null,
            "_view_module": "@jupyter-widgets/base",
            "_view_module_version": "1.2.0",
            "_view_name": "StyleView",
            "description_width": ""
          }
        }
      }
    }
  },
  "cells": [
    {
      "cell_type": "markdown",
      "source": [
        "<center><img src='data:image/svg+xml;base64,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' width='300' height='300'>\n",
        "\n",
        "https://bit.ly/8723EnrichmentS2\n",
        "</center>"
      ],
      "metadata": {
        "id": "4wO7kwjCybdT"
      }
    },
    {
      "cell_type": "markdown",
      "source": [
        "### Libraries"
      ],
      "metadata": {
        "id": "DRzWsFpM-x6X"
      }
    },
    {
      "cell_type": "code",
      "source": [
        "!pip install transformers datasets evaluate -q"
      ],
      "metadata": {
        "id": "OYodgRPPzSOb",
        "colab": {
          "base_uri": "https://localhost:8080/"
        },
        "outputId": "370c1301-8c10-487d-c0ec-151b8ebeab87"
      },
      "execution_count": null,
      "outputs": [
        {
          "output_type": "stream",
          "name": "stdout",
          "text": [
            "\u001b[2K     \u001b[90m━━━━━━━━━━━━━━━━━━━━━━━━━━━━━━━━━━━━━━━━\u001b[0m \u001b[32m7.4/7.4 MB\u001b[0m \u001b[31m54.7 MB/s\u001b[0m eta \u001b[36m0:00:00\u001b[0m\n",
            "\u001b[2K     \u001b[90m━━━━━━━━━━━━━━━━━━━━━━━━━━━━━━━━━━━━━━\u001b[0m \u001b[32m486.2/486.2 kB\u001b[0m \u001b[31m37.9 MB/s\u001b[0m eta \u001b[36m0:00:00\u001b[0m\n",
            "\u001b[2K     \u001b[90m━━━━━━━━━━━━━━━━━━━━━━━━━━━━━━━━━━━━━━━━\u001b[0m \u001b[32m81.4/81.4 kB\u001b[0m \u001b[31m9.5 MB/s\u001b[0m eta \u001b[36m0:00:00\u001b[0m\n",
            "\u001b[2K     \u001b[90m━━━━━━━━━━━━━━━━━━━━━━━━━━━━━━━━━━━━━━\u001b[0m \u001b[32m268.8/268.8 kB\u001b[0m \u001b[31m23.2 MB/s\u001b[0m eta \u001b[36m0:00:00\u001b[0m\n",
            "\u001b[2K     \u001b[90m━━━━━━━━━━━━━━━━━━━━━━━━━━━━━━━━━━━━━━━━\u001b[0m \u001b[32m7.8/7.8 MB\u001b[0m \u001b[31m109.8 MB/s\u001b[0m eta \u001b[36m0:00:00\u001b[0m\n",
            "\u001b[2K     \u001b[90m━━━━━━━━━━━━━━━━━━━━━━━━━━━━━━━━━━━━━━━━\u001b[0m \u001b[32m1.3/1.3 MB\u001b[0m \u001b[31m78.1 MB/s\u001b[0m eta \u001b[36m0:00:00\u001b[0m\n",
            "\u001b[2K     \u001b[90m━━━━━━━━━━━━━━━━━━━━━━━━━━━━━━━━━━━━━━\u001b[0m \u001b[32m110.5/110.5 kB\u001b[0m \u001b[31m12.9 MB/s\u001b[0m eta \u001b[36m0:00:00\u001b[0m\n",
            "\u001b[2K     \u001b[90m━━━━━━━━━━━━━━━━━━━━━━━━━━━━━━━━━━━━━━\u001b[0m \u001b[32m212.5/212.5 kB\u001b[0m \u001b[31m23.6 MB/s\u001b[0m eta \u001b[36m0:00:00\u001b[0m\n",
            "\u001b[2K     \u001b[90m━━━━━━━━━━━━━━━━━━━━━━━━━━━━━━━━━━━━━━\u001b[0m \u001b[32m134.8/134.8 kB\u001b[0m \u001b[31m16.2 MB/s\u001b[0m eta \u001b[36m0:00:00\u001b[0m\n",
            "\u001b[2K     \u001b[90m━━━━━━━━━━━━━━━━━━━━━━━━━━━━━━━━━━━━━━\u001b[0m \u001b[32m134.3/134.3 kB\u001b[0m \u001b[31m16.3 MB/s\u001b[0m eta \u001b[36m0:00:00\u001b[0m\n",
            "\u001b[?25h"
          ]
        }
      ]
    },
    {
      "cell_type": "code",
      "source": [
        "!pip install accelerate -U -q"
      ],
      "metadata": {
        "id": "F6edRrSELMUv",
        "colab": {
          "base_uri": "https://localhost:8080/"
        },
        "outputId": "72713b1e-2e22-499c-e41f-30770282f246"
      },
      "execution_count": null,
      "outputs": [
        {
          "output_type": "stream",
          "name": "stdout",
          "text": [
            "\u001b[?25l     \u001b[90m━━━━━━━━━━━━━━━━━━━━━━━━━━━━━━━━━━━━━━━━\u001b[0m \u001b[32m0.0/244.2 kB\u001b[0m \u001b[31m?\u001b[0m eta \u001b[36m-:--:--\u001b[0m\r\u001b[2K     \u001b[91m━━━━━━\u001b[0m\u001b[91m╸\u001b[0m\u001b[90m━━━━━━━━━━━━━━━━━━━━━━━━━━━━━━━━━\u001b[0m \u001b[32m41.0/244.2 kB\u001b[0m \u001b[31m1.3 MB/s\u001b[0m eta \u001b[36m0:00:01\u001b[0m\r\u001b[2K     \u001b[90m━━━━━━━━━━━━━━━━━━━━━━━━━━━━━━━━━━━━━━━\u001b[0m \u001b[32m244.2/244.2 kB\u001b[0m \u001b[31m4.1 MB/s\u001b[0m eta \u001b[36m0:00:00\u001b[0m\n",
            "\u001b[?25h"
          ]
        }
      ]
    },
    {
      "cell_type": "code",
      "execution_count": null,
      "metadata": {
        "id": "7DqW0H59ystO"
      },
      "outputs": [],
      "source": [
        "import numpy as np\n",
        "import pandas as pd\n",
        "from datasets import Dataset, load_dataset\n",
        "\n",
        "#FOR LSTM & CNN\n",
        "import tensorflow as tf\n",
        "from tensorflow.keras import Sequential, Model\n",
        "from tensorflow.keras.layers import TextVectorization, Embedding, Dense, LSTM, Bidirectional, Conv1D, GlobalMaxPooling1D, Flatten, Input, concatenate, Dropout\n",
        "from tensorflow.keras.losses import BinaryCrossentropy\n",
        "from tensorflow.keras.optimizers import Adam\n",
        "\n",
        "#FOR BERT\n",
        "import evaluate\n",
        "import accelerate\n",
        "from transformers import AutoTokenizer, AutoModelForSequenceClassification\n",
        "from transformers import DataCollatorWithPadding\n",
        "from transformers import TrainingArguments, Trainer, create_optimizer\n"
      ]
    },
    {
      "cell_type": "code",
      "source": [
        "BUFFER_SIZE = 10000\n",
        "BATCH_SIZE = 32"
      ],
      "metadata": {
        "id": "aBC46RO7dmzo"
      },
      "execution_count": null,
      "outputs": []
    },
    {
      "cell_type": "markdown",
      "source": [
        "### Load Dataset"
      ],
      "metadata": {
        "id": "qJFr3t9U-5eg"
      }
    },
    {
      "cell_type": "code",
      "source": [
        "data = load_dataset('rotten_tomatoes')"
      ],
      "metadata": {
        "colab": {
          "base_uri": "https://localhost:8080/",
          "referenced_widgets": [
            "1f2f952f56364db58695b24429545f46",
            "aa5ba9219f584a7386a4116c47d4f683",
            "690bdc7d83ec4855b82a793e6a573b33",
            "1b91c376c46742e78193b8affdc30d54",
            "08ad52e926a041e5a87476880b4f4db5",
            "e41bee6b560f4e56a4f9364fae48b53c",
            "21ddeb193f4c4fb899ae08b0509227bc",
            "ee39ee9a424c40e7b3f81c8deb3aae72",
            "b7e88edb3f454c7aac9f49f3ab308384",
            "4d844eb4120c43ab87e4e6b6e510c1fd",
            "d6b0ed72ee6648a2ae4edcf31ee772e4",
            "f7b55e81ae394a7c8765905ee50091c1",
            "75a52679e92b4b5ea9bc963013ba773d",
            "54cfaa2510c4480e986a4dbe5a56dbaa",
            "8cdb1632efbd4fa1bc697ba2480c2ec8",
            "66e078e9f7064f7c9a33db1f9d28da61",
            "0fab25dd763c4cf6b90e96ffb1bbdcdc",
            "d075159b75bb4041a80b58719d1238ae",
            "978745f540ee4f33b2f436212378c50f",
            "9314b7e646124e68898fd40a15ad9edd",
            "8b2e208f7bb944c58861a2e2f1bf9cd4",
            "f37312e4d50a414d83ae88a5edcef143",
            "5d96f9f172bd4264b45a07bb0277108d",
            "318f55e71d2d4a13962aceb05d3b598e",
            "b68a9f63bf8848d4ba3ad40d9afbd05a",
            "56bad86aafc54370ba36990d7f73c3b7",
            "81ed2a598ed34d02a5b3c8b69f51c97d",
            "2db784bbfab941ab8519a9bf47f40335",
            "4bceff0cc4d14adaa13a43389db12978",
            "23e09a1865324575b8fbd8ce0d80a940",
            "faaba958cc67484494258a14b4a7dc5a",
            "ba8cf0ea78c94282b2da5887675d03c0",
            "56acee3fbcba4210bc252cc480fc0a86",
            "878690cfd0f249d0a28dbcc76c924364",
            "bdde633a610f4f0aad1ccd51e88e4dcc",
            "8f86ade1ab6544a88de5b9102a215aea",
            "e545ce529cd044b99ad3896c2aa1cf2a",
            "1b57973fc5f74ec2a52c334095651003",
            "558f27828996435a935833e452b6183e",
            "e7955bd2ab764827a3ea3c62b9afc2f3",
            "6412b5ee40584c609af394d93f4f36f6",
            "614b166ba8004bcabab42fdf644b40f4",
            "f0a4346081f3483e86d696b0a1fb7c24",
            "e57ec5b6ade04877b10696c5b54f4620",
            "877314b2610946f395a81ed81f3038a4",
            "b5bc12bf20fd477e968a8441f51bf8e1",
            "bd9543b3f55c43b8a1b7abf7f2423af4",
            "616e30fb75f14c64b671484b88bb3089",
            "b357e5eed20f43babcc898099a76d2e5",
            "896fbaf772644882b1072fcd879bc024",
            "f80d54a99a5c43e0a70bbdb837cec108",
            "a19088629b7f43208cb8fb2f4c7481cf",
            "f84a2e41cd194aaca4e2d0f0a0af9bc3",
            "6e7fb0d7b7504910986a8769e7273d73",
            "59357c3512ed4aff8ed7c43be4fe08e6",
            "facc3b70d67e481c9f45901279ab9460",
            "46041ebce1b34f8db21c8a94b02a1732",
            "1d704284615d4aaabce7d9f224c85b6c",
            "311fee2f73ff4e168abe40788b8a5c16",
            "fc37c950c1954a02b9826f1bfe74e532",
            "7219eeb7928e44698e504df192e70b8e",
            "aa540cad244c4cf7beb24e8e6e5a7cc6",
            "f37c4169078b4fea803348aa37fa4970",
            "68e0cae0e02e4601909951e191476997",
            "2355c569c7e8482784b0e154c9cfaab3",
            "4bd06206ddff48229577e7d04247aafd",
            "0e1a9b2006f94fa990067f25740f5b22",
            "b0ae82c418864e21a396f636b1c8e9e5",
            "ecd07a46e2e84c0cb35de8090645a733",
            "c1398654796248ada3f213e39940fa8c",
            "1b0a219fb50a4bfc97ed8ad7826cebdc",
            "c9f0fb616e6e4cff975754fd2611ff3a",
            "9e531f7ae2fc430b856e4ce05ee6b102",
            "2b01ae0e6bfe49e18214b84b3048bcb4",
            "7c324a3cd1334a63ae5d310f8db3f9c1",
            "99b61f63356d4e998dd3d6b6f7b663c8",
            "46d26a0dbc37486692ef7fcac7491a90",
            "cee5f9bb41cb461cae54734209157155",
            "d6194d5ede6e449fbfdede2bc387e8f6",
            "0f798c6c65f244df822ae7e554f12551",
            "aac61437e0be4231baba9666b6c02893",
            "7e9f239e81094515a6d0a3dc06b7d9e6",
            "6c94a9ac3a0942b496945129ce24ce74",
            "26f84460b0d04677bb61ad6aa9674035",
            "82f50718603440d090c9a3bf471affd7",
            "939f7c5f4670430db6ccd68990e09dd8",
            "e31be130b0da4774bc35ecc63c82ffc9",
            "ac0ea838382e421f93298f42b675c4cd"
          ]
        },
        "id": "7lN3sCMd-5BI",
        "outputId": "139c8cc5-2795-44e7-8cdd-697f2448a8e0"
      },
      "execution_count": null,
      "outputs": [
        {
          "output_type": "display_data",
          "data": {
            "text/plain": [
              "Downloading builder script:   0%|          | 0.00/5.03k [00:00<?, ?B/s]"
            ],
            "application/vnd.jupyter.widget-view+json": {
              "version_major": 2,
              "version_minor": 0,
              "model_id": "1f2f952f56364db58695b24429545f46"
            }
          },
          "metadata": {}
        },
        {
          "output_type": "display_data",
          "data": {
            "text/plain": [
              "Downloading metadata:   0%|          | 0.00/2.02k [00:00<?, ?B/s]"
            ],
            "application/vnd.jupyter.widget-view+json": {
              "version_major": 2,
              "version_minor": 0,
              "model_id": "f7b55e81ae394a7c8765905ee50091c1"
            }
          },
          "metadata": {}
        },
        {
          "output_type": "display_data",
          "data": {
            "text/plain": [
              "Downloading readme:   0%|          | 0.00/7.25k [00:00<?, ?B/s]"
            ],
            "application/vnd.jupyter.widget-view+json": {
              "version_major": 2,
              "version_minor": 0,
              "model_id": "5d96f9f172bd4264b45a07bb0277108d"
            }
          },
          "metadata": {}
        },
        {
          "output_type": "stream",
          "name": "stdout",
          "text": [
            "Downloading and preparing dataset rotten_tomatoes/default to /root/.cache/huggingface/datasets/rotten_tomatoes/default/1.0.0/40d411e45a6ce3484deed7cc15b82a53dad9a72aafd9f86f8f227134bec5ca46...\n"
          ]
        },
        {
          "output_type": "display_data",
          "data": {
            "text/plain": [
              "Downloading data:   0%|          | 0.00/488k [00:00<?, ?B/s]"
            ],
            "application/vnd.jupyter.widget-view+json": {
              "version_major": 2,
              "version_minor": 0,
              "model_id": "878690cfd0f249d0a28dbcc76c924364"
            }
          },
          "metadata": {}
        },
        {
          "output_type": "display_data",
          "data": {
            "text/plain": [
              "Generating train split:   0%|          | 0/8530 [00:00<?, ? examples/s]"
            ],
            "application/vnd.jupyter.widget-view+json": {
              "version_major": 2,
              "version_minor": 0,
              "model_id": "877314b2610946f395a81ed81f3038a4"
            }
          },
          "metadata": {}
        },
        {
          "output_type": "display_data",
          "data": {
            "text/plain": [
              "Generating validation split:   0%|          | 0/1066 [00:00<?, ? examples/s]"
            ],
            "application/vnd.jupyter.widget-view+json": {
              "version_major": 2,
              "version_minor": 0,
              "model_id": "facc3b70d67e481c9f45901279ab9460"
            }
          },
          "metadata": {}
        },
        {
          "output_type": "display_data",
          "data": {
            "text/plain": [
              "Generating test split:   0%|          | 0/1066 [00:00<?, ? examples/s]"
            ],
            "application/vnd.jupyter.widget-view+json": {
              "version_major": 2,
              "version_minor": 0,
              "model_id": "0e1a9b2006f94fa990067f25740f5b22"
            }
          },
          "metadata": {}
        },
        {
          "output_type": "stream",
          "name": "stdout",
          "text": [
            "Dataset rotten_tomatoes downloaded and prepared to /root/.cache/huggingface/datasets/rotten_tomatoes/default/1.0.0/40d411e45a6ce3484deed7cc15b82a53dad9a72aafd9f86f8f227134bec5ca46. Subsequent calls will reuse this data.\n"
          ]
        },
        {
          "output_type": "display_data",
          "data": {
            "text/plain": [
              "  0%|          | 0/3 [00:00<?, ?it/s]"
            ],
            "application/vnd.jupyter.widget-view+json": {
              "version_major": 2,
              "version_minor": 0,
              "model_id": "cee5f9bb41cb461cae54734209157155"
            }
          },
          "metadata": {}
        }
      ]
    },
    {
      "cell_type": "code",
      "source": [
        "data"
      ],
      "metadata": {
        "colab": {
          "base_uri": "https://localhost:8080/"
        },
        "id": "ICA5KpED_L49",
        "outputId": "ff6141a6-83eb-4621-f31f-39dc06387231"
      },
      "execution_count": null,
      "outputs": [
        {
          "output_type": "execute_result",
          "data": {
            "text/plain": [
              "DatasetDict({\n",
              "    train: Dataset({\n",
              "        features: ['text', 'label'],\n",
              "        num_rows: 8530\n",
              "    })\n",
              "    validation: Dataset({\n",
              "        features: ['text', 'label'],\n",
              "        num_rows: 1066\n",
              "    })\n",
              "    test: Dataset({\n",
              "        features: ['text', 'label'],\n",
              "        num_rows: 1066\n",
              "    })\n",
              "})"
            ]
          },
          "metadata": {},
          "execution_count": 4
        }
      ]
    },
    {
      "cell_type": "markdown",
      "source": [
        "#### Data Exploration on Datasets"
      ],
      "metadata": {
        "id": "xlc9yf6nAtDC"
      }
    },
    {
      "cell_type": "code",
      "source": [
        "pd.Series(data['train']['label']).value_counts()"
      ],
      "metadata": {
        "colab": {
          "base_uri": "https://localhost:8080/"
        },
        "id": "qJvCIqe_Av18",
        "outputId": "d8b30d47-ab22-4468-9233-cb02d88b9077"
      },
      "execution_count": null,
      "outputs": [
        {
          "output_type": "execute_result",
          "data": {
            "text/plain": [
              "1    4265\n",
              "0    4265\n",
              "dtype: int64"
            ]
          },
          "metadata": {},
          "execution_count": 5
        }
      ]
    },
    {
      "cell_type": "code",
      "source": [
        "data['validation']['text']"
      ],
      "metadata": {
        "colab": {
          "base_uri": "https://localhost:8080/"
        },
        "id": "MVBq-iUTCLff",
        "outputId": "098d8fe3-db1d-479e-9961-a2ac9682f12a"
      },
      "execution_count": null,
      "outputs": [
        {
          "output_type": "execute_result",
          "data": {
            "text/plain": [
              "['compassionately explores the seemingly irreconcilable situation between conservative christian parents and their estranged gay and lesbian children .',\n",
              " 'the soundtrack alone is worth the price of admission .',\n",
              " 'rodriguez does a splendid job of racial profiling hollywood style--casting excellent latin actors of all ages--a trend long overdue .',\n",
              " \"beneath the film's obvious determination to shock at any cost lies considerable skill and determination , backed by sheer nerve .\",\n",
              " 'bielinsky is a filmmaker of impressive talent .',\n",
              " \"so beautifully acted and directed , it's clear that washington most certainly has a new career ahead of him if he so chooses .\",\n",
              " 'a visual spectacle full of stunning images and effects .',\n",
              " 'a gentle and engrossing character study .',\n",
              " \"it's enough to watch huppert scheming , with her small , intelligent eyes as steady as any noir villain , and to enjoy the perfectly pitched web of tension that chabrol spins .\",\n",
              " 'an engrossing portrait of uncompromising artists trying to create something original against the backdrop of a corporate music industry that only seems to care about the bottom line .',\n",
              " \"a mischievous visual style and oodles of charm make 'cherish' a very good ( but not great ) movie .\",\n",
              " 'just as the recent argentine film son of the bride reminded us that a feel-good movie can still show real heart , time of favor presents us with an action movie that actually has a brain .',\n",
              " '[a] strong piece of work .',\n",
              " \"a stirring tribute to the bravery and dedication of the world's reporters who willingly walk into the nightmare of war not only to record the events for posterity , but to help us clearly see the world of our making .\",\n",
              " \"the importance of being earnest , so thick with wit it plays like a reading from bartlett's familiar quotations\",\n",
              " 'daring and beautifully made .',\n",
              " 'made for teens and reviewed as such , this is recommended only for those under 20 years of age . . . and then only as a very mild rental .',\n",
              " \"imagine o . henry's <b>the gift of the magi</b> relocated to the scuzzy underbelly of nyc's drug scene . merry friggin' christmas !\",\n",
              " 'the film does give a pretty good overall picture of the situation in laramie following the murder of matthew shepard .',\n",
              " \"both lead performances are oscar-size . quaid is utterly fearless as the tortured husband living a painful lie , and moore wonderfully underplays the long-suffering heroine with an unflappable '50s dignity somewhere between jane wyman and june cleaver .\",\n",
              " \"ferrara's best film in years .\",\n",
              " 'a remarkably insightful look at the backstage angst of the stand-up comic .',\n",
              " 'nothing short of wonderful with its ten-year-old female protagonist and its steadfast refusal to set up a dualistic battle between good and evil .',\n",
              " \"davis' candid , archly funny and deeply authentic take on intimate relationships comes to fruition in her sophomore effort .\",\n",
              " \"it's more enjoyable than i expected , though , and that's because the laughs come from fairly basic comedic constructs . cinematic pratfalls given a working over . the cast is spot on and the mood is laid back .\",\n",
              " \"matches neorealism's impact by showing the humanity of a war-torn land filled with people who just want to live their lives .\",\n",
              " 'those moviegoers who would automatically bypass a hip-hop documentary should give \" scratch \" a second look .',\n",
              " 'baby-faced renner is eerily convincing as this bland blank of a man with unimaginable demons within .',\n",
              " 'romantic , riveting and handsomely animated .',\n",
              " 'a competent , unpretentious entertainment destined to fill the after-school slot at shopping mall theaters across the country .',\n",
              " 'shot largely in small rooms , the film has a gentle , unforced intimacy that never becomes claustrophobic .',\n",
              " 'where janice beard falters in its recycled aspects , implausibility , and sags in pace , it rises in its courageousness , and comedic employment .',\n",
              " 'byler is too savvy a filmmaker to let this morph into a typical romantic triangle . instead , he focuses on the anguish that can develop when one mulls leaving the familiar to traverse uncharted ground .',\n",
              " \"mcgrath has deftly trimmed dickens' wonderfully sprawling soap opera , the better to focus on the hero's odyssey from cowering poverty to courage and happiness .\",\n",
              " 'a chance to see three splendid actors turn a larky chase movie into an emotionally satisfying exploration of the very human need to be somebody , and to belong to somebody .',\n",
              " 'metaphors abound , but it is easy to take this film at face value and enjoy its slightly humorous and tender story .',\n",
              " 'as directed by dani kouyate of burkina faso , sia lacks visual flair . but kouyate elicits strong performances from his cast , and he delivers a powerful commentary on how governments lie , no matter who runs them .',\n",
              " \"the best comedy concert movie i've seen since cho's previous concert comedy film , i'm the one that i want , in 2000 .\",\n",
              " 'broomfield reminds us that beneath the hype , the celebrity , the high life , the conspiracies and the mystery there were once a couple of bright young men -- promising , talented , charismatic and tragically doomed .',\n",
              " 'offers laughs and insight into one of the toughest ages a kid can go through .',\n",
              " 'a perceptive , good-natured movie .',\n",
              " \"an amused indictment of jaglom's own profession .\",\n",
              " 'a small movie with a big heart .',\n",
              " 'hugely accomplished slice of hitchcockian suspense .',\n",
              " 'the formula is familiar but enjoyable .',\n",
              " 'tells a fascinating , compelling story .',\n",
              " 'a triumph , a film that hews out a world and carries us effortlessly from darkness to light .',\n",
              " 'what begins as a conventional thriller evolves into a gorgeously atmospheric meditation on life-changing chance encounters .',\n",
              " \"the lady and the duke is a smart , romantic drama that dares to depict the french revolution from the aristocrats' perspective .\",\n",
              " 'most haunting about \" fence \" is its conclusion , when we hear the ultimate fate of these girls and realize , much to our dismay , that this really did happen . noyce\\'s greatest mistake is thinking that we needed sweeping , dramatic , hollywood moments to keep us',\n",
              " \"world traveler might not go anywhere new , or arrive anyplace special , but it's certainly an honest attempt to get at something .\",\n",
              " \"there's much tongue in cheek in the film and there's no doubt the filmmaker is having fun with it all .\",\n",
              " \"there's absolutely no reason why blue crush , a late-summer surfer girl entry , should be as entertaining as it is\",\n",
              " 'an action/thriller of the finest kind , evoking memories of day of the jackal , the french connection , and heat .',\n",
              " 'the best movie in many a moon about the passions that sometimes fuel our best achievements and other times leave us stranded with nothing more than our lesser appetites .',\n",
              " 'in capturing the understated comedic agony of an ever-ruminating , genteel yet decadent aristocracy that can no longer pay its bills , the film could just as well be addressing the turn of the 20th century into the 21st .',\n",
              " \"insomnia does not become one of those rare remakes to eclipse the original , but it doesn't disgrace it , either .\",\n",
              " 'classic cinema served up with heart and humor',\n",
              " \"[stephen] earnhart's film is more about the optimism of a group of people who are struggling to give themselves a better lot in life than the ones they currently have .\",\n",
              " 'the events of the film are just so weird that i honestly never knew what the hell was coming next .',\n",
              " \"nicole holofcener's lovely and amazing , from her own screenplay , jumps to the head of the class of women's films that manage to avoid the ghetto of sentimental chick-flicks by treating female follies with a satirical style .\",\n",
              " 'that jack nicholson makes this man so watchable is a tribute not only to his craft , but to his legend .',\n",
              " 'has a solid emotional impact .',\n",
              " 'successfully blended satire , high camp and yet another sexual taboo into a really funny movie .',\n",
              " \"mark pellington's latest pop thriller is as kooky and overeager as it is spooky and subtly in love with myth .\",\n",
              " \"while maintaining the appearance of clinical objectivity , this sad , occasionally horrifying but often inspiring film is among wiseman's warmest .\",\n",
              " 'raimi crafted a complicated hero who is a welcome relief from the usual two-dimensional offerings .',\n",
              " 'an enjoyable above average summer diversion .',\n",
              " 'there is simply no doubt that this film asks the right questions at the right time in the history of our country .',\n",
              " \"if you've the patience , there are great rewards here .\",\n",
              " 'as a science fiction movie , \" minority report \" astounds .',\n",
              " 'watching e . t now , in an era dominated by cold , loud special-effects-laden extravaganzas , one is struck less by its lavish grandeur than by its intimacy and precision .',\n",
              " \"visually breathtaking , viscerally exciting , and dramatically moving , it's the very definition of epic adventure .\",\n",
              " \"chris columbus' sequel is faster , livelier and a good deal funnier than his original .\",\n",
              " \"watching this film , what we feel isn't mainly suspense or excitement . the dominant feeling is something like nostalgia .\",\n",
              " \"' . . . a great , participatory spectator sport . '\",\n",
              " \"a rather brilliant little cult item : a pastiche of children's entertainment , superhero comics , and japanese animation .\",\n",
              " 'believes so fervently in humanity that it feels almost anachronistic , and it is too cute by half . but arriving at a particularly dark moment in history , it offers flickering reminders of the ties that bind us .',\n",
              " 'adam sandler ! in an art film !',\n",
              " 'as averse as i usually am to feel-good , follow-your-dream hollywood fantasies , this one got to me .',\n",
              " 'stone seems to have a knack for wrapping the theater in a cold blanket of urban desperation .',\n",
              " '. . . a funny yet dark and seedy clash of cultures and generations .',\n",
              " 'the hook is the drama within the drama , as an unsolved murder and an unresolved moral conflict jockey for the spotlight .',\n",
              " 'over the years , hollywood has crafted a solid formula for successful animated movies , and ice age only improves on it , with terrific computer graphics , inventive action sequences and a droll sense of humor .',\n",
              " 'like smoke signals , the film is also imbued with strong themes of familial ties and spirituality that are powerful and moving without stooping to base melodrama',\n",
              " 'one of those movies that make us pause and think of what we have given up to acquire the fast-paced contemporary society .',\n",
              " \"one of the most original american productions this year , you'll find yourself remembering this refreshing visit to a sunshine state .\",\n",
              " 'melds derivative elements into something that is often quite rich and exciting , and always a beauty to behold .',\n",
              " 'gives everyone something to shout about .',\n",
              " \"the entire movie has a truncated feeling , but what's available is lovely and lovable .\",\n",
              " '[a] thoughtful , visually graceful work .',\n",
              " 'admirers of director abel ferrara may be relieved that his latest feature , r xmas , marks a modest if encouraging return to form .',\n",
              " 'the slam-bang superheroics are kinetic enough to engross even the most antsy youngsters .',\n",
              " 'a worthy addition to the cinematic canon , which , at last count , numbered 52 different versions .',\n",
              " 'deliciously mean-spirited and wryly observant .',\n",
              " 'the kind of primal storytelling that george lucas can only dream of .',\n",
              " \"even if the ring has a familiar ring , it's still unusually crafty and intelligent for hollywood horror .\",\n",
              " 'the sheer joy and pride they took in their work -- and in each other -- shines through every frame .',\n",
              " 'a solidly constructed , entertaining thriller that stops short of true inspiration .',\n",
              " 'the cast . . . keeps this pretty watchable , and casting mick jagger as director of the escort service was inspired .',\n",
              " 'an entertaining , if somewhat standardized , action movie .',\n",
              " 'it has a dashing and resourceful hero ; a lisping , reptilian villain ; big fights ; big hair ; lavish period scenery ; and a story just complicated enough to let you bask in your own cleverness as you figure it out .',\n",
              " 'an enjoyable comedy of lingual and cultural differences\\x85 the château is a film -- full of life and small delights -- that has all the wiggling energy of young kitten .',\n",
              " 'intriguing and downright intoxicating .',\n",
              " 'an incredibly thoughtful , deeply meditative picture that neatly and effectively captures the debilitating grief felt in the immediate aftermath of the terrorist attacks .',\n",
              " 'with an obvious rapport with her actors and a striking style behind the camera , hélène angel is definitely a director to watch .',\n",
              " '. . . could easily be called the best korean film of 2002 .',\n",
              " 'full of detail about the man and his country , and is well worth seeing .',\n",
              " 'the banter between calvin and his fellow barbers feels like a streetwise mclaughlin group . . . and never fails to entertain .',\n",
              " 'thoroughly engrossing and ultimately tragic .',\n",
              " 'peter jackson and company once again dazzle and delight us , fulfilling practically every expectation either a longtime tolkien fan or a movie-going neophyte could want .',\n",
              " \"bill morrison's decasia is uncompromising , difficult and unbearably beautiful .\",\n",
              " 'full of bland hotels , highways , parking lots , with some glimpses of nature and family warmth , time out is a discreet moan of despair about entrapment in the maze of modern life .',\n",
              " 'even with all its botches , enigma offers all the pleasure of a handsome and well-made entertainment .',\n",
              " 'his work transcends the boy-meets-girl posturing of typical love stories .',\n",
              " 'if the real-life story is genuinely inspirational , the movie stirs us as well .',\n",
              " 'an ebullient tunisian film about the startling transformation of a tradition-bound widow who is drawn into the exotic world of belly dancing .',\n",
              " \"the dramatic crisis doesn't always succeed in its quest to be taken seriously , but huppert's volatile performance makes for a riveting movie experience .\",\n",
              " \"highly irritating at first , mr . koury's passive technique eventually begins to yield some interesting results .\",\n",
              " 'about schmidt belongs to nicholson . gone are the flamboyant mannerisms that are the trademark of several of his performances . as schmidt , nicholson walks with a slow , deliberate gait , chooses his words carefully and subdues his natural exuberance .',\n",
              " 'the powder blues and sun-splashed whites of tunis make an alluring backdrop for this sensuous and spirited tale of a prim widow who finds an unlikely release in belly-dancing clubs .',\n",
              " \"it doesn't make for great cinema , but it is interesting to see where one's imagination will lead when given the opportunity .\",\n",
              " \"it's sobering , particularly if anyone still thinks this conflict can be resolved easily , or soon .\",\n",
              " \"if it's not entirely memorable , the movie is certainly easy to watch .\",\n",
              " \". . . by the time it's done with us , mira nair's new movie has its audience giddy with the delight of discovery , of having been immersed in a foreign culture only to find that human nature is pretty much the same all over .\",\n",
              " 'best indie of the year , so far .',\n",
              " '[ferrera] has the charisma of a young woman who knows how to hold the screen .',\n",
              " '. . . the plot weaves us into a complex web .',\n",
              " \"don't judge this one too soon - it's a dark , gritty story but it takes off in totally unexpected directions and keeps on going .\",\n",
              " \"it's funny , as the old saying goes , because it's true .\",\n",
              " \"in death to smoochy , we don't get williams' usual tear and a smile , just sneers and bile , and the spectacle is nothing short of refreshing .\",\n",
              " 'a serviceable euro-trash action extravaganza , with a decent sense of humor and plenty of things that go boom \\x97 handguns , bmws and seaside chateaus .',\n",
              " \"fortunately , elling never gets too cloying thanks to the actors' perfect comic timing and sweet , genuine chemistry .\",\n",
              " \"if you've grown tired of going where no man has gone before , but several movies have - take heart . this is the best star trek movie in a long time .\",\n",
              " 'greg kinnear gives a mesmerizing performance as a full-fledged sex addict who is in complete denial about his obsessive behavior .',\n",
              " 'not only a coming-of-age story and cautionary parable , but also a perfectly rendered period piece .',\n",
              " \"ou've got to love a disney pic with as little cleavage as this one has , and a heroine as feisty and principled as jane .\",\n",
              " 'a funny , triumphant , and moving documentary .',\n",
              " 'delirious fun .',\n",
              " 'lathan and diggs carry the film with their charisma , and both exhibit sharp comic timing that makes the more hackneyed elements of the film easier to digest .',\n",
              " \"about schmidt is nicholson's goofy , heartfelt , mesmerizing king lear .\",\n",
              " 'a confluence of kiddie entertainment , sophisticated wit and symbolic graphic design .',\n",
              " 'gay or straight , kissing jessica stein is one of the greatest date movies in years .',\n",
              " 'this is a movie full of grace and , ultimately , hope .',\n",
              " 'exciting and well-paced .',\n",
              " 'even better than the first one !',\n",
              " 'its compelling mix of trial movie , escape movie and unexpected fable ensures the film never feels draggy .',\n",
              " 'a must see for all sides of the political spectrum',\n",
              " '[reynolds] takes a classic story , casts attractive and talented actors and uses a magnificent landscape to create a feature film that is wickedly fun to watch .',\n",
              " \"there are problems with this film that even 3 oscar winners can't overcome , but it's a nice girl-buddy movie once it gets rock-n-rolling .\",\n",
              " 'rich in atmosphere of the post-war art world , it manages to instruct without reeking of research library dust .',\n",
              " 'has the rare capability to soothe and break your heart with a single stroke .',\n",
              " 'it rapidly develops into a gut-wrenching examination of the way cultural differences and emotional expectations collide .',\n",
              " 'though it flirts with bathos and pathos and the further oprahfication of the world as we know it , it still cuts all the way down to broken bone .',\n",
              " \"this humbling little film , fueled by the light comedic work of zhao benshan and the delicate ways of dong jie , is just the sort for those moviegoers who complain that 'they don't make movies like they used to anymore . '\",\n",
              " 'es una de esas películas de las que uno sale reconfortado , agradecido , genuinamente sorprendido .',\n",
              " 'it will break your heart many times over .',\n",
              " \"a straight-shooting family film which awards animals the respect they've rarely been given .\",\n",
              " 'overall , interesting as a documentary -- but not very imaxy .',\n",
              " \"this is one of those war movies that focuses on human interaction rather than battle and action sequences . . . and it's all the stronger because of it .\",\n",
              " 'secretary \" is owned by its costars , spader and gyllenhaal . maggie g . makes an amazing breakthrough in her first starring role and eats up the screen .',\n",
              " 'the film fits into a genre that has been overexposed , redolent of a thousand cliches , and yet remains uniquely itself , vibrant with originality .',\n",
              " 'not only is it a charming , funny and beautifully crafted import , it uses very little dialogue , making it relatively effortless to read and follow the action at the same time .',\n",
              " \"'almodóvar logra un filme entrañable , lleno de compasión , comprensión , amor , amistad , esperanza y humanidad que es sencillamente inolvidable . '\",\n",
              " \"the kind of sense of humor that derives from a workman's grasp of pun and entendre and its attendant need to constantly draw attention to itself .\",\n",
              " \"too much of storytelling moves away from solondz's social critique , casting its audience as that of intellectual lector in contemplation of the auteur's professional injuries .\",\n",
              " \"the story is virtually impossible to follow here , but there's a certain style and wit to the dialogue .\",\n",
              " 'the music makes a nice album , the food is enticing and italy beckons us all .',\n",
              " 'the film is an earnest try at beachcombing verismo , but it would be even more indistinct than it is were it not for the striking , quietly vulnerable personality of ms . ambrose .',\n",
              " 'the film is small in scope , yet perfectly formed .',\n",
              " 'jones has delivered a solidly entertaining and moving family drama .',\n",
              " 'happy times maintains an appealing veneer without becoming too cute about it .',\n",
              " 'oliveira seems to pursue silent film representation with every mournful composition .',\n",
              " \"one of the pleasures in walter's documentary . . . is the parade of veteran painters , confounded dealers , and miscellaneous bohos who expound upon the subject's mysterious personality without ever explaining him .\",\n",
              " 'captures all the longing , anguish and ache , the confusing sexual messages and the wish to be a part of that elusive adult world .',\n",
              " \"he's the scariest guy you'll see all summer .\",\n",
              " '\" frailty \" offers chills much like those that you get when sitting around a campfire around midnight , telling creepy stories to give each other the willies . and , there\\'s no way you won\\'t be talking about the film once you exit the theater .',\n",
              " 'really quite funny .',\n",
              " \"if i have to choose between gorgeous animation and a lame story ( like , say , treasure planet ) or so-so animation and an exciting , clever story with a batch of appealing characters , i'll take the latter every time .\",\n",
              " \"quiet , adult and just about more stately than any contemporary movie this year . . . a true study , a film with a questioning heart and mind that isn't afraid to admit it doesn't have all the answers .\",\n",
              " \"in the end , the film is less the cheap thriller you'd expect than it is a fairly revealing study of its two main characters \\x97 damaged-goods people whose orbits will inevitably and dangerously collide .\",\n",
              " 'some of the visual flourishes are a little too obvious , but restrained and subtle storytelling , and fine performances make this delicate coming-of-age tale a treat .',\n",
              " 'it is hard not to be especially grateful for freedom after a film like this .',\n",
              " 'the dirty jokes provide the funniest moments in this oddly sweet comedy about jokester highway patrolmen .',\n",
              " 'y tu mamá también is hilariously , gloriously alive , and quite often hotter than georgia asphalt .',\n",
              " '. . . works on some levels and is certainly worth seeing at least once .',\n",
              " 'you come away from his film overwhelmed , hopeful and , perhaps paradoxically , illuminated .',\n",
              " \"if the material is slight and admittedly manipulative , jacquot preserves tosca's intoxicating ardor through his use of the camera .\",\n",
              " 'thirteen conversations about one thing lays out a narrative puzzle that interweaves individual stories , and , like a mobius strip , elliptically loops back to where it began .',\n",
              " \"overall , it's a wacky and inspired little film that works effortlessly at delivering genuine , acerbic laughs .\",\n",
              " 'mais um momento inspirado de david fincher .',\n",
              " 'a must for fans of british cinema , if only because so many titans of the industry are along for the ride .',\n",
              " 'tsai has managed to create an underplayed melodrama about family dynamics and dysfunction that harks back to the spare , unchecked heartache of yasujiro ozu .',\n",
              " 'until ( the ) superfluous . . . epilogue that leaks suspension of disbelief like a sieve , die another day is as stimulating & heart-rate-raising as any james bond thriller .',\n",
              " \"it's a good film , but it falls short of its aspiration to be a true 'epic' .\",\n",
              " 'all the pieces fall together without much surprise , but little moments give it a boost .',\n",
              " \"the beauty of alexander payne's ode to the everyman is in the details .\",\n",
              " 'a touching drama about old age and grief with a tour de force performance by michel piccoli .',\n",
              " 'the ending feels at odds with the rest of the film .',\n",
              " 'a tone of rueful compassion . . . reverberates throughout this film , whose meaning and impact is sadly heightened by current world events .',\n",
              " 'a beautiful paean to a time long past .',\n",
              " 'dense and thoughtful and brimming with ideas that are too complex to be rapidly absorbed .',\n",
              " \"if you thought tom hanks was just an ordinary big-screen star , wait until you've seen him eight stories tall .\",\n",
              " \"with this masterful , flawless film , [wang] emerges in the front ranks of china's now numerous , world-renowned filmmakers .\",\n",
              " 'shyamalan offers copious hints along the way -- myriad signs , if you will -- that beneath the familiar , funny surface is a far bigger , far more meaningful story than one in which little green men come to earth for harvesting purposes .',\n",
              " 'this film is an act of spiritual faith -- an eloquent , deeply felt meditation on the nature of compassion .',\n",
              " 'a different kind of love story - one that is dark , disturbing , painful to watch , yet compelling .',\n",
              " 'splendidly illustrates the ability of the human spirit to overcome adversity .',\n",
              " 'a compelling , gut-clutching piece of advocacy cinema that carries you along in a torrent of emotion as it explores the awful complications of one terrifying day .',\n",
              " \"she's as rude and profane as ever , always hilarious and , most of the time , absolutely right in her stinging social observations .\",\n",
              " \"to those who have not read the book , the film is a much better mother-daughter tale than last summer's 'divine secrets of the ya-ya sisterhood , ' but that's not saying much .\",\n",
              " \"even before it builds up to its insanely staged ballroom scene , in which 3000 actors appear in full regalia , it's waltzed itself into the art film pantheon .\",\n",
              " 'a thoughtful , reverent portrait of what is essentially a subculture , with its own rules regarding love and family , governance and hierarchy .',\n",
              " 'it seems impossible that an epic four-hour indian musical about a cricket game could be this good , but it is .',\n",
              " 'will certainly appeal to asian cult cinema fans and asiaphiles interested to see what all the fuss is about .',\n",
              " 'touches smartly and wistfully on a number of themes , not least the notion that the marginal members of society . . . might benefit from a helping hand and a friendly kick in the pants .',\n",
              " \"a wildly entertaining scan of evans' career .\",\n",
              " \"a mature , deeply felt fantasy of a director's travel through 300 years of russian history .\",\n",
              " \"boldly engineering a collision between tawdry b-movie flamboyance and grandiose spiritual anomie , rose's film , true to its source material , provides a tenacious demonstration of death as the great equalizer .\",\n",
              " 'a finely tuned mood piece , a model of menacing atmosphere .',\n",
              " 'the salton sea has moments of inspired humour , though every scrap is of the darkest variety .',\n",
              " 'both a beautifully made nature film and a tribute to a woman whose passion for this region and its inhabitants still shines in her quiet blue eyes .',\n",
              " 'although shot with little style , skins is heartfelt and achingly real .',\n",
              " 'harks back to a time when movies had more to do with imagination than market research .',\n",
              " \"upsetting and thought-provoking , the film has an odd purity that doesn't bring you into the characters so much as it has you study them .\",\n",
              " 'a well-executed spy-thriller .',\n",
              " \"a very pretty after-school special . it's an effort to watch this movie , but it eventually pays off and is effective if you stick with it .\",\n",
              " 'a harrowing account of a psychological breakdown .',\n",
              " 'continually challenges perceptions of guilt and innocence , of good guys and bad , and asks us whether a noble end can justify evil means .',\n",
              " \"it certainly won't win any awards in the plot department but it sets out with no pretensions and delivers big time .\",\n",
              " \"dog soldiers doesn't transcend genre -- it embraces it , energizes it and takes big bloody chomps out of it .\",\n",
              " 'at once emotional and richly analytical , the cosby-seinfeld encounter alone confirms the serious weight behind this superficially loose , larky documentary .',\n",
              " 'it may scream low budget , but this charmer has a spirit that cannot be denied .',\n",
              " \"'alice's adventure through the looking glass and into zombie-land' is filled with strange and wonderful creatures .\",\n",
              " 'without [de niro] , city by the sea would slip under the waves . he drags it back , single-handed .',\n",
              " 'a good music documentary , probably one of the best since the last waltz .',\n",
              " \"if the plot seems a bit on the skinny side , that's because panic room is interested in nothing more than sucking you in\\x85and making you sweat .\",\n",
              " '. . . [the film] works , due mostly to the tongue-in-cheek attitude of the screenplay .',\n",
              " \"the film becomes an overwhelming pleasure , and you find yourself rooting for gai's character to avoid the fate that has befallen every other carmen before her .\",\n",
              " 'broomfield has a rather unique approach to documentary . he thinks the film is just as much a document about him as it is about the subject .',\n",
              " 'at its best when the guarded , resentful betty and the manipulative yet needy margot are front and center .',\n",
              " 'gloriously straight from the vagina .',\n",
              " \"it's excessively quirky and a little underconfident in its delivery , but otherwise this is the best 'old neighborhood' project since christopher walken kinda romanced cyndi lauper in the opportunists .\",\n",
              " 'the film oozes craft .',\n",
              " \"robinson's web of suspense matches the page-turning frenzy that clancy creates .\",\n",
              " 'manages to be both hugely entertaining and uplifting .',\n",
              " 'a classic fairy tale that perfectly captures the wonders and worries of childhood in a way that few movies have ever approached .',\n",
              " \"it's the unsettling images of a war-ravaged land that prove more potent and riveting than the unlikely story of sarah and harrison .\",\n",
              " 'a wonderfully warm human drama that remains vividly in memory long after viewing',\n",
              " 'jaunty fun , with its celeb-strewn backdrop well used .',\n",
              " \"recoing's fantastic performance doesn't exactly reveal what makes vincent tick , but perhaps any definitive explanation for it would have felt like a cheat .\",\n",
              " \"washington overcomes the script's flaws and envelops the audience in his character's anguish , anger and frustration .\",\n",
              " 'the film fearlessly gets under the skin of the people involved . . . this makes it not only a detailed historical document , but an engaging and moving portrait of a subculture .',\n",
              " 'a searing , epic treatment of a nationwide blight that seems to be , horrifyingly , ever on the rise .',\n",
              " \"not a film for the faint of heart or conservative of spirit , but for the rest of us -- especially san francisco lovers -- it's a spirited film and a must-see .\",\n",
              " 'read my lips is to be viewed and treasured for its extraordinary intelligence and originality as well as its lyrical variations on the game of love .',\n",
              " \"the color sense of stuart little 2 is its most immediate and most obvious pleasure , but it would count for very little if the movie weren't as beautifully shaped and as delicately calibrated in tone as it is .\",\n",
              " 'while [roman coppola] scores points for style , he staggers in terms of story .',\n",
              " 'idiotic and ugly .',\n",
              " 'any movie that makes hard work seem heroic deserves a look .',\n",
              " \"it may not be a huge cut of above the rest , but i enjoyed barbershop . it's a funny little movie with clever dialogue and likeable characters .\",\n",
              " 'a different and emotionally reserved type of survival story -- a film less about refracting all of world war ii through the specific conditions of one man , and more about that man lost in its midst .',\n",
              " \"it's sweet , funny , charming , and completely delightful .\",\n",
              " 'a perfectly competent and often imaginative film that lacks what little lilo & stitch had in spades -- charisma .',\n",
              " 'beautifully shot against the frozen winter landscapes of grenoble and geneva , the film unfolds with all the mounting tension of an expert thriller , until the tragedy beneath it all gradually reveals itself .',\n",
              " \"medem may have disrobed most of the cast , leaving their bodies exposed , but the plot remains as guarded as a virgin with a chastity belt . that's why sex and lucia is so alluring .\",\n",
              " 'an elegant work , food of love is as consistently engaging as it is revealing .',\n",
              " 'although largely a heavy-handed indictment of parental failings and the indifference of spanish social workers and legal system towards child abuse , the film retains ambiguities that make it well worth watching .',\n",
              " \"a behind the scenes look at the training and dedication that goes into becoming a world-class fencer and the champion that's made a difference to nyc inner-city youth .\",\n",
              " 'a brain twister , less a movie-movie than a funny and weird meditation on hollywood , success , artistic integrity and intellectual bankruptcy .',\n",
              " 'a powerful , inflammatory film about religion that dares to question an ancient faith , and about hatred that offers no easy , comfortable resolution .',\n",
              " 'in its own floundering way , it gets to you . just like igby .',\n",
              " \"return to never land may be another shameless attempt by disney to rake in dough from baby boomer families , but it's not half-bad .\",\n",
              " 'wise and deadpan humorous .',\n",
              " 'god bless crudup and his aversion to taking the easy hollywood road and cashing in on his movie-star gorgeousness .',\n",
              " 'if signs is a good film , and it is , the essence of a great one is in there somewhere .',\n",
              " \"veterans of the dating wars will smirk uneasily at the film's nightmare versions of everyday sex-in-the-city misadventures .\",\n",
              " \"schrader examines crane's decline with unblinking candor .\",\n",
              " \"you can watch , giggle and get an adrenaline boost without feeling like you've completely lowered your entertainment standards .\",\n",
              " 'it thankfully goes easy on the reel/real world dichotomy that [jaglom] pursued with such enervating determination in venice/venice .',\n",
              " \"this rich , bittersweet israeli documentary , about the life of song-and-dance-man pasach'ke burstein and his family , transcends ethnic lines .\",\n",
              " 'sensitively examines general issues of race and justice among the poor , and specifically raises serious questions about the death penalty and asks what good the execution of a mentally challenged woman could possibly do .',\n",
              " 'cool gadgets and creatures keep this fresh . not as good as the original , but what is . . .',\n",
              " 'presents a side of contemporary chinese life that many outsiders will be surprised to know exists , and does so with an artistry that also smacks of revelation .',\n",
              " \"[jeff's] gorgeous , fluid compositions , underlined by neil finn and edmund mcwilliams's melancholy music , are charged with metaphor , but rarely easy , obvious or self-indulgent .\",\n",
              " 'engages us in constant fits of laughter , until we find ourselves surprised at how much we care about the story , and end up walking out not only satisfied but also somewhat touched .',\n",
              " 'a bilingual charmer , just like the woman who inspired it',\n",
              " 'blisteringly rude , scarily funny , sorrowfully sympathetic to the damage it surveys , the film has in kieran culkin a pitch-perfect holden .',\n",
              " 'apuestas fuertes para el futuro del director , y apuestas bien fundadas , pues la suerte ya la tiene , y la cinta lo comprueba . . . .',\n",
              " 'the fourth \" pokemon \" is a diverting--if predictable--adventure suitable for a matinee , with a message that cautions children about disturbing the world\\'s delicate ecological balance .',\n",
              " 'what one is left with , even after the most awful acts are committed , is an overwhelming sadness that feels as if it has made its way into your very bloodstream .',\n",
              " '[it] has the feel of a summer popcorn movie . nothing too deep or substantial . explosions , jokes , and sexual innuendoes abound .',\n",
              " \"miyazaki's nonstop images are so stunning , and his imagination so vivid , that the only possible complaint you could have about spirited away is that there is no rest period , no timeout .\",\n",
              " '. . . a delightfully unpredictable , hilarious comedy with wonderful performances that tug at your heart in ways that utterly transcend gender labels .',\n",
              " \"assured , vital and well wrought , the film is , arguably , the most accomplished work to date from hong kong's versatile stanley kwan .\",\n",
              " 'delia , greta , and paula rank as three of the most multilayered and sympathetic female characters of the year . as each of them searches for their place in the world , miller digs into their very minds to find an unblinking , flawed humanity .',\n",
              " 'a surprisingly sweet and gentle comedy .',\n",
              " 'shanghai ghetto , much stranger than any fiction , brings this unknown slice of history affectingly to life .',\n",
              " \"it's not particularly well made , but since i found myself howling more than cringing , i'd say the film works .\",\n",
              " \"but this is lohman's film . her performance moves between heartbreak and rebellion as she continually tries to accommodate to fit in and gain the unconditional love she seeks .\",\n",
              " 'though its story is only surface deep , the visuals and enveloping sounds of blue crush make this surprisingly decent flick worth a summertime look-see .',\n",
              " 'ryosuke has created a wry , winning , if languidly paced , meditation on the meaning and value of family .',\n",
              " \"sometimes charming , sometimes infuriating , this argentinean 'dramedy' succeeds mainly on the shoulders of its actors .\",\n",
              " 'you may feel compelled to watch the film twice or pick up a book on the subject .',\n",
              " 'often shocking but ultimately worthwhile exploration of motherhood and desperate mothers .',\n",
              " \"a venturesome , beautifully realized psychological mood piece that reveals its first-time feature director's understanding of the expressive power of the camera .\",\n",
              " \"like the rugrats movies , the wild thornberrys movie doesn't offer much more than the series , but its emphasis on caring for animals and respecting other cultures is particularly welcome .\",\n",
              " 'taken outside the context of the current political climate ( see : terrorists are more evil than ever ! ) , the sum of all fears is simply a well-made and satisfying thriller .',\n",
              " 'the setting is so cool that it chills the characters , reducing our emotional stake in the outcome of \" intacto\\'s \" dangerous and seductively stylish game .',\n",
              " 'a lovely and beautifully photographed romance .',\n",
              " 'one of the most splendid entertainments to emerge from the french film industry in years .',\n",
              " 'its vision of that awkward age when sex threatens to overwhelm everything else is acute enough to make everyone who has been there squirm with recognition .',\n",
              " \"for almost the first two-thirds of martin scorsese's 168-minute gangs of new york , i was entranced .\",\n",
              " \"open-ended and composed of layer upon layer , talk to her is a cinephile's feast , an invitation to countless interpretations .\",\n",
              " 'one of the most slyly exquisite anti-adult movies ever made .',\n",
              " \"what makes esther kahn so demanding is that it progresses in such a low-key manner that it risks monotony . but it's worth the concentration .\",\n",
              " 'neither the funniest film that eddie murphy nor robert de niro has ever made , showtime is nevertheless efficiently amusing for a good while . before it collapses into exactly the kind of buddy cop comedy it set out to lampoon , anyway .',\n",
              " 'a clever script and skilled actors bring new energy to the familiar topic of office politics .',\n",
              " \"the determination of pinochet's victims to seek justice , and their often heartbreaking testimony , spoken directly into director patricio guzman's camera , pack a powerful emotional wallop .\",\n",
              " 'disney aficionados will notice distinct parallels between this story and the 1971 musical \" bedknobs and broomsticks , \" which also dealt with british children rediscovering the power of fantasy during wartime .',\n",
              " \"it's . . . worth the extra effort to see an artist , still committed to growth in his ninth decade , change while remaining true to his principles with a film whose very subject is , quite pointedly , about the peril of such efforts .\",\n",
              " 'dark and unrepentant , this excursion into the epicenter of percolating mental instability is not easily dismissed or forgotten .',\n",
              " \"it's a rollicking adventure for you and all your mateys , regardless of their ages .\",\n",
              " 'boasts a handful of virtuosic set pieces and offers a fair amount of trashy , kinky fun .',\n",
              " '. . . myers has turned his franchise into the movie version of an adolescent dirty-joke book done up in post-tarantino pop-culture riffs . . .',\n",
              " \"if you're down for a silly hack-and-slash flick , you can do no wrong with jason x .\",\n",
              " 'this is a very ambitious project for a fairly inexperienced filmmaker , but good actors , good poetry and good music help sustain it .',\n",
              " 'the modern master of the chase sequence returns with a chase to end all chases',\n",
              " 'the messy emotions raging throughout this three-hour effort are instantly recognizable , allowing the film to paradoxically feel familiar and foreign at the same time .',\n",
              " \". . . either you're willing to go with this claustrophobic concept or you're not .\",\n",
              " \"just watch bettany strut his stuff . you'll know a star when you see one .\",\n",
              " 'austin powers in goldmember is a cinematic car wreck , a catastrophic collision of tastelessness and gall that nevertheless will leave fans clamoring for another ride .',\n",
              " \"you can fire a torpedo through some of clancy's holes , and the scripters don't deserve any oscars . but the nerve-raked acting , the crackle of lines , the impressive stagings of hardware , make for some robust and scary entertainment .\",\n",
              " 'contrasting the original ringu with the current americanized adaptation is akin to comparing the evil dead with evil dead ii',\n",
              " 'a small gem of a movie that defies classification and is as thought-provoking as it is funny , scary and sad .',\n",
              " 'for a long time the film succeeds with its dark , delicate treatment of these characters and its unerring respect for them .',\n",
              " \"it's the kind of effectively creepy-scary thriller that has you fixating on a far corner of the screen at times because your nerves just can't take it any more .\",\n",
              " 'late marriage is an in-your-face family drama and black comedy that is filled with raw emotions conveying despair and love .',\n",
              " 'an ambitious and moving but bleak film .',\n",
              " \"it's too harsh to work as a piece of storytelling , but as an intellectual exercise -- an unpleasant debate that's been given the drive of a narrative and that's been acted out -- the believer is nothing less than a provocative piece of work .\",\n",
              " \"it's sweet . it's funny . it wears its heart on the sleeve of its gaudy hawaiian shirt . and , thanks to the presence of 'the king , ' it also rocks .\",\n",
              " \"it's never laugh-out-loud funny , but it is frequently amusing .\",\n",
              " 'a bittersweet film , simple in form but rich with human events .',\n",
              " 'the unexplored story opportunities of \" punch-drunk love \" may have worked against the maker\\'s minimalist intent but it is an interesting exercise by talented writer/director anderson .',\n",
              " '\" punch-drunk love \" is a little like a chocolate milk moustache . . .',\n",
              " '. . . digs beyond the usual portrayals of good kids and bad seeds to reveal a more ambivalent set of characters and motivations .',\n",
              " 'the beauty of the piece is that it counts heart as important as humor .',\n",
              " 'piercingly affecting . . . while clearly a manipulative film , emerges as powerful rather than cloying .',\n",
              " 'very amusing , not the usual route in a thriller , and the performances are odd and pixilated and sometimes both .',\n",
              " 'while the frequent allusions to gurus and doshas will strike some westerners as verging on mumbo-jumbo . . . broad streaks of common sense emerge with unimpeachable clarity .',\n",
              " 'the cast is phenomenal , especially the women .',\n",
              " 'a marvel of production design .',\n",
              " 'the byplay and bickering between the now spy-savvy siblings , carmen ( vega ) and juni ( sabara ) cortez , anchor the film in a very real and amusing give-and-take .',\n",
              " \"good actors have a radar for juicy roles -- there's a plethora of characters in this picture , and not one of them is flat .\",\n",
              " \"though in some ways similar to catherine breillat's fat girl , rain is the far superior film .\",\n",
              " 'is not so much a work of entertainment as it is a unique , well-crafted psychological study of grief .',\n",
              " \"remarkable for its excellent storytelling , its economical , compressed characterisations and for its profound humanity , it's an adventure story and history lesson all in one .\",\n",
              " \"colorful , energetic and sweetly whimsical . . . the rare sequel that's better than its predecessor .\",\n",
              " \"reno himself can take credit for most of the movie's success . he's one of the few 'cool' actors who never seems aware of his own coolness .\",\n",
              " \"significantly better than its 2002 children's-movie competition .\",\n",
              " \"ub equally spoofs and celebrates the more outre aspects of 'black culture' and the dorkier aspects of 'white culture , ' even as it points out how inseparable the two are .\",\n",
              " 'a lot smarter than your average bond .',\n",
              " '. . . bright , intelligent , and humanly funny film .',\n",
              " 'painful , horrifying and oppressively tragic , this film should not be missed .',\n",
              " \"part of the film's cheeky charm comes from its vintage schmaltz .\",\n",
              " 'so unique and stubborn and charismatic that you want it to be better and more successful than it is .',\n",
              " \"i won't argue with anyone who calls 'slackers' dumb , insulting , or childish . . . but i laughed so much that i didn't mind .\",\n",
              " 'it arrives with an impeccable pedigree , mongrel pep , and almost indecipherable plot complications .',\n",
              " 'so fiendishly cunning that even the most jaded cinema audiences will leave the auditorium feeling dizzy , confused , and totally disorientated . not to mention absolutely refreshed .',\n",
              " 'a vibrant , colorful , semimusical rendition .',\n",
              " 'the film sometimes flags . . . but there is enough secondary action to keep things moving along at a brisk , amusing pace .',\n",
              " \"it's a drawling , slobbering , lovable run-on sentence of a film , a southern gothic with the emotional arc of its raw blues soundtrack .\",\n",
              " 'nós gosta muito de as duas torres .',\n",
              " 'nolan proves that he can cross swords with the best of them and helm a more traditionally plotted popcorn thriller while surrendering little of his intellectual rigor or creative composure .',\n",
              " 'it is different from others in its genre in that it is does not rely on dumb gags , anatomical humor , or character cliches ; it primarily relies on character to tell its story .',\n",
              " 'both a successful adaptation and an enjoyable film in its own right .',\n",
              " 'all the filmmakers are asking of us , is to believe in something that is improbable .',\n",
              " \"if the very concept makes you nervous . . . you'll have an idea of the film's creepy , scary effectiveness .\",\n",
              " 'worth a look by those on both sides of the issues , if only for the perspective it offers , one the public rarely sees .',\n",
              " 'a mostly believable , refreshingly low-key and quietly inspirational little sports drama .',\n",
              " 'may be more genial than ingenious , but it gets the job done .',\n",
              " 'a stylish cast and some clever scripting solutions help chicago make the transition from stage to screen with considerable appeal intact .',\n",
              " 'exhilarating , funny and fun .',\n",
              " 'while not quite \" shrek \" or monsters , inc . \" , it\\'s not too bad . it\\'s worth taking the kids to .',\n",
              " 'in the end there is one word that best describes this film : honest .',\n",
              " \"writer-director david jacobson and his star , jeremy renner , have made a remarkable film that explores the monster's psychology not in order to excuse him but rather to demonstrate that his pathology evolved from human impulses that grew hideously twisted .\",\n",
              " 'the action sequences are fun and reminiscent of combat scenes from the star wars series .',\n",
              " 'norton is magnetic as graham .',\n",
              " 'savvy director robert j . siegel and his co-writers keep the story subtle and us in suspense .',\n",
              " \"it pulls the rug out from under you , just when you're ready to hate one character , or really sympathize with another character , something happens to send you off in different direction .\",\n",
              " \"twenty years after its first release , e . t . remains the most wondrous of all hollywood fantasies -- and the apex of steven spielberg's misunderstood career .\",\n",
              " 'it says a lot about a filmmaker when he can be wacky without clobbering the audience over the head and still maintain a sense of urgency and suspense .',\n",
              " 'gives us a lot to chew on , but not all of it has been properly digested .',\n",
              " \"it's an exhilarating place to visit , this laboratory of laughter .\",\n",
              " '\" simone \" is a fun and funky look into an artificial creation in a world that thrives on artificiality .',\n",
              " 'a great companion piece to other napoleon films .',\n",
              " \"to some eyes this will seem like a recycling of clichés , an assassin's greatest hits . to others , it will remind them that hong kong action cinema is still alive and kicking .\",\n",
              " 'gran historia sobre el amor , la familia , la lealtad y la traición que seguramente se convertirá en un nuevo clásico del género .',\n",
              " 'at the end of the movie , my 6-year-old nephew said , \" i guess i come from a broken family , and my uncles are all aliens , too . \" congrats disney on a job well done , i enjoyed it just as much !',\n",
              " \"a remarkably alluring film set in the constrictive eisenhower era about one suburban woman's yearning in the face of a loss that shatters her cheery and tranquil suburban life .\",\n",
              " 'berling and béart . . . continue to impress , and isabelle huppert . . . again shows uncanny skill in getting under the skin of her characters .',\n",
              " 'uplifting , funny and wise .',\n",
              " 'remarkable for its intelligence and intensity .',\n",
              " 'the hypnotic imagery and fragmentary tale explore the connections between place and personal identity .',\n",
              " \"brosnan is more feral in this film than i've seen him before and halle berry does her best to keep up with him .\",\n",
              " 'a film that begins with the everyday lives of naval personnel in san diego and ends with scenes so true and heartbreaking that tears welled up in my eyes both times i saw the film .',\n",
              " 'a funny film .',\n",
              " '\" on guard ! \" won\\'t be placed in the pantheon of the best of the swashbucklers but it is a whole lot of fun and you get to see the one of the world\\'s best actors , daniel auteuil , have a whale of a good time .',\n",
              " \"the movie starts with a legend and ends with a story that is so far-fetched it would be impossible to believe if it weren't true . this is the stuff that disney movies are made of .\",\n",
              " 'like all great films about a life you never knew existed , it offers much to absorb and even more to think about after the final frame .',\n",
              " \"that the e-graveyard holds as many good ideas as bad is the cold comfort that chin's film serves up with style and empathy .\",\n",
              " 'while we no longer possess the lack-of-attention span that we did at seventeen , we had no trouble sitting for blade ii .',\n",
              " \"like a poor man's you can count on me\",\n",
              " '. . . a solid , unassuming drama .',\n",
              " 'a seriocomic debut of extravagant promise by georgian-israeli director dover kosashvili .',\n",
              " 'thanks to ice cube , benjamins feels an awful lot like friday in miami .',\n",
              " \"though the film is static , its writer-director's heart is in the right place , his plea for democracy and civic action laudable .\",\n",
              " \"the real star of this movie is the score , as in the songs translate well to film , and it's really well directed .\",\n",
              " \"it's rare to find a film to which the adjective 'gentle' applies , but the word perfectly describes pauline & paulette .\",\n",
              " 'my wife is an actress has its moments in looking at the comic effects of jealousy . in the end , though , it is only mildly amusing when it could have been so much more .',\n",
              " 'both garcia and jagger turn in perfectly executed and wonderfully sympathetic characters , who are alternately touching and funny .',\n",
              " 'humorous , artsy , and even cute , in an off-kilter , dark , vaguely disturbing way .',\n",
              " 'the more you think about the movie , the more you will probably like it .',\n",
              " '. . . a powerful sequel and one of the best films of the year .',\n",
              " 'for the most part , the film does hold up pretty well .',\n",
              " \"together [time out and human resources] establish mr . cantet as france's foremost cinematic poet of the workplace .\",\n",
              " \"the filmmaker's heart is in the right place . . .\",\n",
              " 'you can take the grandkids or the grandparents and never worry about anyone being bored . . . audience is a sea of constant smiles and frequent laughter .',\n",
              " \"like these russo guys lookin' for their mamet instead found their sturges .\",\n",
              " '[a] satisfying niblet .',\n",
              " \"there has been a string of ensemble cast romances recently . . . but peter mattei's love in the time of money sets itself apart by forming a chain of relationships that come full circle to end on a positive ( if tragic ) note .\",\n",
              " 'by applying definition to both sides of the man , the picture realizes a fullness that does not negate the subject .',\n",
              " 'who is the audience for cletis tout ? anybody who enjoys quirky , fun , popcorn movies with a touch of silliness and a little bloodshed .',\n",
              " '[cuarón has] created a substantive movie out of several cliched movie structures : the road movie , the coming-of-age movie , and the teenage sex comedy .',\n",
              " 'puts to rest any thought that the german film industry cannot make a delightful comedy centering on food .',\n",
              " 'poetic , heartbreaking .',\n",
              " \"witty dialog between realistic characters showing honest emotions . it's touching and tender and proves that even in sorrow you can find humor . like blended shades of lipstick , these components combine into one terrific story with lots of laughs .\",\n",
              " \"<em>ash wednesday</em> is not edward burns' best film , but it is a good and ambitious film . and it marks him as one of the most interesting writer/directors working today .\",\n",
              " \"after one gets the feeling that the typical hollywood disregard for historical truth and realism is at work here , it's a matter of finding entertainment in the experiences of zishe and the fiery presence of hanussen .\",\n",
              " 'the footage of the rappers at play and the prison interview with suge knight are just two of the elements that will grab you .',\n",
              " \". . . it's as comprehensible as any dummies guide , something even non-techies can enjoy .\",\n",
              " \"don't wait to see this terrific film with your kids -- if you don't have kids borrow some .\",\n",
              " \"moretti . . . is the rare common-man artist who's wise enough to recognize that there are few things in this world more complex -- and , as it turns out , more fragile -- than happiness .\",\n",
              " \"the movie's captivating details are all in the performances , from foreman's barking-mad taylor to thewlis's smoothly sinister freddie and bettany/mcdowell's hard-eyed gangster .\",\n",
              " \"features fincher's characteristically startling visual style and an almost palpable sense of intensity .\",\n",
              " 'precocious smarter-than-thou wayward teen struggles to rebel against his oppressive , right-wing , propriety-obsessed family . anyone else seen this before ?',\n",
              " 'moore provides an invaluable service by sparking debate and encouraging thought . better still , he does all of this , and more , while remaining one of the most savagely hilarious social critics this side of jonathan swift .',\n",
              " 'alternating between facetious comic parody and pulp melodrama , this smart-aleck movie . . . tosses around some intriguing questions about the difference between human and android life .',\n",
              " 'a cutesy romantic tale with a twist .',\n",
              " 'this is a gorgeous film - vivid with color , music and life . delight your senses and crash this wedding !',\n",
              " 'a brutally dry satire of middle american numbness .',\n",
              " 'more sophisticated and literate than such pictures usually are . . . an amusing little catch .',\n",
              " 'smith examines the intimate , unguarded moments of folks who live in unusual homes -- which pop up in nearly every corner of the country .',\n",
              " 'with an admirably dark first script by brent hanley , paxton , making his directorial feature debut , does strong , measured work .',\n",
              " 'a compelling french psychological drama examining the encounter of an aloof father and his chilly son after 20 years apart .',\n",
              " \". . . even if you've never heard of chaplin , you'll still be glued to the screen .\",\n",
              " \"you have enough finely tuned acting to compensate for the movie's failings .\",\n",
              " 'as the dominant christine , sylvie testud is icily brilliant .',\n",
              " 'although tender and touching , the movie would have benefited from a little more dramatic tension and some more editing .',\n",
              " 'the story that emerges has elements of romance , tragedy and even silent-movie comedy .',\n",
              " '[ \" safe conduct \" ] is a long movie at 163 minutes but it fills the time with drama , romance , tragedy , bravery , political intrigue , partisans and sabotage . viva le resistance !',\n",
              " 'it offers a glimpse of the solomonic decision facing jewish parents in those turbulent times : to save their children and yet to lose them .',\n",
              " 'the film is delicately narrated by martin landau and directed with sensitivity and skill by dana janklowicz-mann .',\n",
              " 'martyr gets royally screwed and comes back for more .',\n",
              " 'a virtual roller-coaster ride of glamour and sleaze .',\n",
              " 'an admirable , sometimes exceptional film',\n",
              " 'if you like an extreme action-packed film with a hint of humor , then triple x marks the spot .',\n",
              " \"from blushing to gushing---imamura squirts the screen in \\x91warm water under a red bridge'\",\n",
              " \"if you're the kind of parent who enjoys intentionally introducing your kids to films which will cause loads of irreparable damage that years and years of costly analysis could never fix , i have just one word for you -\\x96 decasia\",\n",
              " 'may not be a breakthrough in filmmaking , but it is unwavering and arresting .',\n",
              " \"the film's images give a backbone to the company and provide an emotional edge to its ultimate demise .\",\n",
              " 'a bodice-ripper for intellectuals .',\n",
              " 'the locations go from stark desert to gorgeous beaches . the story plays out slowly , but the characters are intriguing and realistic .',\n",
              " 'count on his movie to work at the back of your neck long after you leave the theater .',\n",
              " 'neil burger here succeeded in . . . making the mystery of four decades back the springboard for a more immediate mystery in the present .',\n",
              " 'the complex , politically charged tapestry of contemporary chinese life this exciting new filmmaker has brought to the screen is like nothing we westerners have seen before .',\n",
              " \"a thriller made from a completist's checklist rather than with a cultist's passion .\",\n",
              " \"try as you might to scrutinize the ethics of kaufman's approach , somehow it all comes together to create a very compelling , sensitive , intelligent and almost cohesive piece of film entertainment .\",\n",
              " 'as quiet , patient and tenacious as mr . lopez himself , who approaches his difficult , endless work with remarkable serenity and discipline .',\n",
              " 'though the film never veers from its comic course , its unintentional parallels might inadvertently evoke memories and emotions which are anything but humorous .',\n",
              " 'evokes the style and flash of the double-cross that made mamet\\'s \" house of games \" and last fall\\'s \" heist \" so much fun .',\n",
              " 'so original in its base concept that you cannot help but get caught up .',\n",
              " \"it may be a no-brainer , but at least it's a funny no-brainer .\",\n",
              " 'a lot more dimensional and complex than its sunny disposition would lead you to believe .',\n",
              " 'jeffs has created a breathtakingly assured and stylish work of spare dialogue and acute expressiveness .',\n",
              " 'underachieves only in not taking the shakespeare parallels quite far enough .',\n",
              " 'the most audacious , outrageous , sexually explicit , psychologically probing , pure libido film of the year has arrived from portugal .',\n",
              " \"the creative animation work may not look as fully 'rendered' as pixar's industry standard , but it uses lighting effects and innovative backgrounds to an equally impressive degree .\",\n",
              " 'art-house to the core , read my lips is a genre-curling crime story that revives the free-wheeling noir spirit of old french cinema .',\n",
              " 'grant is certainly amusing , but the very hollowness of the character he plays keeps him at arms length',\n",
              " 'conceptually brilliant . . . plays like a living-room war of the worlds , gaining most of its unsettling force from the suggested and the unknown .',\n",
              " '. . . manages to deliver a fair bit of vampire fun .',\n",
              " 'drama of temptation , salvation and good intentions is a thoughtful examination of faith , love and power .',\n",
              " 'the strength of the film comes not from any cinematic razzle-dazzle but from its recovery of an historical episode that , in the simple telling , proves simultaneously harrowing and uplifting .',\n",
              " 'the performances are strong , though the subject matter demands acting that borders on hammy at times .',\n",
              " 'a damn fine and a truly distinctive and a deeply pertinent film .',\n",
              " 'still rapturous after all these years , cinema paradiso stands as one of the great films about movie love .',\n",
              " 'reggio and glass put on an intoxicating show .',\n",
              " \"macdowell . . . gives give a solid , anguished performance that eclipses nearly everything else she's ever done .\",\n",
              " \"the thing about guys like evans is this : you're never quite sure where self-promotion ends and the truth begins . but as you watch the movie , you're too interested to care .\",\n",
              " 'i liked a lot of the smaller scenes .',\n",
              " 'the film will appeal to discovery channel fans and will surely widen the perspective of those of us who see the continent through rose-colored glasses .',\n",
              " \"an eye-boggling blend of psychedelic devices , special effects and backgrounds , 'spy kids 2' is a visual treat for all audiences .\",\n",
              " 'formuliac , but fun .',\n",
              " 'straightforward and old-fashioned in the best possible senses of both those words , possession is a movie that puts itself squarely in the service of the lovers who inhabit it .',\n",
              " 'it may . . . work as a jaunt down memory lane for teens and young adults who grew up on televised scooby-doo shows or reruns .',\n",
              " 'one of those movies that catches you up in something bigger than yourself , namely , an archetypal desire to enjoy good trash every now and then .',\n",
              " 'this harrowing journey into combat hell vividly captures the chaotic insanity and personal tragedies that are all too abundant when human hatred spews forth unchecked .',\n",
              " \"far more successful , if considerably less ambitious , than last year's kubrick-meets-spielberg exercise .\",\n",
              " 'apart from anything else , this is one of the best-sustained ideas i have ever seen on the screen .',\n",
              " \"'pocas veces es posible ver un elenco tan compenetrado con la historia , donde todos y cada uno de los actores ofrecen actuaciones verdaderamente memorables . '\",\n",
              " 'elling builds gradually until you feel fully embraced by this gentle comedy .',\n",
              " 'a fascinating examination of the joyous , turbulent self-discovery made by a proper , middle-aged woman .',\n",
              " \"here is a vh1 behind the music special that has something a little more special behind it : music that didn't sell many records but helped change a nation .\",\n",
              " 'buy popcorn . take nothing seriously and enjoy the ride .',\n",
              " 'carrying off a spot-on scottish burr , duvall ( also a producer ) peels layers from this character that may well not have existed on paper .',\n",
              " \"the acting , for the most part , is terrific , although the actors must struggle with the fact that they're playing characters who sometimes feel more like literary conceits than flesh-and-blood humans .\",\n",
              " \"some body will take you places you haven't been , and also places you have .\",\n",
              " 'vereté has a whip-smart sense of narrative bluffs .',\n",
              " \"parts of the film feel a bit too much like an infomercial for ram dass's latest book aimed at the boomer demographic . but mostly it's a work that , with humor , warmth , and intelligence , captures a life interestingly lived .\",\n",
              " \"were it not for a sentimental resolution that explains way more about cal than does the movie or the character any good , freundlich's world traveler might have been one of the more daring and surprising american movies of the year .\",\n",
              " '\" home movie \" is the film equivalent of a lovingly rendered coffee table book .',\n",
              " \"graphic sex may be what's attracting audiences to unfaithful , but gripping performances by lane and gere are what will keep them awake .\",\n",
              " \"when compared to the usual , more somber festival entries , davis' highly personal brand of romantic comedy is a tart , smart breath of fresh air that stands out from the pack even if the picture itself is somewhat problematic .\",\n",
              " 'feels untidily honest .',\n",
              " 'both damning and damned compelling .',\n",
              " \"much has been written about those years when the psychedelic '60s grooved over into the gay '70s , but words don't really do the era justice . you have to see it .\",\n",
              " 'even if it pushes its agenda too forcefully , this remains a film about something , one that attempts and often achieves a level of connection and concern .',\n",
              " 'what lifts the film high above run-of-the-filth gangster flicks is its refusal to recognise any of the signposts , as if discovering a way through to the bitter end without a map .',\n",
              " \"we've seen the hippie-turned-yuppie plot before , but there's an enthusiastic charm in <i ? fire that makes the formula fresh again .\",\n",
              " 'both an admirable reconstruction of terrible events , and a fitting memorial to the dead of that day , and of the thousands thereafter .',\n",
              " 'a sly dissection of the inanities of the contemporary music business and a rather sad story of the difficulties of artistic collaboration .',\n",
              " \"the unique niche of self-critical , behind-the-scenes navel-gazing kaufman has carved from orleans' story and his own infinite insecurity is a work of outstanding originality .\",\n",
              " \"it's difficult to discern if this is a crazy work of disturbed genius or merely 90 minutes of post-adolescent electra rebellion .\",\n",
              " \"bogs down badly as we absorb jia's moody , bad-boy behavior which he portrays himself in a one-note performance .\",\n",
              " 'the camera whirls ! the camera twirls ! oh , look at that clever angle ! wow , a jump cut !',\n",
              " 'demme finally succeeds in diminishing his stature from oscar-winning master to lowly studio hack .',\n",
              " \"the action scenes have all the suspense of a 20-car pileup , while the plot holes are big enough for a train car to drive through -- if kaos hadn't blown them all up .\",\n",
              " 'it almost feels as if the movie is more interested in entertaining itself than in amusing us .',\n",
              " 'it puts washington , as honest working man john q . archibald , on a pedestal , then keeps lifting the pedestal higher .',\n",
              " \"ultimately , the film amounts to being lectured to by tech-geeks , if you're up for that sort of thing .\",\n",
              " 'far more enjoyable than its predecessor .',\n",
              " \"[gayton's script] telegraphs every discovery and layers on the gloss of convenience .\",\n",
              " \"full frontal , which opens today nationwide , could almost be classified as a movie-industry satire , but it lacks the generous inclusiveness that is the genre's definitive , if disingenuous , feature .\",\n",
              " 'a ragbag of cliches .',\n",
              " \"this rough trade punch-and-judy act didn't play well then and it plays worse now .\",\n",
              " 'a reality-snubbing hodgepodge .',\n",
              " \"the three leads produce adequate performances , but what's missing from this material is any depth of feeling .\",\n",
              " \"it's possible that something hip and transgressive was being attempted here that stubbornly refused to gel , but the result is more puzzling than unsettling .\",\n",
              " 'this painfully unfunny farce traffics in tired stereotypes and encumbers itself with complications . . . that have no bearing on the story .',\n",
              " 'short and sweet , but also more than anything else slight\\x85 tadpole pulls back from the consequences of its own actions and revelations .',\n",
              " \"has its moments , but it's pretty far from a treasure .\",\n",
              " \"what more can be expected from a college comedy that's target audience hasn't graduated from junior high school ?\",\n",
              " 'collateral damage offers formula payback and the big payoff , but the explosions tend to simply hit their marks , pyro-correctly .',\n",
              " \"the plan to make enough into \\x91an inspiring tale of survival wrapped in the heart-pounding suspense of a stylish psychological thriller' has flopped as surely as a soufflé gone wrong .\",\n",
              " 'instead of letting the laughs come as they may , lawrence unleashes his trademark misogyny -- er , comedy -- like a human volcano or an overflowing septic tank , take your pick .',\n",
              " \"you know that ten bucks you'd spend on a ticket ? just send it to cranky . we don't get paid enough to sit through crap like this .\",\n",
              " 'an even more predictable , cliche-ridden endeavor than its predecessor .',\n",
              " 'the whole thing plays like a tired tyco ad .',\n",
              " \"the film doesn't show enough of the creative process or even of what was created for the non-fan to figure out what makes wilco a big deal .\",\n",
              " 'the soupy end result has the odd distinction of being playful without being fun , too .',\n",
              " \"no , i don't know why steven seagal is considered a star , nor why he keeps being cast in action films when none of them are ever any good or make any money .\",\n",
              " 'even by the intentionally low standards of frat-boy humor , sorority boys is a bowser .',\n",
              " 'one well-timed explosion in a movie can be a knockout , but a hundred of them can be numbing . proof of this is ballistic : ecks vs . sever .',\n",
              " 'halfway through , however , having sucked dry the undead action flick formula , blade ii mutates into a gross-out monster movie with effects that are more silly than scary .',\n",
              " 'weighted down with slow , uninvolving storytelling and flat acting .',\n",
              " \"we can't accuse kung pow for misfiring , since it is exactly what it wants to be : an atrociously , mind-numbingly , indescribably bad movie . unfortunately , we'd prefer a simple misfire .\",\n",
              " \"there isn't one moment in the film that surprises or delights .\",\n",
              " \"'wouldn't it be nice if all guys got a taste of what it's like on the other side of the bra ? '\",\n",
              " \"the movie is essentially a series of fleetingly interesting actors' moments .\",\n",
              " 'most of the information has already appeared in one forum or another and , no matter how broomfield dresses it up , it tends to speculation , conspiracy theories or , at best , circumstantial evidence .',\n",
              " 'this movie , a certain scene in particular , brought me uncomfortably close to losing my lunch .',\n",
              " 'the secrets of time travel will have been discovered , indulged in and rejected as boring before i see this piece of crap again .',\n",
              " 'smug , artificial , ill-constructed and fatally overlong . . . it never finds a consistent tone and lacks bite , degenerating into a pious , preachy soap opera .',\n",
              " 'chelsea walls is a case of too many chefs fussing over too weak a recipe .',\n",
              " \"every joke is repeated at least four times . every joke is repeated at least four times . every joke is repeated at least--annoying , isn't it ?\",\n",
              " 'comes across as a fairly weak retooling .',\n",
              " 'the lousy lead performances . . . keep the movie from ever reaching the comic heights it obviously desired .',\n",
              " \"its and pieces of the hot chick are so hilarious , and schneider's performance is so fine , it's a real shame that so much of the movie -- again , as in the animal -- is a slapdash mess .\",\n",
              " '[creates] the worst kind of mythologizing , the kind that sacrifices real heroism and abject suffering for melodrama .',\n",
              " 'the movie resolutely avoids all the comic possibilities of its situation , and becomes one more dumb high school comedy about sex gags and prom dates .',\n",
              " 'earnest and heartfelt but undernourished and plodding .',\n",
              " 'a sugar-coated rocky whose valuable messages are forgotten 10 minutes after the last trombone honks .',\n",
              " 'romanek keeps adding flourishes -- artsy fantasy sequences -- that simply feel wrong . they cheapen the overall effect .',\n",
              " 'has all the complexity and realistic human behavior of an episode of general hospital .',\n",
              " \"an acceptable way to pass a little over an hour with moviegoers ages 8-10 , but it's unlikely to inspire anything more than a visit to mcdonald's , let alone some savvy street activism .\",\n",
              " \"[allen's] been making piffle for a long while , and hollywood ending may be his way of saying that piffle is all that the airhead movie business deserves from him right now .\",\n",
              " 'an exercise in cynicism every bit as ugly as the shabby digital photography and muddy sound .',\n",
              " 'mildly amusing .',\n",
              " 'not good enough to pass for a litmus test of the generation gap and not bad enough to repulse any generation of its fans .',\n",
              " \"the movie is silly beyond comprehension , and even if it weren't silly , it would still be beyond comprehension .\",\n",
              " 'watchable up until the point where the situations and the dialogue spin hopelessly out of control -- that is to say , when carol kane appears on the screen .',\n",
              " \"the scriptwriters are no less a menace to society than the film's characters .\",\n",
              " 'fairly run-of-the-mill .',\n",
              " \"merchant hasn't directed this movie so much as produced it -- like sausage .\",\n",
              " \"the film has a nearly terminal case of the cutes , and it's neither as funny nor as charming as it thinks it is .\",\n",
              " 'more a gunfest than a rock concert .',\n",
              " \"it's a frightful vanity film that , no doubt , pays off what debt miramax felt they owed to benigni .\",\n",
              " 'a muddy psychological thriller rife with miscalculations . it makes me say the obvious : abandon all hope of a good movie ye who enter here .',\n",
              " 'mildly entertaining .',\n",
              " \"it's not original enough .\",\n",
              " 'a listless sci-fi comedy in which eddie murphy deploys two guises and elaborate futuristic sets to no particularly memorable effect .',\n",
              " 'terrible .',\n",
              " 'little more than a super-sized infomercial for the cable-sports channel and its summer x games .',\n",
              " 'degenerates into hogwash .',\n",
              " \"a generic bloodbath that often becomes laughably unbearable when it isn't merely offensive .\",\n",
              " \"julie davis is the kathie lee gifford of film directors , sadly proving once again ego doesn't always go hand in hand with talent .\",\n",
              " \"an unholy mess , driven by the pathetic idea that if you shoot something on crummy-looking videotape , it must be labelled 'hip' , 'innovative' and 'realistic' .\",\n",
              " \"the story's pathetic and the gags are puerile .\",\n",
              " \". curiously , super troopers suffers because it doesn't have enough vices to merit its 103-minute length .\",\n",
              " 'so bland and utterly forgettable that it might as well have been titled generic jennifer lopez romantic comedy .',\n",
              " 'i was sent a copyof this film to review on dvd . for free . i still want my money back .',\n",
              " 'it plods along methodically , somehow under the assumption that its \" dead wife communicating from beyond the grave \" framework is even remotely new or interesting .',\n",
              " \"it's hard to believe that a relationship like holly and marina's could survive the hothouse emotions of teendom , and its longevity gets more inexplicable as the characterizations turn more crassly reductive .\",\n",
              " \"all too familiar . . . basically the sort of cautionary tale that was old when 'angels with dirty faces' appeared in 1938 .\",\n",
              " 'passable enough for a shoot-out in the o . k . court house of life type of flick . strictly middle of the road .',\n",
              " \"although purportedly a study in modern alienation , it's really little more than a particularly slanted , gay s/m fantasy , enervating and deadeningly drawn-out .\",\n",
              " 'after the first 10 minutes , which is worth seeing , the movie sinks into an abyss of clichés , depression and bad alternative music .',\n",
              " \"no one can doubt the filmmakers' motives , but the guys still feels counterproductive .\",\n",
              " 'a very slow , uneventful ride around a pretty tattered old carousel .',\n",
              " 'with little visible talent and no energy , colin hanks is in bad need of major acting lessons and maybe a little coffee .',\n",
              " '\" feardotcom \" has the makings of an interesting meditation on the ethereal nature of the internet and the otherworldly energies it could channel , but it simply becomes a routine shocker .',\n",
              " 'a meatballs for the bare-midriff generation .',\n",
              " \"well-meaning to a fault , antwone fisher manages the dubious feat of turning one man's triumph of will into everyman's romance comedy .\",\n",
              " \"seemingly disgusted with the lazy material and the finished product's unshapely look , director fisher stevens inexplicably dips key moments from the film in waking life water colors .\",\n",
              " 'formula 51 promises a new kind of high but delivers the same old bad trip .',\n",
              " 'everything that was right about blade is wrong in its sequel .',\n",
              " \"a few energetic stunt sequences briefly enliven the film , but the wheezing terrorist subplot hasn't the stamina for the 100-minute running time , and the protagonists' bohemian boorishness mars the spirit of good clean fun .\",\n",
              " 'the film was produced by jerry bruckheimer and directed by joel schumacher , and reflects the worst of their shallow styles : wildly overproduced , inadequately motivated every step of the way and demographically targeted to please every one ( and no one ) .',\n",
              " 'disney again ransacks its archives for a quick-buck sequel .',\n",
              " 'coarse , cliched and clunky , this trifling romantic comedy in which opposites attract for no better reason than that the screenplay demands it squanders the charms of stars hugh grant and sandra bullock .',\n",
              " 'anyone who suffers through this film deserves , at the very least , a big box of consolation candy .',\n",
              " \"how much you are moved by the emotional tumult of [françois and michèle's] relationship depends a lot on how interesting and likable you find them .\",\n",
              " \"they presume their audience won't sit still for a sociology lesson , however entertainingly presented , so they trot out the conventional science-fiction elements of bug-eyed monsters and futuristic women in skimpy clothes .\",\n",
              " 'collapses after 30 minutes into a slap-happy series of adolescent violence .',\n",
              " \"the following things are not at all entertaining : the bad sound , the lack of climax and , worst of all , watching seinfeld ( who is also one of the film's producers ) do everything he can to look like a good guy .\",\n",
              " \"attal's hang-ups surrounding infidelity are so old-fashioned and , dare i say , outdated , it's a wonder that he couldn't have brought something fresher to the proceedings simply by accident .\",\n",
              " 'obvious , obnoxious and didactic burlesque .',\n",
              " 'the most surprising thing about this film is that they are actually releasing it into theaters .',\n",
              " \"michele is a such a brainless flibbertigibbet that it's hard to take her spiritual quest at all seriously .\",\n",
              " 'ultimately , clarity matters , both in breaking codes and making movies . enigma lacks it .',\n",
              " 'potty-mouthed enough for pg-13 , yet not as hilariously raunchy as south park , this strangely schizo cartoon seems suited neither to kids or adults .',\n",
              " \". . . has its moments , but ultimately , its curmudgeon doesn't quite make the cut of being placed on any list of favorites .\",\n",
              " 'a distinctly minor effort that will be seen to better advantage on cable , especially considering its barely feature-length running time of one hour .',\n",
              " 'most of the movie is so deadly dull that watching the proverbial paint dry would be a welcome improvement .',\n",
              " 'in the end , tuck everlasting falls victim to that everlasting conundrum experienced by every human who ever lived : too much to do , too little time to do it in .',\n",
              " 'rather less than the sum of its underventilated père-fils confrontations .',\n",
              " 'mckay shows crushingly little curiosity about , or is ill-equipped to examine , the interior lives of the characters in his film , much less incorporate them into his narrative .',\n",
              " 'plays like a series of vignettes -- clips of a film that are still looking for a common through-line .',\n",
              " 'new yorkers always seem to find the oddest places to dwell . . .',\n",
              " 'amid the shock and curiosity factors , the film is just a corny examination of a young actress trying to find her way .',\n",
              " \"yes , spirited away is a triumph of imagination , but it's also a failure of storytelling .\",\n",
              " 'a characteristically engorged and sloppy coming-of-age movie .',\n",
              " 'a somewhat disappointing and meandering saga .',\n",
              " \"whenever you think you've seen the end of the movie , we cut to a new scene , which also appears to be the end . but , no , we get another scene , and then another . you begin to long for the end credits as the desert does for rain .\",\n",
              " 'an empty , ugly exercise in druggy trance-noir and trumped-up street credibility .',\n",
              " 'the screenplay , co-written by director imogen kimmel , lacks the wit necessary to fully exploit the comic elements of the premise , making the proceedings more bizarre than actually amusing .',\n",
              " 'the milieu is wholly unconvincing . . . and the histrionics reach a truly annoying pitch .',\n",
              " 'unfunny comedy with a lot of static set ups , not much camera movement , and most of the scenes take place indoors in formal settings with motionless characters .',\n",
              " 'each story is built on a potentially interesting idea , but the first two are ruined by amateurish writing and acting , while the third feels limited by its short running time .',\n",
              " \"except for paymer as the boss who ultimately expresses empathy for bartleby's pain , the performances are so stylized as to be drained of human emotion .\",\n",
              " \"will no doubt delight plympton's legion of fans ; others may find 80 minutes of these shenanigans exhausting .\",\n",
              " 'the laughs are as rare as snake foo yung .',\n",
              " 'for a film that celebrates radical , nonconformist values , what to do in case of fire ? lazily and glumly settles into a most traditional , reserved kind of filmmaking .',\n",
              " \"knockaround guys plays like a student film by two guys who desperately want to be quentin tarantino when they grow up . but they lack their idol's energy and passion for detail .\",\n",
              " \"mattei so completely loses himself to the film's circular structure to ever offer any insightful discourse on , well , love in the time of money .\",\n",
              " 'it briefly flirts with player masochism , but the point of real interest -\\x96 audience sadism -- is evaded completely .',\n",
              " \"holland lets things peter out midway , but it's notably better acted -- and far less crass - than some other recent efforts in the burgeoning genre of films about black urban professionals .\",\n",
              " 'for every articulate player , such as skateboarder tony hawk or bmx rider mat hoffman , are about a half dozen young turks angling to see how many times they can work the words \" radical \" or \" suck \" into a sentence .',\n",
              " \"there's not a fresh idea at the core of this tale .\",\n",
              " 'an impenetrable and insufferable ball of pseudo-philosophic twaddle .',\n",
              " \"it's unfortunate that wallace , who wrote gibson's braveheart as well as the recent pearl harbor , has such an irrepressible passion for sappy situations and dialogue .\",\n",
              " \"i liked the movie , but i know i would have liked it more if it had just gone that one step further . i'm left slightly disappointed that it didn't .\",\n",
              " 'dreary tale of middle-class angst',\n",
              " 'for a movie about the power of poetry and passion , there is precious little of either .',\n",
              " '[jackson and bledel] seem to have been picked not for their acting chops , but for their looks and appeal to the pre-teen crowd .',\n",
              " 'lillard and cardellini earn their scooby snacks , but not anyone else .',\n",
              " \"like schindler's list , the grey zone attempts to be grandiloquent , but ends up merely pretentious -- in a grisly sort of way .\",\n",
              " 'an unremittingly ugly movie to look at , listen to , and think about , it is quite possibly the sturdiest example yet of why the dv revolution has cheapened the artistry of making a film .',\n",
              " '[screenwriter] pimental took the farrelly brothers comedy and feminized it , but it is a rather poor imitation .',\n",
              " \"it's kind of sad that so many people put so much time and energy into this turkey .\",\n",
              " 'friday after next is a lot more bluster than bite .',\n",
              " 'its juxtaposition of overwrought existentialism and stomach-churning gore will have you forever on the verge of either cracking up or throwing up .',\n",
              " 'a decidedly mixed bag .',\n",
              " 'meandering and confusing .',\n",
              " 'there are cheesy backdrops , ridiculous action sequences , and many tired jokes about men in heels .',\n",
              " \"ice cube isn't quite out of ripe screwball ideas , but friday after next spreads them pretty thin .\",\n",
              " 'not everything in the film works , including its somewhat convenient ending .',\n",
              " 'the characters , cast in impossibly contrived situations , are totally estranged from reality .',\n",
              " 'everything else about high crimes is , like the military system of justice it portrays , tiresomely regimented .',\n",
              " \"just dreadful . i don't blame eddie murphy but shouldn't owen wilson know a movie must have a story and a script ?\",\n",
              " \"sweet home alabama certainly won't be remembered as one of [witherspoon's] better films .\",\n",
              " 'hard as this may be to believe , here on earth , a surprisingly similar teen drama , was a better film .',\n",
              " 'this is just lazy writing . even kids deserve better .',\n",
              " \"the pretensions -- and disposable story -- sink the movie . and diesel isn't the actor to save it .\",\n",
              " 'bravo reveals the true intent of her film by carefully selecting interview subjects who will construct a portrait of castro so predominantly charitable it can only be seen as propaganda .',\n",
              " '. . . a preachy parable stylized with a touch of john woo bullet ballet .',\n",
              " \"frank capra played this story straight . but the 2002 film doesn't really believe in it , and breaks the mood with absurdly inappropriate 'comedy' scenes .\",\n",
              " 'how about starting with a more original story instead of just slapping extreme humor and gross-out gags on top of the same old crap ?',\n",
              " 'the problem is that for the most part , the film is deadly dull .',\n",
              " \"handled correctly , wilde's play is a masterpiece of elegant wit and artifice . here , alas , it collapses like an overcooked soufflé .\",\n",
              " '\" sorority boys \" was funnier , and that movie was pretty bad .',\n",
              " \"a bizarre piece of work , with premise and dialogue at the level of kids' television and plot threads as morose as teen pregnancy , rape and suspected murder\",\n",
              " 'paul bettany is good at being the ultra-violent gangster wannabe , but the movie is certainly not number 1 .',\n",
              " \"it's a gag that's worn a bit thin over the years , though don't ask still finds a few chuckles .\",\n",
              " \"an uplifting drama . . . what antwone fisher isn't , however , is original .\",\n",
              " \"often likable , but just as often it's meandering , low on energy , and too eager to be quirky at moments when a little old-fashioned storytelling would come in handy .\",\n",
              " 'certain to be distasteful to children and adults alike , eight crazy nights is a total misfire .',\n",
              " 'elaborate special effects take centre screen , so that the human story is pushed to one side .',\n",
              " \"showtime isn't particularly assaultive , but it can still make you feel that you never want to see another car chase , explosion or gunfight again .\",\n",
              " 'all the characters are clinically depressed and have abandoned their slim hopes and dreams .',\n",
              " 'this tuxedo . . . should have been sent back to the tailor for some major alterations .',\n",
              " 'i have no problem with \" difficult \" movies , or movies that ask the audience to meet them halfway and connect the dots instead of having things all spelled out . but first , you have to give the audience a reason to <b>want</b> to put for that effort , and \" i',\n",
              " 'been there , done that . . . a thousand times already , and better .',\n",
              " \"what's most offensive isn't the waste of a good cast , but the film's denial of sincere grief and mourning in favor of bogus spiritualism .\",\n",
              " 'sunk by way too much indulgence of scene-chewing , teeth-gnashing actorliness .',\n",
              " \"fans of plympton's shorts may marginally enjoy the film , but it is doubtful this listless feature will win him any new viewers .\",\n",
              " 'barrels along at the start before becoming mired in sentimentality .',\n",
              " \"none of this sounds promising and , indeed , the first half of sorority boys is as appalling as any 'comedy' to ever spill from a projector's lens .\",\n",
              " 'the kind of movie that leaves vague impressions and a nasty aftertaste but little clear memory of its operational mechanics .',\n",
              " \"'punch-drunk love is so convinced of its own brilliance that , if it were a person , you'd want to smash its face in . '\",\n",
              " 'at once overly old-fashioned in its sudsy plotting and heavy-handed in its effort to modernize it with encomia to diversity and tolerance .',\n",
              " 'the trashy teen-sleaze equivalent of showgirls .',\n",
              " 'while the production details are lavish , film has little insight into the historical period and its artists , particularly in how sand developed a notorious reputation .',\n",
              " 'a crass and insulting homage to great films like some like it hot and the john wayne classics .',\n",
              " \"what's the most positive thing that can be said about the new rob schneider vehicle ? well , it's not as pathetic as the animal .\",\n",
              " 'with all the sympathy , empathy and pity fogging up the screen . . . his secret life enters the land of unintentional melodrama and tiresome love triangles .',\n",
              " \"the problematic characters and overly convenient plot twists foul up shum's good intentions .\",\n",
              " \"what 'blade runner' would've looked like as a low-budget series on a uhf channel .\",\n",
              " \"doesn't add up to much .\",\n",
              " 'has all the values of a straight-to-video movie , but because it has a bigger-name cast , it gets a full theatrical release .',\n",
              " 'with its lackadaisical plotting and mindless action , all about the benjamins evokes the bottom tier of blaxploitation flicks from the 1970s .',\n",
              " 'it never quite makes it to the boiling point , but manages to sustain a good simmer for most of its running time .',\n",
              " 'loud , silly , stupid and pointless .',\n",
              " \"mandel holland's direction is uninspired , and his scripting unsurprising , but the performances by phifer and black are ultimately winning . you'll find yourself wishing that you and they were in another movie .\",\n",
              " 'a yawn-provoking little farm melodrama .',\n",
              " 'did no one on the set have a sense of humor , or did they not have the nerve to speak up ?',\n",
              " 'crummy',\n",
              " 'seriously , rent the disney version .',\n",
              " 'as david letterman and the onion have proven , the worst of tragedies can be fertile sources of humor , but lawrence has only a fleeting grasp of how to develop them .',\n",
              " \"like its parade of predecessors , this halloween is a gory slash-fest . it can't escape its past , and it doesn't want to .\",\n",
              " '\" abandon \" will leave you wanting to abandon the theater .',\n",
              " 'problem is , we have no idea what in creation is going on .',\n",
              " 'a live-action cartoon , a fast-moving and cheerfully simplistic 88 minutes of exaggerated action put together with the preteen boy in mind .',\n",
              " 'a loquacious and dreary piece of business .',\n",
              " 'what the audience feels is exhaustion , from watching a movie that is dark ( dark green , to be exact ) , sour , bloody and mean .',\n",
              " \"director hoffman , his writer and kline's agent should serve detention\",\n",
              " 'dodgy mixture of cutesy romance , dark satire and murder mystery .',\n",
              " \"meticulously mounted , exasperatingly well-behaved film , which ticks off kahlo's lifetime milestones with the dutiful precision of a tax accountant .\",\n",
              " 'time of favor could have given audiences the time of day by concentrating on the elements of a revealing alienation among a culture of people who sadly are at hostile odds with one another through recklessness and retaliation .',\n",
              " \"i'm not sure which will take longer to heal : the welt on johnny knoxville's stomach from a riot-control projectile or my own tortured psyche .\",\n",
              " \"while serving sara does have a long way to go before it reaches the level of crudity in the latest austin powers extravaganza , there's nothing here to match that movie's intermittent moments of inspiration .\",\n",
              " \"i'm not sure which is worse : the poor acting by the ensemble cast , the flat dialogue by vincent r . nebrida or the gutless direction by laurice guillen .\",\n",
              " 'the only reason you should see this movie is if you have a case of masochism and an hour and a half to blow .',\n",
              " 'whatever about warning kids about the dangers of ouija boards , someone should dispense the same advice to film directors .',\n",
              " 'as with so many merchandised-to-the-max movies of this type , more time appears to have gone into recruiting the right bands for the playlist and the costuming of the stars than into the script , which has a handful of smart jokes and not much else .',\n",
              " \"the irwins' scenes are fascinating ; the movie as a whole is cheap junk and an insult to their death-defying efforts .\",\n",
              " 'if routine action and jokes like this are your cup of tea , then pay your $8 and get ready for the big shear . this is one baaaaaaaaad movie .',\n",
              " \"a man leaving the screening said the film was better than saving private ryan . he may have meant the internet short saving ryan's privates . but windtalkers doesn't beat that one , either .\",\n",
              " 'may puzzle his most ardent fans .',\n",
              " 'starts as a tart little lemon drop of a movie and ends up as a bitter pill .',\n",
              " 'we never feel anything for these characters , and as a result the film is basically just a curiosity .',\n",
              " 'those unfamiliar with mormon traditions may find the singles ward occasionally bewildering .',\n",
              " 'ritchie may not have a novel thought in his head , but he knows how to pose madonna .',\n",
              " 'the story , touching though it is , does not quite have enough emotional resonance or variety of incident to sustain a feature , and even at 85 minutes it feels a bit long .',\n",
              " 'feels like the work of an artist who is simply tired -- of fighting the same fights , of putting the weight of the world on his shoulders , of playing with narrative form .',\n",
              " 'while you have to admit it\\'s semi-amusing to watch robert deniro belt out \" when you\\'re a jet , you\\'re a jet all the way , \" it\\'s equally distasteful to watch him sing the lyrics to \" tonight . \"',\n",
              " 'an opportunity missed .',\n",
              " \"the whole mess boils down to a transparently hypocritical work that feels as though it's trying to set the women's liberation movement back 20 years .\",\n",
              " \"' . . . the cast portrays their cartoon counterparts well . . . but quite frankly , scoob and shag don't eat enough during the film . '\",\n",
              " 'more of the same old garbage hollywood has been trying to pass off as acceptable teen entertainment for some time now .',\n",
              " 'tv skit-com material fervently deposited on the big screen .',\n",
              " \"[johnnie to and wai ka fai are] sure to find an enthusiastic audience among american action-adventure buffs , but the film's interests may be too narrow to attract crossover viewers .\",\n",
              " 'if there was ever a movie where the upbeat ending feels like a copout , this is the one .',\n",
              " \"it's as sorry a mess as its director's diabolical debut , mad cows .\",\n",
              " \"any attempts at nuance given by the capable cast is drowned out by director jon purdy's sledgehammer sap .\",\n",
              " \"its audacious ambitions sabotaged by pomposity , steven soderbergh's space opera emerges as a numbingly dull experience .\",\n",
              " 'despite some strong performances , never rises above the level of a telanovela .',\n",
              " 'this is a picture that maik , the firebrand turned savvy ad man , would be envious of : it hijacks the heat of revolution and turns it into a sales tool .',\n",
              " 'feels slight , as if it were an extended short , albeit one made by the smartest kids in class .',\n",
              " 'unspeakable , of course , barely begins to describe the plot and its complications . vulgar is too optimistic a title .',\n",
              " 'the actors pull out all the stops in nearly every scene , but to diminishing effect . the characters never change .',\n",
              " 'if the last man were the last movie left on earth , there would be a toss-up between presiding over the end of cinema as we know it and another night of delightful hand shadows .',\n",
              " \"welles groupie/scholar peter bogdanovich took a long time to do it , but he's finally provided his own broadside at publishing giant william randolph hearst .\",\n",
              " 'makes the same mistake as the music industry it criticizes , becoming so slick and watered-down it almost loses what made you love it in the first place .',\n",
              " 'even as i valiantly struggled to remain interested , or at least conscious , i could feel my eyelids . . . getting . . . very . . . heavy . . .',\n",
              " 'a bad movie that happened to good actors .',\n",
              " 'wishy-washy .',\n",
              " 'boasts eye-catching art direction but has a forcefully quirky tone that quickly wears out its limited welcome .',\n",
              " 'screenwriter dan schneider and director shawn levy substitute volume and primary colors for humor and bite .',\n",
              " 'oversexed , at times overwrought comedy/drama that offers little insight into the experience of being forty , female and single .',\n",
              " \"that such a horrible movie could have sprung from such a great one is one of the year's worst cinematic tragedies .\",\n",
              " 'it all starts to smack of a hallmark hall of fame , with a few four letter words thrown in that are generally not heard on television .',\n",
              " \"rarely has a film's title served such dire warning .\",\n",
              " \"if you saw benigni's pinocchio at a public park , you'd grab your kids and run and then probably call the police .\",\n",
              " 'the animation is competent , and some of the gags are quite funny , but jonah . . . never shakes the oppressive , morally superior good-for-you quality that almost automatically accompanies didactic entertainment .',\n",
              " 'the pace of the film is very slow ( for obvious reasons ) and that too becomes off-putting .',\n",
              " 'mr . wollter and ms . seldhal give strong and convincing performances , but neither reaches into the deepest recesses of the character to unearth the quaking essence of passion , grief and fear .',\n",
              " \"shafer's feature doesn't offer much in terms of plot or acting .\",\n",
              " 'in his role of observer of the scene , lawrence sounds whiny and defensive , as if his life-altering experiences made him bitter and less mature .',\n",
              " '[t]he ideas of revolution #9 are more compelling than the execution',\n",
              " \"the film didn't convince me that calvin jr . 's barbershop represents some sort of beacon of hope in the middle of chicago's south side .\",\n",
              " 'what happens when something goes bump in the night and nobody cares ?',\n",
              " 'despite some comic sparks , welcome to collinwood never catches fire .',\n",
              " 'director george hickenlooper has had some success with documentaries , but here his sense of story and his juvenile camera movements smack of a film school undergrad , and his maudlin ending might not have gotten him into film school in the first place .',\n",
              " 'shows moments of promise but ultimately succumbs to cliches and pat storytelling .',\n",
              " 'even accepting this in the right frame of mind can only provide it with so much leniency .',\n",
              " 'some body is a shaky , uncertain film that nevertheless touches a few raw nerves .',\n",
              " \"all the small moments and flashbacks don't add up to much more than trite observations on the human condition .\",\n",
              " \"[a] stale retread of the '53 original .\",\n",
              " \"one thing's for sure\\x97if george romero had directed this movie , it wouldn't have taken the protagonists a full hour to determine that in order to kill a zombie you must shoot it in the head .\",\n",
              " 'for dance completists only .',\n",
              " 'one of the worst movies of the year .',\n",
              " 'spreads itself too thin , leaving these actors , as well as the members of the commune , short of profound characterizations',\n",
              " \"it wouldn't matter so much that this arrogant richard pryor wannabe's routine is offensive , puerile and unimaginatively foul-mouthed if it was at least funny .\",\n",
              " 'the locale . . . remains far more interesting than the story at hand .',\n",
              " \"yo , it's the days of our lives meets electric boogaloo .\",\n",
              " 'inconsequential road-and-buddy pic .',\n",
              " \"i liked the original short story but this movie , even at an hour and twenty-some minutes , it's too long and it goes nowhere .\",\n",
              " \"this little film is so slovenly done , so primitive in technique , that it can't really be called animation .\",\n",
              " 'makes 98 minutes feel like three hours .',\n",
              " \"hawke's film , a boring , pretentious waste of nearly two hours , doesn't tell you anything except that the chelsea hotel today is populated by whiny , pathetic , starving and untalented artistes .\",\n",
              " 'aspires to the cracked lunacy of the adventures of buckaroo banzai , but thanks to an astonishingly witless script ends up more like the adventures of ford fairlane .',\n",
              " 'real-life strongman ahola lacks the charisma and ability to carry the film on his admittedly broad shoulders .',\n",
              " 'the title , alone , should scare any sane person away .',\n",
              " \"low comedy doesn't come much lower .\",\n",
              " 'appropriately cynical social commentary aside , #9 never quite ignites .',\n",
              " \"it's crap on a leash--far too polite to scale the lunatic heights of joe dante's similarly styled gremlins .\",\n",
              " \"one of the most depressing movie-going experiences i can think of is to sit through about 90 minutes of a so-called 'comedy' and not laugh once .\",\n",
              " 'this is the kind of movie where the big scene is a man shot out of a cannon into a vat of ice cream .',\n",
              " \"let's face it -- there aren't many reasons anyone would want to see crossroads if they're not big fans of teen pop kitten britney spears .\",\n",
              " 'a loud , brash and mainly unfunny high school comedy .',\n",
              " \"an exceptionally dreary and overwrought bit of work , every bit as imperious as katzenberg's the prince of egypt from 1998 .\",\n",
              " 'insufferably naive .',\n",
              " 'the movie is so resolutely cobbled together out of older movies that it even uses a totally unnecessary prologue , just because it seems obligatory .',\n",
              " \"the movie's vision of a white american zealously spreading a puritanical brand of christianity to south seas islanders is one only a true believer could relish .\",\n",
              " \"maid in manhattan proves that it's easier to change the sheets than to change hackneyed concepts when it comes to dreaming up romantic comedies .\",\n",
              " 'a fairly harmless but ultimately lifeless feature-length afterschool special .',\n",
              " \"i can't remember the last time i saw a movie where i wanted so badly for the protagonist to fail .\",\n",
              " 'ill-considered , unholy hokum .',\n",
              " 'amazingly lame .',\n",
              " '. . . the whole thing succeeded only in making me groggy .',\n",
              " \"like most of jaglom's films , some of it is honestly affecting , but more of it seems contrived and secondhand .\",\n",
              " 'one long , numbing action sequence made up mostly of routine stuff yuen has given us before .',\n",
              " 'forgettable , if good-hearted , movie .',\n",
              " \"the film's most improbable feat ? it didn't go straight to video .\",\n",
              " '. . . about as exciting to watch as two last-place basketball teams playing one another on the final day of the season .',\n",
              " 'the chateau . . . is less concerned with cultural and political issues than doting on its eccentric characters .',\n",
              " 'cruel and inhuman cinematic punishment . . . simultaneously degrades its characters , its stars and its audience .',\n",
              " \"it's not too fast and not too slow . it's not too racy and it's not too offensive . it's not too much of anything .\",\n",
              " \"the great pity is that those responsible didn't cut their losses \\x96 and ours \\x96 and retitle it the adventures of direct-to-video nash , and send it to its proper home .\",\n",
              " 'about as original as a gangster sweating bullets while worrying about a contract on his life .',\n",
              " 'an empty shell of an epic rather than the real deal .',\n",
              " 'we could have expected a little more human being , and a little less product .',\n",
              " \"instead of using george and lucy's most obvious differences to ignite sparks , lawrence desperately looks elsewhere , seizing on george's haplessness and lucy's personality tics .\",\n",
              " 'whether quitting will prove absorbing to american audiences is debatable .',\n",
              " \"becomes a bit of a mishmash : a tearjerker that doesn't and a thriller that won't .\",\n",
              " 'family togetherness takes a back seat to inter-family rivalry and workplace ambition&#133 ; whole subplots have no explanation or even plot relevance .',\n",
              " \"grant isn't cary and bullock isn't katherine .\",\n",
              " \"like a fish that's lived too long , austin powers in goldmember has some unnecessary parts and is kinda wrong in places .\",\n",
              " 'two tedious acts light on great scares and a good surprise ending .',\n",
              " 'shyamalan should stop trying to please his mom .',\n",
              " 'the entire movie is in need of a scented bath .',\n",
              " \"i'm sorry to say that this should seal the deal - arnold is not , nor will he be , back .\",\n",
              " \"the story of trouble every day . . . is so sketchy it amounts to little more than preliminary notes for a science-fiction horror film , and the movie's fragmentary narrative style makes piecing the story together frustrating difficult .\",\n",
              " 'a movie to forget',\n",
              " 'for all of its insights into the dream world of teen life , and its electronic expression through cyber culture , the film gives no quarter to anyone seeking to pull a cohesive story out of its 2 1/2-hour running time .',\n",
              " 'enough is not a bad movie , just mediocre . the performances are so overstated , the effect comes off as self-parody .',\n",
              " 'it looks good , but it is essentially empty .',\n",
              " 'the film never finds its tone and several scenes run too long .',\n",
              " 'the idea is more interesting than the screenplay , which lags badly in the middle and lurches between not-very-funny comedy , unconvincing dramatics and some last-minute action strongly reminiscent of run lola run .',\n",
              " 'van wilder has a built-in audience , but only among those who are drying out from spring break and are still unconcerned about what they ingest .',\n",
              " 'a complete waste of time .',\n",
              " \"it's hard to believe that something so short could be so flabby .\",\n",
              " 'do we really need another film that praises female self-sacrifice ?',\n",
              " 'the major problem with windtalkers is that the bulk of the movie centers on the wrong character .',\n",
              " \"tennessee williams by way of oprah's book club .\",\n",
              " 'so verbally flatfooted and so emotionally predictable or bland that it plays like the standard made-for-tv movie .',\n",
              " 'the entire point of a shaggy dog story , of course , is that it goes nowhere , and this is classic nowheresville in every sense .',\n",
              " 'stale and clichéd to a fault .',\n",
              " 'this film is too busy hitting all of its assigned marks to take on any life of its own .',\n",
              " 'watching junk like this induces a kind of abstract guilt , as if you were paying dues for good books unread , fine music never heard .',\n",
              " \"the script feels as if it started to explore the obvious voyeuristic potential of 'hypertime' but then backed off when the producers saw the grosses for spy kids .\",\n",
              " 'starts off witty and sophisticated and you want to love it -- but filmmaker yvan attal quickly writes himself into a corner .',\n",
              " 'some like it hot on the hardwood proves once again that a man in drag is not in and of himself funny .',\n",
              " \"unfortunately , contrived plotting , stereotyped characters and woo's over-the-top instincts as a director undermine the moral dilemma at the movie's heart .\",\n",
              " 'witless and utterly pointless .',\n",
              " \"when 'science fiction' takes advantage of the fact that its intended audience hasn't yet had much science , it does a disservice to the audience and to the genre .\",\n",
              " 'show me the mugging .',\n",
              " 'represents something very close to the nadir of the thriller/horror genre .',\n",
              " 'visually sumptuous but intellectually stultifying .',\n",
              " 'as a feature-length film , it wears out its welcome as tryingly as the title character .',\n",
              " 'a guilty pleasure at best , and not worth seeing unless you want to laugh at it .',\n",
              " 'a sleep-inducing thriller with a single twist that everyone except the characters in it can see coming a mile away .',\n",
              " 'with a \" spy kids \" sequel opening next week , why bother with a contemptible imitator starring a \" snl \" has-been acting like an 8-year-old channeling roberto benigni ?',\n",
              " \"it's just rather leaden and dull .\",\n",
              " 'lacks the visual flair and bouncing bravado that characterizes better hip-hop clips and is content to recycle images and characters that were already tired 10 years ago .',\n",
              " \"'pocas ideas interesantes , un final pseudo místico que no corresponde al tono general del filme y que deja una sensación de inconformidad que hace pensar más de una vez si vale la pena ir a la taquilla y reclamar el precio del boleto . '\",\n",
              " 'statham employs an accent that i think is supposed to be an attempt at hardass american but sometimes just lapses into unhidden british .',\n",
              " 'instead of trying to bust some blondes , [diggs] should be probing why a guy with his talent ended up in a movie this bad .',\n",
              " 'initial strangeness inexorably gives way to rote sentimentality and mystical tenderness becomes narrative expedience .',\n",
              " 'de ayala is required to supply too much of the energy in a film that is , overall , far too staid for its subject matter .',\n",
              " 'dismally dull sci-fi comedy .',\n",
              " \"there's surely something wrong with a comedy where the only belly laughs come from the selection of outtakes tacked onto the end credits .\",\n",
              " 'when one hears harry shearer is going to make his debut as a film director , one would hope for the best',\n",
              " 'the leads we are given here are simply too bland to be interesting .',\n",
              " \"[toback's] fondness for fancy split-screen , stuttering editing and pompous references to wittgenstein and kirkegaard . . . blends uneasily with the titillating material .\",\n",
              " \"adam sandler's 8 crazy nights is 75 wasted minutes of sandler as the voice-over hero in columbia pictures' perverse idea of an animated holiday movie .\",\n",
              " 'essentially \" fatal attraction \" remade for viewers who were in diapers when the original was released in 1987 . . . . this story gets sillier , not scarier , as it goes along . . .',\n",
              " 'even a hardened voyeur would require the patience of job to get through this interminable , shapeless documentary about the swinging subculture .',\n",
              " \"the film's hero is a bore and his innocence soon becomes a questionable kind of inexcusable dumb innocence .\",\n",
              " 'a singularly off-putting romantic comedy .',\n",
              " 'this is an exercise not in biography but in hero worship .',\n",
              " \"it all comes down to whether you can tolerate leon barlow . i can't .\",\n",
              " \"in the spirit of the season , i assign one bright shining star to roberto benigni's pinocchio -- but i guarantee that no wise men will be following after it .\",\n",
              " \"check your brain and your secret agent decoder ring at the door because you don't want to think too much about what's going on . the movie does has some entertainment value - how much depends on how well you like chris rock .\",\n",
              " 'a movie that seems motivated more by a desire to match mortarboards with dead poets society and good will hunting than by its own story .',\n",
              " 'a culture clash comedy only half as clever as it thinks it is .',\n",
              " \"the logic of it all will be greek to anyone not predisposed to the movie's rude and crude humor .\",\n",
              " 'as self-aware movies go , who is cletis tout ? is clever enough , though thin writing proves its undoing .',\n",
              " 'starts out strongly before quickly losing its focus , point and purpose in a mess of mixed messages , over-blown drama and bruce willis with a scar .',\n",
              " '. . . a fascinating curiosity piece -- fascinating , that is , for about ten minutes . after that it becomes long and tedious like a classroom play in a college history course .',\n",
              " 'director jay russell weighs down his capricious fairy-tale with heavy sentiment and lightweight meaning .',\n",
              " 'there are many things that solid acting can do for a movie , but crafting something promising from a mediocre screenplay is not one of them .',\n",
              " 'its screenplay serves as auto-critique , and its clumsiness as its own most damning censure .',\n",
              " 'at times , it actually hurts to watch .',\n",
              " 'nemesis suffers from a paunchy midsection , several plodding action sequences and a wickedly undramatic central theme .',\n",
              " 'the jokes are telegraphed so far in advance they must have been lost in the mail .',\n",
              " \"[tries] to parody a genre that's already a joke in the united states . the movie is the equivalent of french hip-hop , which also seems to play on a 10-year delay .\",\n",
              " \"a beyond-lame satire , teddy bears' picnic ranks among the most pitiful directing debuts by an esteemed writer-actor .\",\n",
              " \"long before it's over , you'll be thinking of 51 ways to leave this loser .\",\n",
              " \"i've never seen ( a remake ) do anything as stomach-turning as the way adam sandler's new movie rapes , pillages and incinerates frank capra's classic . . .\",\n",
              " \"hollywood's answer to an air ball .\",\n",
              " 'and people make fun of me for liking showgirls</> .',\n",
              " \"such a wildly uneven hit-and-miss enterprise , you can't help suspecting that it was improvised on a day-to-day basis during production .\",\n",
              " \"a weird little movie that's amusing enough while you watch it , offering fine acting moments and pungent insights into modern l . a . 's show-biz and media subcultures . but it doesn't leave you with much .\",\n",
              " \"i'm convinced i could keep a family of five blind , crippled , amish people alive in this situation better than these british soldiers do at keeping themselves kicking .\",\n",
              " 'like mike is a slight and uninventive movie : like the exalted michael jordan referred to in the title , many can aspire but none can equal .',\n",
              " 'there is nothing funny in this every-joke-has- been-told-a- thousand-times- before movie .',\n",
              " \"always destined to be measured against anthony asquith's acclaimed 1952 screen adaptation .\",\n",
              " 'this is standard crime drama fare . . . instantly forgettable and thoroughly dull .',\n",
              " \"there's some outrageously creative action in the transporter . . . [b]ut by the time frank parachutes down onto a moving truck , it's just another cartoon with an unstoppable superman .\",\n",
              " 'one of those based-on-truth stories that persuades you , with every scene , that it could never really have happened this way .',\n",
              " 'from its nauseating spinning credits sequence to a very talented but underutilized supporting cast , bartleby squanders as much as it gives out .',\n",
              " 'yet another genre exercise , gangster no . 1 is as generic as its title .',\n",
              " 'despite the holes in the story and the somewhat predictable plot , moments of the movie caused me to jump in my chair . . .',\n",
              " \"there's an admirable rigor to jimmy's relentless anger , and to the script's refusal of a happy ending , but as those monologues stretch on and on , you realize there's no place for this story to go but down .\",\n",
              " 'once again , the intelligence of gay audiences has been grossly underestimated , and a meaty plot and well-developed characters have been sacrificed for skin and flash that barely fizzle .',\n",
              " 'a lightweight , uneven action comedy that freely mingles french , japanese and hollywood cultures .',\n",
              " '[a] slummer .',\n",
              " 'such a fine idea for a film , and such a stultifying , lifeless execution .',\n",
              " \"[allen's] best works understand why snobbery is a better satiric target than middle-america diversions could ever be .\",\n",
              " \"this overlong infomercial , due out on video before month's end , is tepid and tedious .\",\n",
              " 'an ambitious , guilt-suffused melodrama crippled by poor casting .',\n",
              " 'rarely has sex on screen been so aggressively anti-erotic .',\n",
              " 'a dull , inconsistent , dishonest female bonding picture .',\n",
              " 'so much about the film is loopy and ludicrous . . . that it could have been a hoot in a bad-movie way if the laborious pacing and endless exposition had been tightened .',\n",
              " 'a disappointment for a movie that should have been the ultimate imax trip .',\n",
              " 'does little to elaborate the conceit of setting this blood-soaked tragedy of murderous ambition in the era of richard nixon .',\n",
              " \"this sade is hardly a perverse , dangerous libertine and agitator -- which would have made for better drama . he's just a sad aristocrat in tattered finery , and the film seems as deflated as he does .\",\n",
              " \"the film's needlessly opaque intro takes its doe-eyed crudup out of pre-9/11 new york and onto a cross-country road trip of the homeric kind .\",\n",
              " 'it\\'s as if a bored cage spent the duration of the film\\'s shooting schedule waiting to scream : \" got aids yet ? \"',\n",
              " \"in a strange way , egoyan has done too much . he's worked too hard on this movie .\",\n",
              " 'the film has the thrown-together feel of a summer-camp talent show : hastily written , underrehearsed , arbitrarily plotted and filled with crude humor and vulgar innuendo .',\n",
              " \"the last three narcissists left on earth compete for each others' affections .\",\n",
              " 'a clash between the artificial structure of the story and the more contemporary , naturalistic tone of the film . . .',\n",
              " '[a] poorly executed comedy .',\n",
              " \"the movie's messages are quite admirable , but the story is just too clichéd and too often strains credulity .\",\n",
              " \"what we have here isn't a disaster , exactly , but a very handsomely produced let-down .\",\n",
              " 'the script was reportedly rewritten a dozen times -- either 11 times too many or else too few .',\n",
              " 'a shoddy male hip hop fantasy filled with guns , expensive cars , lots of naked women and rocawear clothing .',\n",
              " \"to the filmmakers , ivan is a prince of a fellow , but he comes across as shallow and glib though not mean-spirited , and there's no indication that he's been responsible for putting together any movies of particular value or merit .\",\n",
              " 'this is a movie filled with unlikable , spiteful idiots ; whether or not their friendship is salvaged makes no difference in the least .',\n",
              " \"it's as if allen , at 66 , has stopped challenging himself .\",\n",
              " 'scotland , pa is entirely too straight-faced to transcend its clever concept .',\n",
              " 'a movie that the less charitable might describe as a castrated cross between highlander and lolita .',\n",
              " 'not only does leblanc make one spectacularly ugly-looking broad , but he appears miserable throughout as he swaggers through his scenes .',\n",
              " \"there's little to recommend snow dogs , unless one considers cliched dialogue and perverse escapism a source of high hilarity .\",\n",
              " \"it's deep-sixed by a compulsion to catalog every bodily fluids gag in there's something about mary and devise a parallel clone-gag .\",\n",
              " \"the film rehashes several old themes and is capped with pointless extremes -- it's insanely violent and very graphic .\",\n",
              " 'sorority boys , which is as bad at it is cruel , takes every potential laugh and stiletto-stomps the life out of it .',\n",
              " \"here the love scenes all end in someone screaming . maybe there's a metaphor here , but figuring it out wouldn't make trouble every day any better .\",\n",
              " \"this is the first film i've ever seen that had no obvious directing involved .\",\n",
              " \"fans of so-bad-they're-good cinema may find some fun in this jumbled mess .\",\n",
              " 'weiss and speck never make a convincing case for the relevance of these two 20th-century footnotes .',\n",
              " \"sheridan is painfully bad , a fourth-rate jim carrey who doesn't understand the difference between dumb fun and just plain dumb .\",\n",
              " 'presents nothing special and , until the final act , nothing overtly disagreeable .',\n",
              " 'the most excruciating 86 minutes one might sit through this summer that do not involve a dentist drill .',\n",
              " 'was that movie nothing more than a tepid exercise in trotting out a formula that worked five years ago but has since lost its fizz ?',\n",
              " 'it goes on for too long and bogs down in a surfeit of characters and unnecessary subplots .',\n",
              " \"it's absolutely amazing how first-time director kevin donovan managed to find something new to add to the canon of chan . make chan's action sequences boring .\",\n",
              " 'you . . . get a sense of good intentions derailed by a failure to seek and strike just the right tone .',\n",
              " \"'in this poor remake of such a well loved classic , parker exposes the limitations of his skill and the basic flaws in his vision . '\",\n",
              " \"it's the movie equivalent of a sweaty old guy in a rain coat shopping for cheap porn .\",\n",
              " \"the film's final hour , where nearly all the previous unseen material resides , is unconvincing soap opera that tornatore was right to cut .\",\n",
              " 'the movie does such an excellent job of critiquing itself at every faltering half-step of its development that criticizing feels more like commiserating .',\n",
              " 'i found it slow , predictable and not very amusing .',\n",
              " \"director yu seems far more interested in gross-out humor than in showing us well-thought stunts or a car chase that we haven't seen 10 , 000 times .\",\n",
              " \"viewers will need all the luck they can muster just figuring out who's who in this pretentious mess .\",\n",
              " \"a pint-sized 'goodfellas' designed to appeal to the younger set , it's not a very good movie in any objective sense , but it does mostly hold one's interest .\",\n",
              " ...]"
            ]
          },
          "metadata": {},
          "execution_count": 6
        }
      ]
    },
    {
      "cell_type": "code",
      "source": [
        "arr_maxlen = [len(x.split()) for x in data['train']['text']]\n",
        "print('Max length is {} on data #{}'.format(max(arr_maxlen), np.argmax(arr_maxlen)))"
      ],
      "metadata": {
        "colab": {
          "base_uri": "https://localhost:8080/"
        },
        "id": "71WgtU4IPamO",
        "outputId": "f83ac6f1-8e22-4891-bd93-5eb3e8070eb8"
      },
      "execution_count": null,
      "outputs": [
        {
          "output_type": "stream",
          "name": "stdout",
          "text": [
            "Max length is 59 on data #834\n"
          ]
        }
      ]
    },
    {
      "cell_type": "code",
      "source": [
        "data['train']['text'][np.argmax(arr_maxlen)]"
      ],
      "metadata": {
        "colab": {
          "base_uri": "https://localhost:8080/"
        },
        "id": "m-KzkPd3QtKA",
        "outputId": "36ed8da7-2366-4184-cf53-8167881fe1c7"
      },
      "execution_count": null,
      "outputs": [
        {
          "output_type": "execute_result",
          "data": {
            "text/plain": [
              "'. . . a sour little movie at its core ; an exploration of the emptiness that underlay the relentless gaiety of the 1920\\'s . . . the film\\'s ending has a \" what was it all for ? \" feeling to it , but like the 1920\\'s , the trip there is a great deal of fun .'"
            ],
            "application/vnd.google.colaboratory.intrinsic+json": {
              "type": "string"
            }
          },
          "metadata": {},
          "execution_count": 8
        }
      ]
    },
    {
      "cell_type": "markdown",
      "source": [
        "#### Dataset to TensorFlow"
      ],
      "metadata": {
        "id": "XmkQG3TVUvaG"
      }
    },
    {
      "cell_type": "code",
      "source": [
        "data_train, data_val, data_test = data['train'], data['validation'], data['test']"
      ],
      "metadata": {
        "id": "qtWv5YmkUzrJ"
      },
      "execution_count": null,
      "outputs": []
    },
    {
      "cell_type": "code",
      "source": [
        "tf_train = data_train.to_tf_dataset(columns='text', label_cols='label', shuffle=True, batch_size=BATCH_SIZE).prefetch(tf.data.AUTOTUNE)\n",
        "tf_val = data_val.to_tf_dataset(columns='text', label_cols='label', shuffle=False, batch_size=BATCH_SIZE).prefetch(tf.data.AUTOTUNE)\n",
        "tf_test = data_test.to_tf_dataset(columns='text', label_cols='label', shuffle=False, batch_size=BATCH_SIZE).prefetch(tf.data.AUTOTUNE)"
      ],
      "metadata": {
        "id": "8YyMSGdKdRNW"
      },
      "execution_count": null,
      "outputs": []
    },
    {
      "cell_type": "markdown",
      "source": [
        "#### Data Exploration on TensorFlow Dataset"
      ],
      "metadata": {
        "id": "YxknH1cHIeJi"
      }
    },
    {
      "cell_type": "code",
      "source": [
        "for text, label in tf_train.take(1):\n",
        "  print('texts: ', text.numpy()[:3])\n",
        "  print()\n",
        "  print('labels: ', label.numpy()[:3])"
      ],
      "metadata": {
        "colab": {
          "base_uri": "https://localhost:8080/"
        },
        "id": "t_JsIJIPInkS",
        "outputId": "6c1c8118-afab-452a-9f58-5902a8a98f39"
      },
      "execution_count": null,
      "outputs": [
        {
          "output_type": "stream",
          "name": "stdout",
          "text": [
            "texts:  [b\"i haven't seen such self-amused trash since freddy got fingered .\"\n",
            " b'the movie is too cute to take itself too seriously , but it still feels like it was made by some very stoned college students .'\n",
            " b'it will make you think twice about what might be going on inside each trailer park you drive past -- even if it chiefly inspires you to drive a little faster .']\n",
            "\n",
            "labels:  [0 0 1]\n"
          ]
        }
      ]
    },
    {
      "cell_type": "markdown",
      "source": [
        "### Tokenization for TensorFlow Models (Layer Approach)"
      ],
      "metadata": {
        "id": "_sPZLqoEI4sX"
      }
    },
    {
      "cell_type": "markdown",
      "source": [
        "Another approach is preprocessing the data outside the model using `Tokenizer` and `text_to_sequence`. Whichever is fine, but this approach is easier to manage especially using `Sequential API`.\n",
        "\n",
        "\n",
        "\n"
      ],
      "metadata": {
        "id": "EXHLipN2hxUP"
      }
    },
    {
      "cell_type": "code",
      "source": [
        "VOCAB_SIZE = 1000 # How much? Depends -> Proportionate to the dataset size, bigger != better (rare words rarely update)\n",
        "SEQ_LEN = 60\n",
        "\n",
        "encoder = TextVectorization(\n",
        "    max_tokens=VOCAB_SIZE,\n",
        "    output_sequence_length=SEQ_LEN\n",
        "    )\n",
        "encoder.adapt(tf_train.map(lambda text, label: text))"
      ],
      "metadata": {
        "id": "mUZBGD4nI75u"
      },
      "execution_count": null,
      "outputs": []
    },
    {
      "cell_type": "markdown",
      "source": [
        "#### Tokenize example"
      ],
      "metadata": {
        "id": "KQhJfdaLLx-L"
      }
    },
    {
      "cell_type": "code",
      "source": [
        "vocab = np.array(encoder.get_vocabulary())"
      ],
      "metadata": {
        "id": "B-oa41n6JrVf"
      },
      "execution_count": null,
      "outputs": []
    },
    {
      "cell_type": "code",
      "source": [
        "encoded_text = encoder(text).numpy()"
      ],
      "metadata": {
        "id": "Q_UytL-IJS9T"
      },
      "execution_count": null,
      "outputs": []
    },
    {
      "cell_type": "code",
      "source": [
        "for n in range(3):\n",
        "  print(\"Original: \", text[n].numpy())\n",
        "  print(\"Round-trip: \", \" \".join(vocab[encoded_text[n]]))\n",
        "  print()"
      ],
      "metadata": {
        "colab": {
          "base_uri": "https://localhost:8080/"
        },
        "id": "6AccE3hrLO6p",
        "outputId": "afae4f2d-07b6-461c-ee4e-cb55ebd6c098"
      },
      "execution_count": null,
      "outputs": [
        {
          "output_type": "stream",
          "name": "stdout",
          "text": [
            "Original:  b\"i haven't seen such self-amused trash since freddy got fingered .\"\n",
            "Round-trip:  i [UNK] seen such [UNK] [UNK] since [UNK] got [UNK]                                                  \n",
            "\n",
            "Original:  b'the movie is too cute to take itself too seriously , but it still feels like it was made by some very stoned college students .'\n",
            "Round-trip:  the movie is too cute to take itself too seriously but it still feels like it was made by some very [UNK] college [UNK]                                    \n",
            "\n",
            "Original:  b'it will make you think twice about what might be going on inside each trailer park you drive past -- even if it chiefly inspires you to drive a little faster .'\n",
            "Round-trip:  it will make you think [UNK] about what might be going on inside each [UNK] [UNK] you [UNK] past even if it [UNK] [UNK] you to [UNK] a little [UNK]                              \n",
            "\n"
          ]
        }
      ]
    },
    {
      "cell_type": "markdown",
      "source": [
        "### Classification with MLP (314k params // approx. 48s // 0.704)"
      ],
      "metadata": {
        "id": "eNF0_65Efwwe"
      }
    },
    {
      "cell_type": "code",
      "source": [
        "mlp_model = Sequential([\n",
        "    encoder,\n",
        "    Embedding(\n",
        "        input_dim=len(encoder.get_vocabulary()),\n",
        "        output_dim=64,\n",
        "        input_length=SEQ_LEN,\n",
        "        ),\n",
        "    Flatten(),\n",
        "    Dense(64, activation='relu'),\n",
        "    Dense(64, activation='relu'),\n",
        "    Dense(1)\n",
        "])"
      ],
      "metadata": {
        "id": "BGF-GHaafwwe"
      },
      "execution_count": null,
      "outputs": []
    },
    {
      "cell_type": "code",
      "source": [
        "mlp_model.summary()"
      ],
      "metadata": {
        "colab": {
          "base_uri": "https://localhost:8080/"
        },
        "outputId": "ea65c960-dc48-4629-da98-2467a0b3714a",
        "id": "Xj-EkGySfwwf"
      },
      "execution_count": null,
      "outputs": [
        {
          "output_type": "stream",
          "name": "stdout",
          "text": [
            "Model: \"sequential\"\n",
            "_________________________________________________________________\n",
            " Layer (type)                Output Shape              Param #   \n",
            "=================================================================\n",
            " text_vectorization (TextVec  (None, 60)               0         \n",
            " torization)                                                     \n",
            "                                                                 \n",
            " embedding (Embedding)       (None, 60, 64)            64000     \n",
            "                                                                 \n",
            " flatten (Flatten)           (None, 3840)              0         \n",
            "                                                                 \n",
            " dense (Dense)               (None, 64)                245824    \n",
            "                                                                 \n",
            " dense_1 (Dense)             (None, 64)                4160      \n",
            "                                                                 \n",
            " dense_2 (Dense)             (None, 1)                 65        \n",
            "                                                                 \n",
            "=================================================================\n",
            "Total params: 314,049\n",
            "Trainable params: 314,049\n",
            "Non-trainable params: 0\n",
            "_________________________________________________________________\n"
          ]
        }
      ]
    },
    {
      "cell_type": "code",
      "source": [
        "mlp_model.compile(loss=BinaryCrossentropy(from_logits=True),\n",
        "              optimizer=Adam(1e-4),\n",
        "              metrics=['accuracy'])"
      ],
      "metadata": {
        "id": "kjGoVgAQfwwh"
      },
      "execution_count": null,
      "outputs": []
    },
    {
      "cell_type": "code",
      "source": [
        "mlp_history = mlp_model.fit(tf_train, epochs=10,\n",
        "                    validation_data=tf_val,\n",
        "                    validation_steps=30)"
      ],
      "metadata": {
        "colab": {
          "base_uri": "https://localhost:8080/"
        },
        "outputId": "794fc084-e0b1-43fe-ef81-e6c0eb4b632c",
        "id": "-rR4WlmSfwwi"
      },
      "execution_count": null,
      "outputs": [
        {
          "output_type": "stream",
          "name": "stdout",
          "text": [
            "Epoch 1/10\n",
            "267/267 [==============================] - 24s 64ms/step - loss: 0.6931 - accuracy: 0.5000 - val_loss: 0.6931 - val_accuracy: 0.4448\n",
            "Epoch 2/10\n",
            "267/267 [==============================] - 4s 14ms/step - loss: 0.6878 - accuracy: 0.5000 - val_loss: 0.6837 - val_accuracy: 0.4448\n",
            "Epoch 3/10\n",
            "267/267 [==============================] - 2s 9ms/step - loss: 0.6668 - accuracy: 0.5163 - val_loss: 0.6673 - val_accuracy: 0.4698\n",
            "Epoch 4/10\n",
            "267/267 [==============================] - 3s 9ms/step - loss: 0.6112 - accuracy: 0.6114 - val_loss: 0.6251 - val_accuracy: 0.5823\n",
            "Epoch 5/10\n",
            "267/267 [==============================] - 3s 10ms/step - loss: 0.5328 - accuracy: 0.7047 - val_loss: 0.5947 - val_accuracy: 0.6583\n",
            "Epoch 6/10\n",
            "267/267 [==============================] - 2s 9ms/step - loss: 0.4654 - accuracy: 0.7604 - val_loss: 0.5885 - val_accuracy: 0.6604\n",
            "Epoch 7/10\n",
            "267/267 [==============================] - 2s 8ms/step - loss: 0.4117 - accuracy: 0.7938 - val_loss: 0.6194 - val_accuracy: 0.6344\n",
            "Epoch 8/10\n",
            "267/267 [==============================] - 3s 11ms/step - loss: 0.3627 - accuracy: 0.8290 - val_loss: 0.6239 - val_accuracy: 0.6635\n",
            "Epoch 9/10\n",
            "267/267 [==============================] - 3s 12ms/step - loss: 0.3207 - accuracy: 0.8550 - val_loss: 0.6375 - val_accuracy: 0.6823\n",
            "Epoch 10/10\n",
            "267/267 [==============================] - 2s 7ms/step - loss: 0.2792 - accuracy: 0.8782 - val_loss: 0.6856 - val_accuracy: 0.6594\n"
          ]
        }
      ]
    },
    {
      "cell_type": "code",
      "source": [
        "mlp_loss, mlp_acc = mlp_model.evaluate(tf_test)\n",
        "\n",
        "print('Test Loss:', mlp_loss)\n",
        "print('Test Accuracy:', mlp_acc)"
      ],
      "metadata": {
        "colab": {
          "base_uri": "https://localhost:8080/"
        },
        "outputId": "6a834945-763f-4d84-d546-f6107b11bd54",
        "id": "hvxBsEIHfwwj"
      },
      "execution_count": null,
      "outputs": [
        {
          "output_type": "stream",
          "name": "stdout",
          "text": [
            "34/34 [==============================] - 0s 4ms/step - loss: 0.6358 - accuracy: 0.7036\n",
            "Test Loss: 0.6358275413513184\n",
            "Test Accuracy: 0.7035647034645081\n"
          ]
        }
      ]
    },
    {
      "cell_type": "markdown",
      "source": [
        "### Classification with RNN: LSTM (138k params // approx. 89s // 0.723)"
      ],
      "metadata": {
        "id": "ExJKmSROTNCX"
      }
    },
    {
      "cell_type": "code",
      "source": [
        "lstm_model = Sequential([\n",
        "    encoder,\n",
        "    Embedding(\n",
        "        input_dim=len(encoder.get_vocabulary()),\n",
        "        output_dim=64,\n",
        "        input_length=SEQ_LEN,\n",
        "        mask_zero=True),\n",
        "    Bidirectional(LSTM(64)),\n",
        "    Dense(64, activation='relu'),\n",
        "    Dense(1)\n",
        "])"
      ],
      "metadata": {
        "id": "QPsYubzDXEAo"
      },
      "execution_count": null,
      "outputs": []
    },
    {
      "cell_type": "code",
      "source": [
        "lstm_model.summary()"
      ],
      "metadata": {
        "colab": {
          "base_uri": "https://localhost:8080/"
        },
        "id": "7M8t7UCSXGY-",
        "outputId": "37475a6b-a8f6-4c8f-e246-6fb042c30219"
      },
      "execution_count": null,
      "outputs": [
        {
          "output_type": "stream",
          "name": "stdout",
          "text": [
            "Model: \"sequential_1\"\n",
            "_________________________________________________________________\n",
            " Layer (type)                Output Shape              Param #   \n",
            "=================================================================\n",
            " text_vectorization (TextVec  (None, 60)               0         \n",
            " torization)                                                     \n",
            "                                                                 \n",
            " embedding_1 (Embedding)     (None, 60, 64)            64000     \n",
            "                                                                 \n",
            " bidirectional (Bidirectiona  (None, 128)              66048     \n",
            " l)                                                              \n",
            "                                                                 \n",
            " dense_3 (Dense)             (None, 64)                8256      \n",
            "                                                                 \n",
            " dense_4 (Dense)             (None, 1)                 65        \n",
            "                                                                 \n",
            "=================================================================\n",
            "Total params: 138,369\n",
            "Trainable params: 138,369\n",
            "Non-trainable params: 0\n",
            "_________________________________________________________________\n"
          ]
        }
      ]
    },
    {
      "cell_type": "code",
      "source": [
        "lstm_model.compile(loss=BinaryCrossentropy(from_logits=True),\n",
        "              optimizer=Adam(1e-4),\n",
        "              metrics=['accuracy'])"
      ],
      "metadata": {
        "id": "-DqyJ5-Abmhl"
      },
      "execution_count": null,
      "outputs": []
    },
    {
      "cell_type": "code",
      "source": [
        "lstm_history = lstm_model.fit(tf_train, epochs=10,\n",
        "                    validation_data=tf_val,\n",
        "                    validation_steps=30)"
      ],
      "metadata": {
        "colab": {
          "base_uri": "https://localhost:8080/"
        },
        "id": "yvAe5AsXbcOS",
        "outputId": "b5313e08-60c8-4c5f-e4d6-2c1daa9e7612"
      },
      "execution_count": null,
      "outputs": [
        {
          "output_type": "stream",
          "name": "stdout",
          "text": [
            "Epoch 1/10\n",
            "267/267 [==============================] - 30s 65ms/step - loss: 0.6907 - accuracy: 0.5000 - val_loss: 0.6850 - val_accuracy: 0.4448\n",
            "Epoch 2/10\n",
            "267/267 [==============================] - 7s 27ms/step - loss: 0.6345 - accuracy: 0.5869 - val_loss: 0.6554 - val_accuracy: 0.5552\n",
            "Epoch 3/10\n",
            "267/267 [==============================] - 5s 19ms/step - loss: 0.5518 - accuracy: 0.7018 - val_loss: 0.5959 - val_accuracy: 0.6458\n",
            "Epoch 4/10\n",
            "267/267 [==============================] - 5s 20ms/step - loss: 0.5091 - accuracy: 0.7430 - val_loss: 0.5795 - val_accuracy: 0.6719\n",
            "Epoch 5/10\n",
            "267/267 [==============================] - 6s 22ms/step - loss: 0.4888 - accuracy: 0.7556 - val_loss: 0.5781 - val_accuracy: 0.6750\n",
            "Epoch 6/10\n",
            "267/267 [==============================] - 6s 24ms/step - loss: 0.4746 - accuracy: 0.7662 - val_loss: 0.5696 - val_accuracy: 0.6958\n",
            "Epoch 7/10\n",
            "267/267 [==============================] - 5s 18ms/step - loss: 0.4661 - accuracy: 0.7741 - val_loss: 0.5664 - val_accuracy: 0.7063\n",
            "Epoch 8/10\n",
            "267/267 [==============================] - 7s 25ms/step - loss: 0.4563 - accuracy: 0.7811 - val_loss: 0.5815 - val_accuracy: 0.6948\n",
            "Epoch 9/10\n",
            "267/267 [==============================] - 5s 17ms/step - loss: 0.4521 - accuracy: 0.7824 - val_loss: 0.5779 - val_accuracy: 0.6906\n",
            "Epoch 10/10\n",
            "267/267 [==============================] - 7s 25ms/step - loss: 0.4462 - accuracy: 0.7869 - val_loss: 0.5829 - val_accuracy: 0.7115\n"
          ]
        }
      ]
    },
    {
      "cell_type": "code",
      "source": [
        "lstm_loss, lstm_acc = lstm_model.evaluate(tf_test)\n",
        "\n",
        "print('Test Loss:', lstm_loss)\n",
        "print('Test Accuracy:', lstm_acc)"
      ],
      "metadata": {
        "id": "d4VQ9vJxcLTE",
        "outputId": "5d48216b-1ba8-49f2-bbbc-6a1125481a2b",
        "colab": {
          "base_uri": "https://localhost:8080/"
        }
      },
      "execution_count": null,
      "outputs": [
        {
          "output_type": "stream",
          "name": "stdout",
          "text": [
            "34/34 [==============================] - 0s 7ms/step - loss: 0.5571 - accuracy: 0.7233\n",
            "Test Loss: 0.5570828914642334\n",
            "Test Accuracy: 0.7232645153999329\n"
          ]
        }
      ]
    },
    {
      "cell_type": "markdown",
      "source": [
        "### Classification with CNN (101k params // ~44s // 0.710)"
      ],
      "metadata": {
        "id": "k80Nji5kczLv"
      }
    },
    {
      "cell_type": "code",
      "source": [
        "cnn_model = Sequential([\n",
        "    encoder,\n",
        "    Embedding(\n",
        "        input_dim=len(encoder.get_vocabulary()),\n",
        "        output_dim=64,\n",
        "        input_length=SEQ_LEN,\n",
        "        mask_zero=True),\n",
        "    Conv1D(filters=64, kernel_size=8, activation='relu'),\n",
        "    GlobalMaxPooling1D(),\n",
        "    Dense(64, activation='relu'),\n",
        "    Dense(1)\n",
        "])"
      ],
      "metadata": {
        "id": "cBrgnD61czLv"
      },
      "execution_count": null,
      "outputs": []
    },
    {
      "cell_type": "code",
      "source": [
        "cnn_model.summary()"
      ],
      "metadata": {
        "id": "6XC66wvbczLw",
        "outputId": "ffb914c2-76ef-4aed-8cfd-ec8e317547a4",
        "colab": {
          "base_uri": "https://localhost:8080/"
        }
      },
      "execution_count": null,
      "outputs": [
        {
          "output_type": "stream",
          "name": "stdout",
          "text": [
            "Model: \"sequential_2\"\n",
            "_________________________________________________________________\n",
            " Layer (type)                Output Shape              Param #   \n",
            "=================================================================\n",
            " text_vectorization (TextVec  (None, 60)               0         \n",
            " torization)                                                     \n",
            "                                                                 \n",
            " embedding_2 (Embedding)     (None, 60, 64)            64000     \n",
            "                                                                 \n",
            " conv1d (Conv1D)             (None, 53, 64)            32832     \n",
            "                                                                 \n",
            " global_max_pooling1d (Globa  (None, 64)               0         \n",
            " lMaxPooling1D)                                                  \n",
            "                                                                 \n",
            " dense_5 (Dense)             (None, 64)                4160      \n",
            "                                                                 \n",
            " dense_6 (Dense)             (None, 1)                 65        \n",
            "                                                                 \n",
            "=================================================================\n",
            "Total params: 101,057\n",
            "Trainable params: 101,057\n",
            "Non-trainable params: 0\n",
            "_________________________________________________________________\n"
          ]
        }
      ]
    },
    {
      "cell_type": "code",
      "source": [
        "cnn_model.compile(loss=BinaryCrossentropy(from_logits=True),\n",
        "              optimizer=Adam(1e-4),\n",
        "              metrics=['accuracy'])"
      ],
      "metadata": {
        "id": "UXZEXmmkczLw"
      },
      "execution_count": null,
      "outputs": []
    },
    {
      "cell_type": "code",
      "source": [
        "cnn_history = cnn_model.fit(tf_train, epochs=10,\n",
        "                    validation_data=tf_val,\n",
        "                    validation_steps=30)"
      ],
      "metadata": {
        "id": "24BR4VY4czLw",
        "outputId": "6c0136d1-6224-4c60-f3ee-e79b5ff031d2",
        "colab": {
          "base_uri": "https://localhost:8080/"
        }
      },
      "execution_count": null,
      "outputs": [
        {
          "output_type": "stream",
          "name": "stdout",
          "text": [
            "Epoch 1/10\n",
            "267/267 [==============================] - 21s 55ms/step - loss: 0.6926 - accuracy: 0.5000 - val_loss: 0.6919 - val_accuracy: 0.4448\n",
            "Epoch 2/10\n",
            "267/267 [==============================] - 4s 16ms/step - loss: 0.6878 - accuracy: 0.5000 - val_loss: 0.6892 - val_accuracy: 0.4448\n",
            "Epoch 3/10\n",
            "267/267 [==============================] - 3s 13ms/step - loss: 0.6746 - accuracy: 0.5002 - val_loss: 0.6757 - val_accuracy: 0.4448\n",
            "Epoch 4/10\n",
            "267/267 [==============================] - 3s 9ms/step - loss: 0.6372 - accuracy: 0.5482 - val_loss: 0.6395 - val_accuracy: 0.5625\n",
            "Epoch 5/10\n",
            "267/267 [==============================] - 2s 9ms/step - loss: 0.5716 - accuracy: 0.6685 - val_loss: 0.6014 - val_accuracy: 0.6438\n",
            "Epoch 6/10\n",
            "267/267 [==============================] - 3s 11ms/step - loss: 0.5055 - accuracy: 0.7374 - val_loss: 0.5865 - val_accuracy: 0.6458\n",
            "Epoch 7/10\n",
            "267/267 [==============================] - 2s 9ms/step - loss: 0.4606 - accuracy: 0.7705 - val_loss: 0.5833 - val_accuracy: 0.6562\n",
            "Epoch 8/10\n",
            "267/267 [==============================] - 2s 9ms/step - loss: 0.4296 - accuracy: 0.7907 - val_loss: 0.5856 - val_accuracy: 0.6625\n",
            "Epoch 9/10\n",
            "267/267 [==============================] - 2s 9ms/step - loss: 0.4051 - accuracy: 0.8057 - val_loss: 0.5882 - val_accuracy: 0.6708\n",
            "Epoch 10/10\n",
            "267/267 [==============================] - 2s 8ms/step - loss: 0.3838 - accuracy: 0.8181 - val_loss: 0.5915 - val_accuracy: 0.6792\n"
          ]
        }
      ]
    },
    {
      "cell_type": "code",
      "source": [
        "cnn_loss, cnn_acc = cnn_model.evaluate(tf_test)\n",
        "\n",
        "print('Test Loss:', cnn_loss)\n",
        "print('Test Accuracy:', cnn_acc)"
      ],
      "metadata": {
        "id": "wTsfGud9czLw",
        "outputId": "40f19f78-7cd1-42b5-f101-498fca0e7124",
        "colab": {
          "base_uri": "https://localhost:8080/"
        }
      },
      "execution_count": null,
      "outputs": [
        {
          "output_type": "stream",
          "name": "stdout",
          "text": [
            "34/34 [==============================] - 0s 7ms/step - loss: 0.5472 - accuracy: 0.7101\n",
            "Test Loss: 0.5471643805503845\n",
            "Test Accuracy: 0.7101313471794128\n"
          ]
        }
      ]
    },
    {
      "cell_type": "markdown",
      "source": [
        "### Classification with Attn-CNN"
      ],
      "metadata": {
        "id": "fHJMYqCqiL82"
      }
    },
    {
      "cell_type": "code",
      "source": [
        "class Attention(tf.keras.Model):\n",
        "    def __init__(self, units):\n",
        "        super(Attention, self).__init__()\n",
        "        self.W1 = tf.keras.layers.Dense(units)\n",
        "        self.W2 = tf.keras.layers.Dense(units)\n",
        "        self.V = tf.keras.layers.Dense(1)\n",
        "\n",
        "    def call(self, features, hidden):\n",
        "        # hidden shape == (batch_size, hidden size)\n",
        "        # hidden_with_time_axis shape == (batch_size, 1, hidden size)\n",
        "        # we are doing this to perform addition to calculate the score\n",
        "        hidden_with_time_axis = tf.expand_dims(hidden, 1)\n",
        "\n",
        "        # score shape == (batch_size, max_length, 1)\n",
        "        # we get 1 at the last axis because we are applying score to self.V\n",
        "        # the shape of the tensor before applying self.V is (batch_size, max_length, units)\n",
        "        score = tf.nn.tanh(\n",
        "            self.W1(features) + self.W2(hidden_with_time_axis))\n",
        "\n",
        "        # attention_weights shape == (batch_size, max_length, 1)\n",
        "        attention_weights = tf.nn.softmax(self.V(score), axis=1)\n",
        "\n",
        "        # context_vector shape after sum == (batch_size, hidden_size)\n",
        "        context_vector = attention_weights * features\n",
        "        context_vector = tf.reduce_sum(context_vector, axis=1)\n",
        "\n",
        "        return context_vector, attention_weights"
      ],
      "metadata": {
        "id": "X-H5MuHri7KF"
      },
      "execution_count": null,
      "outputs": []
    },
    {
      "cell_type": "code",
      "source": [
        "inputs = Input(shape=(1,), dtype=tf.string)\n",
        "enc = encoder(inputs)\n",
        "x = Embedding(input_dim=len(encoder.get_vocabulary()),\n",
        "        output_dim=64,\n",
        "        input_length=SEQ_LEN,\n",
        "        mask_zero=True)(enc)\n",
        "\n",
        "# no need cell state, only need hidden state\n",
        "lstm = Bidirectional(LSTM(64))(x)\n",
        "(lstm, forward_h, forward_c, backward_h, backward_c) = Bidirectional(LSTM(64, return_sequences=True, return_state=True))(lstm)\n",
        "\n",
        "state_h = concatenate()([forward_h, backward_h])\n",
        "state_c = concatenate()([forward_c, backward_c])\n",
        "\n",
        "context_vector, attention_weights = Attention(10)(lstm, state_h)\n",
        "\n",
        "# Removal of the globalMaxPool1D could be trouble\n",
        "#globmax = GlobalMaxPool1D()(context_vector)\n",
        "dense1 = Dense(20, activation=\"relu\")(context_vector)\n",
        "dropout = Dropout(0.05)(dense1)\n",
        "output = Dense(1, activation=\"sigmoid\")(dropout)\n",
        "\n",
        "attncnn_model = Model(inputs=input, outputs=output)"
      ],
      "metadata": {
        "id": "Kl9R1-bviQla"
      },
      "execution_count": null,
      "outputs": []
    },
    {
      "cell_type": "code",
      "source": [
        "attncnn_model.summary()"
      ],
      "metadata": {
        "outputId": "ffb914c2-76ef-4aed-8cfd-ec8e317547a4",
        "colab": {
          "base_uri": "https://localhost:8080/"
        },
        "id": "feuuOfZpkhfE"
      },
      "execution_count": null,
      "outputs": [
        {
          "output_type": "stream",
          "name": "stdout",
          "text": [
            "Model: \"sequential_2\"\n",
            "_________________________________________________________________\n",
            " Layer (type)                Output Shape              Param #   \n",
            "=================================================================\n",
            " text_vectorization (TextVec  (None, 60)               0         \n",
            " torization)                                                     \n",
            "                                                                 \n",
            " embedding_2 (Embedding)     (None, 60, 64)            64000     \n",
            "                                                                 \n",
            " conv1d (Conv1D)             (None, 53, 64)            32832     \n",
            "                                                                 \n",
            " global_max_pooling1d (Globa  (None, 64)               0         \n",
            " lMaxPooling1D)                                                  \n",
            "                                                                 \n",
            " dense_5 (Dense)             (None, 64)                4160      \n",
            "                                                                 \n",
            " dense_6 (Dense)             (None, 1)                 65        \n",
            "                                                                 \n",
            "=================================================================\n",
            "Total params: 101,057\n",
            "Trainable params: 101,057\n",
            "Non-trainable params: 0\n",
            "_________________________________________________________________\n"
          ]
        }
      ]
    },
    {
      "cell_type": "code",
      "source": [
        "attncnn_model.compile(loss=BinaryCrossentropy(from_logits=True),\n",
        "                      optimizer=Adam(1e-4),\n",
        "                      metrics=['accuracy'])"
      ],
      "metadata": {
        "id": "diZ4H9OlkhfF"
      },
      "execution_count": null,
      "outputs": []
    },
    {
      "cell_type": "code",
      "source": [
        "attncnn_history = attncnn_model.fit(tf_train, epochs=10,\n",
        "                                    validation_data=tf_val,\n",
        "                                    validation_steps=30)"
      ],
      "metadata": {
        "outputId": "6c0136d1-6224-4c60-f3ee-e79b5ff031d2",
        "colab": {
          "base_uri": "https://localhost:8080/"
        },
        "id": "Jxd0AgWzkhfF"
      },
      "execution_count": null,
      "outputs": [
        {
          "output_type": "stream",
          "name": "stdout",
          "text": [
            "Epoch 1/10\n",
            "267/267 [==============================] - 21s 55ms/step - loss: 0.6926 - accuracy: 0.5000 - val_loss: 0.6919 - val_accuracy: 0.4448\n",
            "Epoch 2/10\n",
            "267/267 [==============================] - 4s 16ms/step - loss: 0.6878 - accuracy: 0.5000 - val_loss: 0.6892 - val_accuracy: 0.4448\n",
            "Epoch 3/10\n",
            "267/267 [==============================] - 3s 13ms/step - loss: 0.6746 - accuracy: 0.5002 - val_loss: 0.6757 - val_accuracy: 0.4448\n",
            "Epoch 4/10\n",
            "267/267 [==============================] - 3s 9ms/step - loss: 0.6372 - accuracy: 0.5482 - val_loss: 0.6395 - val_accuracy: 0.5625\n",
            "Epoch 5/10\n",
            "267/267 [==============================] - 2s 9ms/step - loss: 0.5716 - accuracy: 0.6685 - val_loss: 0.6014 - val_accuracy: 0.6438\n",
            "Epoch 6/10\n",
            "267/267 [==============================] - 3s 11ms/step - loss: 0.5055 - accuracy: 0.7374 - val_loss: 0.5865 - val_accuracy: 0.6458\n",
            "Epoch 7/10\n",
            "267/267 [==============================] - 2s 9ms/step - loss: 0.4606 - accuracy: 0.7705 - val_loss: 0.5833 - val_accuracy: 0.6562\n",
            "Epoch 8/10\n",
            "267/267 [==============================] - 2s 9ms/step - loss: 0.4296 - accuracy: 0.7907 - val_loss: 0.5856 - val_accuracy: 0.6625\n",
            "Epoch 9/10\n",
            "267/267 [==============================] - 2s 9ms/step - loss: 0.4051 - accuracy: 0.8057 - val_loss: 0.5882 - val_accuracy: 0.6708\n",
            "Epoch 10/10\n",
            "267/267 [==============================] - 2s 8ms/step - loss: 0.3838 - accuracy: 0.8181 - val_loss: 0.5915 - val_accuracy: 0.6792\n"
          ]
        }
      ]
    },
    {
      "cell_type": "markdown",
      "source": [
        "### Classification with Transformer-based Model: BERT (110M params // ~243s // 0.841)"
      ],
      "metadata": {
        "id": "mFYJCssTDIxp"
      }
    },
    {
      "cell_type": "code",
      "source": [
        "checkpoint = 'distilbert-base-uncased'"
      ],
      "metadata": {
        "id": "KxG078FnDX_m"
      },
      "execution_count": null,
      "outputs": []
    },
    {
      "cell_type": "markdown",
      "source": [
        "#### Tokenizer"
      ],
      "metadata": {
        "id": "6whoK1bzGUIx"
      }
    },
    {
      "cell_type": "code",
      "source": [
        "tokenizer = AutoTokenizer.from_pretrained(checkpoint)"
      ],
      "metadata": {
        "id": "S9M-0TRMFz8M",
        "outputId": "31862a01-4e4c-415d-9351-2a2e5cc51124",
        "colab": {
          "base_uri": "https://localhost:8080/",
          "height": 145,
          "referenced_widgets": [
            "f4df36d0d9c64b12b9c494ee6b7d376e",
            "57af0afb54f242448d9f43080099f906",
            "8691ebf7c2aa4d8990e5cdbb0880c3b3",
            "d3e86acf04994ebd89c130c70e7d6b11",
            "db70cbf9558545a9907a52c09e4a671f",
            "137f0e3e81f648258f22de2c8c362d17",
            "79efe37a03be4746be8ba1fcba11ee3f",
            "b91605a41bc54cd193795dff25ce06bd",
            "c3f876edc86845c3bd5a807cdd88bb38",
            "0a4feabb95b241e2a467ed74c23ab682",
            "ed66ebc8cb1d4634ba4ebf7ac9082fa3",
            "ec82004a49ef407f8239beaebe36f748",
            "c6235aba14104082b037e15a64c4a5c8",
            "710a14320ee94be88b54a14a11867c44",
            "ae98e34b0fda4c10a7d3f3be0f876530",
            "8f12577ecdfb4e819fefc67dc04c1e04",
            "bf7b0972aecf47fba91d546e61a91146",
            "0fd07166e49f48c5b34c0be823919a57",
            "97616dc36927441a8f1cba6a7a690cc9",
            "d056d4ef482b469db6ee452b6c0d481c",
            "cc82c9dd79064f6481b1cb42f32aa459",
            "79f71905f23541bb808bc6e5780a5684",
            "b2f45fc588f448f2ad156e2718a62d4d",
            "b412c0e6298440b7b382ef51dc729148",
            "1f7784559628480fb2983c20506f1fe9",
            "85e145d24d784a78b7d3c2f687a8d310",
            "0317f51b1aba4c858165dced1d00d823",
            "27516f1f4f324a11a07d483c0926ef33",
            "6372586618e740b2856ab149a050b0d4",
            "f0cb7039edd147229abde6c43ed8a14c",
            "69046035f4924c5382285315f5c572dd",
            "0f79bc172f694fbbba86b3d280bad5df",
            "7f09789b7ed646259e95d0b1113825f1",
            "7d1a3b81e8aa443bbc5c5bee7e0b39ef",
            "087f443f930b41b3b9a15e646781815b",
            "db4a1826e0e146f880962b1833d45c18",
            "0af3120158834018abfe1ad070f6774f",
            "55abc8a183bb43d692187a8f72c05406",
            "38a32431be974448b58d4dd94bcd657d",
            "e0d1d8ebc4aa4546b56e80e9faa187ad",
            "9679743f3b584db2b3f8a047d8dce256",
            "b8fd55a09ede4ed482c763aea9f94a4f",
            "848253bfb9a347ce9c669d451ffc1915",
            "af5ac1595a264eb08ad8d69071239d8a"
          ]
        }
      },
      "execution_count": null,
      "outputs": [
        {
          "output_type": "display_data",
          "data": {
            "text/plain": [
              "Downloading (…)okenizer_config.json:   0%|          | 0.00/28.0 [00:00<?, ?B/s]"
            ],
            "application/vnd.jupyter.widget-view+json": {
              "version_major": 2,
              "version_minor": 0,
              "model_id": "f4df36d0d9c64b12b9c494ee6b7d376e"
            }
          },
          "metadata": {}
        },
        {
          "output_type": "display_data",
          "data": {
            "text/plain": [
              "Downloading (…)lve/main/config.json:   0%|          | 0.00/483 [00:00<?, ?B/s]"
            ],
            "application/vnd.jupyter.widget-view+json": {
              "version_major": 2,
              "version_minor": 0,
              "model_id": "ec82004a49ef407f8239beaebe36f748"
            }
          },
          "metadata": {}
        },
        {
          "output_type": "display_data",
          "data": {
            "text/plain": [
              "Downloading (…)solve/main/vocab.txt:   0%|          | 0.00/232k [00:00<?, ?B/s]"
            ],
            "application/vnd.jupyter.widget-view+json": {
              "version_major": 2,
              "version_minor": 0,
              "model_id": "b2f45fc588f448f2ad156e2718a62d4d"
            }
          },
          "metadata": {}
        },
        {
          "output_type": "display_data",
          "data": {
            "text/plain": [
              "Downloading (…)/main/tokenizer.json:   0%|          | 0.00/466k [00:00<?, ?B/s]"
            ],
            "application/vnd.jupyter.widget-view+json": {
              "version_major": 2,
              "version_minor": 0,
              "model_id": "7d1a3b81e8aa443bbc5c5bee7e0b39ef"
            }
          },
          "metadata": {}
        }
      ]
    },
    {
      "cell_type": "code",
      "source": [
        "def preprocess_function(content):\n",
        "    return tokenizer(content[\"text\"], truncation=True)"
      ],
      "metadata": {
        "id": "NSlHDkzQF9Dm"
      },
      "execution_count": null,
      "outputs": []
    },
    {
      "cell_type": "code",
      "source": [
        "tokenized_data = data.map(preprocess_function, batched=True)"
      ],
      "metadata": {
        "id": "tkAljGPMGFNl",
        "outputId": "37f007d5-0840-4ff4-9ef0-c356462cdf39",
        "colab": {
          "base_uri": "https://localhost:8080/",
          "height": 17,
          "referenced_widgets": [
            "16dff733b17e447eb7c1997bf02fd2f5",
            "c0c11ab95b0342bd900717901c75fc76",
            "1b1c164970274dba80e4489f63a14478",
            "125817bb22f4448fa6f7c4f5ad424a48",
            "7c3bd19e2b7d438bb8bdece8c7706b8d",
            "6644db6ad6ac4080b55879d9d7deb1d7",
            "ded8d44f557146c7b5a5eba5b54ce524",
            "c47a76af15474013bf48ef1da4a37aff",
            "16ea05669e1d4338a462c986a2e20636",
            "827640c288f2408583aa74a2ba68be98",
            "908b1d373c1f4cc0b1cfc6299c0c3e7e",
            "2fd9926c0b8e483a90e30809f45e5fce",
            "29f34dc0da6c45ce8d172ff148d75328",
            "fced6c240e124af9b49b76ac6bf681a5",
            "931f06e26a484b5b9ab4b64eabf0808c",
            "bfc26938b0a44c92861e31bdb26b9fab",
            "258e014a9e5a497c81e757d10d80ae47",
            "89f45bea993747f7ba4c5805faa7c71f",
            "468248b2b7154f038f42ff551b614876",
            "9925893125884988bf3d006efee1af8c",
            "a22db3c20cb04852995646575fdeebe9",
            "2ac5a8749eeb45c88e4087adf932df72",
            "26e1d28b4fa1442096411c2278084b04",
            "3761713d865d4331b577c2b7196450e8",
            "6c1686ad9c2849f8a11cd18158c05416",
            "b109ef75f88f456b80eee6b8b7dae83d",
            "ff0482867e0044049107d24f231dabbe",
            "39fad7a1e3f64c9bbb2b9f6a03eb0131",
            "29b07eff56f54b9f9692ea10bcec5022",
            "23149a62f06c42f4bb1ef42b774055b5",
            "522beee5adea4057a3e2df479c0e1543",
            "57d0262dbefa457a9875f31b58f5508a",
            "13f9e18f1602461387d1930830d16ab2"
          ]
        }
      },
      "execution_count": null,
      "outputs": [
        {
          "output_type": "display_data",
          "data": {
            "text/plain": [
              "Map:   0%|          | 0/8530 [00:00<?, ? examples/s]"
            ],
            "application/vnd.jupyter.widget-view+json": {
              "version_major": 2,
              "version_minor": 0,
              "model_id": "16dff733b17e447eb7c1997bf02fd2f5"
            }
          },
          "metadata": {}
        },
        {
          "output_type": "display_data",
          "data": {
            "text/plain": [
              "Map:   0%|          | 0/1066 [00:00<?, ? examples/s]"
            ],
            "application/vnd.jupyter.widget-view+json": {
              "version_major": 2,
              "version_minor": 0,
              "model_id": "2fd9926c0b8e483a90e30809f45e5fce"
            }
          },
          "metadata": {}
        },
        {
          "output_type": "display_data",
          "data": {
            "text/plain": [
              "Map:   0%|          | 0/1066 [00:00<?, ? examples/s]"
            ],
            "application/vnd.jupyter.widget-view+json": {
              "version_major": 2,
              "version_minor": 0,
              "model_id": "26e1d28b4fa1442096411c2278084b04"
            }
          },
          "metadata": {}
        }
      ]
    },
    {
      "cell_type": "code",
      "source": [
        "data_collator = DataCollatorWithPadding(tokenizer=tokenizer)"
      ],
      "metadata": {
        "id": "vE0wTXHLqwis"
      },
      "execution_count": null,
      "outputs": []
    },
    {
      "cell_type": "markdown",
      "source": [
        "#### Model & Evaluation"
      ],
      "metadata": {
        "id": "_fFXI5xvGWKY"
      }
    },
    {
      "cell_type": "code",
      "source": [
        "model = AutoModelForSequenceClassification.from_pretrained(checkpoint, num_labels=2)"
      ],
      "metadata": {
        "id": "TmF1oeOcGSAP",
        "outputId": "281f0aa8-4a1d-40b4-d53c-31949031ca6f",
        "colab": {
          "base_uri": "https://localhost:8080/",
          "height": 156,
          "referenced_widgets": [
            "8b1bbcfa37684908aca73f219e2de412",
            "fbf03effa9e040eaa978a132d15424b5",
            "a8a167d48c3645c3830fde0619aee667",
            "a04351bff5fd4d869eb3f0fedd2dd088",
            "6630922bdb7646a5a8a47a1640c1b121",
            "05b2b33a6ad44f26afc7647c898956eb",
            "9c4dd7116bf7481f801c7eef8c1b2948",
            "3a0edf930f2042d7a3263f4b4c96e611",
            "9555822eca66424dad51b0468e29fbb9",
            "c42acc3b8b6947718ca85fd43b55fa37",
            "460a311c73b6482a8a7f14035fdbdeb0"
          ]
        }
      },
      "execution_count": null,
      "outputs": [
        {
          "output_type": "display_data",
          "data": {
            "text/plain": [
              "Downloading model.safetensors:   0%|          | 0.00/268M [00:00<?, ?B/s]"
            ],
            "application/vnd.jupyter.widget-view+json": {
              "version_major": 2,
              "version_minor": 0,
              "model_id": "8b1bbcfa37684908aca73f219e2de412"
            }
          },
          "metadata": {}
        },
        {
          "output_type": "stream",
          "name": "stderr",
          "text": [
            "Some weights of the model checkpoint at distilbert-base-uncased were not used when initializing DistilBertForSequenceClassification: ['vocab_projector.bias', 'vocab_transform.bias', 'vocab_layer_norm.bias', 'vocab_transform.weight', 'vocab_layer_norm.weight']\n",
            "- This IS expected if you are initializing DistilBertForSequenceClassification from the checkpoint of a model trained on another task or with another architecture (e.g. initializing a BertForSequenceClassification model from a BertForPreTraining model).\n",
            "- This IS NOT expected if you are initializing DistilBertForSequenceClassification from the checkpoint of a model that you expect to be exactly identical (initializing a BertForSequenceClassification model from a BertForSequenceClassification model).\n",
            "Some weights of DistilBertForSequenceClassification were not initialized from the model checkpoint at distilbert-base-uncased and are newly initialized: ['classifier.bias', 'pre_classifier.bias', 'classifier.weight', 'pre_classifier.weight']\n",
            "You should probably TRAIN this model on a down-stream task to be able to use it for predictions and inference.\n"
          ]
        }
      ]
    },
    {
      "cell_type": "code",
      "execution_count": null,
      "metadata": {
        "id": "x2ucEprTCC1e"
      },
      "outputs": [],
      "source": [
        "batch_size = 16\n",
        "num_epochs = 5\n",
        "batches_per_epoch = len(tokenized_data) // batch_size\n",
        "total_train_steps = int(batches_per_epoch * num_epochs)\n",
        "optimizer, schedule = create_optimizer(init_lr=2e-5, num_warmup_steps=0, num_train_steps=total_train_steps)"
      ]
    },
    {
      "cell_type": "code",
      "source": [
        "model.cuda()"
      ],
      "metadata": {
        "id": "NPTmW3voGeo9",
        "outputId": "d6a88d8e-3a2e-4688-b037-a673a7ae9eab",
        "colab": {
          "base_uri": "https://localhost:8080/"
        }
      },
      "execution_count": null,
      "outputs": [
        {
          "output_type": "execute_result",
          "data": {
            "text/plain": [
              "DistilBertForSequenceClassification(\n",
              "  (distilbert): DistilBertModel(\n",
              "    (embeddings): Embeddings(\n",
              "      (word_embeddings): Embedding(30522, 768, padding_idx=0)\n",
              "      (position_embeddings): Embedding(512, 768)\n",
              "      (LayerNorm): LayerNorm((768,), eps=1e-12, elementwise_affine=True)\n",
              "      (dropout): Dropout(p=0.1, inplace=False)\n",
              "    )\n",
              "    (transformer): Transformer(\n",
              "      (layer): ModuleList(\n",
              "        (0-5): 6 x TransformerBlock(\n",
              "          (attention): MultiHeadSelfAttention(\n",
              "            (dropout): Dropout(p=0.1, inplace=False)\n",
              "            (q_lin): Linear(in_features=768, out_features=768, bias=True)\n",
              "            (k_lin): Linear(in_features=768, out_features=768, bias=True)\n",
              "            (v_lin): Linear(in_features=768, out_features=768, bias=True)\n",
              "            (out_lin): Linear(in_features=768, out_features=768, bias=True)\n",
              "          )\n",
              "          (sa_layer_norm): LayerNorm((768,), eps=1e-12, elementwise_affine=True)\n",
              "          (ffn): FFN(\n",
              "            (dropout): Dropout(p=0.1, inplace=False)\n",
              "            (lin1): Linear(in_features=768, out_features=3072, bias=True)\n",
              "            (lin2): Linear(in_features=3072, out_features=768, bias=True)\n",
              "            (activation): GELUActivation()\n",
              "          )\n",
              "          (output_layer_norm): LayerNorm((768,), eps=1e-12, elementwise_affine=True)\n",
              "        )\n",
              "      )\n",
              "    )\n",
              "  )\n",
              "  (pre_classifier): Linear(in_features=768, out_features=768, bias=True)\n",
              "  (classifier): Linear(in_features=768, out_features=2, bias=True)\n",
              "  (dropout): Dropout(p=0.2, inplace=False)\n",
              ")"
            ]
          },
          "metadata": {},
          "execution_count": 38
        }
      ]
    },
    {
      "cell_type": "code",
      "execution_count": null,
      "metadata": {
        "id": "9WWN--3tCC1a",
        "outputId": "93fddb41-96b5-4d84-99c3-7f52a36b678d",
        "colab": {
          "base_uri": "https://localhost:8080/",
          "height": 49,
          "referenced_widgets": [
            "696b63132d5f4e59bc81407d218903f9",
            "4e16d57a656f49a7b14f9c8d99cf2576",
            "3c8c63cffc1f46fca114402d8de0b7d0",
            "a791d1a8aed24a41a59f3473648b76f4",
            "d5ad064560854c7b83d8dd970e20ec30",
            "41c73b5f81f848a586ccfa3979a9ff1d",
            "95288310dfcc4e43be9ae0960497babc",
            "e39b01f1885c4b00b53dbde86a61bf60",
            "b5e17d24179f433982e102d914ed4a5b",
            "115b917415e8494ca85414f2f94acca9",
            "310d8617dfd84bda9ad4ed2c218c87c3"
          ]
        }
      },
      "outputs": [
        {
          "output_type": "display_data",
          "data": {
            "text/plain": [
              "Downloading builder script:   0%|          | 0.00/4.20k [00:00<?, ?B/s]"
            ],
            "application/vnd.jupyter.widget-view+json": {
              "version_major": 2,
              "version_minor": 0,
              "model_id": "696b63132d5f4e59bc81407d218903f9"
            }
          },
          "metadata": {}
        }
      ],
      "source": [
        "accuracy = evaluate.load(\"accuracy\")"
      ]
    },
    {
      "cell_type": "code",
      "execution_count": null,
      "metadata": {
        "id": "4NH9nTm0CC1b"
      },
      "outputs": [],
      "source": [
        "def compute_metrics(eval_pred):\n",
        "    predictions, labels = eval_pred\n",
        "    predictions = np.argmax(predictions, axis=1)\n",
        "    return accuracy.compute(predictions=predictions, references=labels)"
      ]
    },
    {
      "cell_type": "code",
      "source": [
        "args = TrainingArguments(\n",
        "    f\"-\",\n",
        "    evaluation_strategy = \"epoch\",\n",
        "    save_strategy = \"epoch\",\n",
        "    learning_rate=1e-5,\n",
        "    per_device_train_batch_size=16,\n",
        "    per_device_eval_batch_size=8,\n",
        "    num_train_epochs=5,\n",
        "    weight_decay=0.01,\n",
        "    load_best_model_at_end=True,\n",
        "    metric_for_best_model='accuracy',\n",
        "    push_to_hub=False,\n",
        ")\n",
        "\n",
        "# or simply import trainingargument\n",
        "# from transformers import TrainingArguments\n",
        "# training_args = TrainingArguments(output_dir=\"test_trainer\", evaluation_strategy=\"epoch\")"
      ],
      "metadata": {
        "id": "xt5-4vW7V0SA"
      },
      "execution_count": null,
      "outputs": []
    },
    {
      "cell_type": "code",
      "source": [
        "trainer = Trainer(\n",
        "    model,\n",
        "    args,\n",
        "    train_dataset=tokenized_data[\"train\"],\n",
        "    eval_dataset=tokenized_data[\"validation\"],\n",
        "    tokenizer=tokenizer,\n",
        "    data_collator=data_collator,\n",
        "    compute_metrics=compute_metrics\n",
        ")"
      ],
      "metadata": {
        "id": "pCp6zOKAYc2Y"
      },
      "execution_count": null,
      "outputs": []
    },
    {
      "cell_type": "code",
      "source": [
        "trainer.train()"
      ],
      "metadata": {
        "id": "5WF5muj2bAI1",
        "outputId": "0bb25bd0-ed9c-4bf4-b7c4-451490911e05",
        "colab": {
          "base_uri": "https://localhost:8080/",
          "height": 339
        }
      },
      "execution_count": null,
      "outputs": [
        {
          "output_type": "stream",
          "name": "stderr",
          "text": [
            "/usr/local/lib/python3.10/dist-packages/transformers/optimization.py:411: FutureWarning: This implementation of AdamW is deprecated and will be removed in a future version. Use the PyTorch implementation torch.optim.AdamW instead, or set `no_deprecation_warning=True` to disable this warning\n",
            "  warnings.warn(\n",
            "You're using a DistilBertTokenizerFast tokenizer. Please note that with a fast tokenizer, using the `__call__` method is faster than using a method to encode the text followed by a call to the `pad` method to get a padded encoding.\n"
          ]
        },
        {
          "output_type": "display_data",
          "data": {
            "text/plain": [
              "<IPython.core.display.HTML object>"
            ],
            "text/html": [
              "\n",
              "    <div>\n",
              "      \n",
              "      <progress value='2670' max='2670' style='width:300px; height:20px; vertical-align: middle;'></progress>\n",
              "      [2670/2670 04:03, Epoch 5/5]\n",
              "    </div>\n",
              "    <table border=\"1\" class=\"dataframe\">\n",
              "  <thead>\n",
              " <tr style=\"text-align: left;\">\n",
              "      <th>Epoch</th>\n",
              "      <th>Training Loss</th>\n",
              "      <th>Validation Loss</th>\n",
              "      <th>Accuracy</th>\n",
              "    </tr>\n",
              "  </thead>\n",
              "  <tbody>\n",
              "    <tr>\n",
              "      <td>1</td>\n",
              "      <td>0.432800</td>\n",
              "      <td>0.353721</td>\n",
              "      <td>0.844278</td>\n",
              "    </tr>\n",
              "    <tr>\n",
              "      <td>2</td>\n",
              "      <td>0.300800</td>\n",
              "      <td>0.378271</td>\n",
              "      <td>0.847092</td>\n",
              "    </tr>\n",
              "    <tr>\n",
              "      <td>3</td>\n",
              "      <td>0.220200</td>\n",
              "      <td>0.395023</td>\n",
              "      <td>0.849906</td>\n",
              "    </tr>\n",
              "    <tr>\n",
              "      <td>4</td>\n",
              "      <td>0.176800</td>\n",
              "      <td>0.472597</td>\n",
              "      <td>0.852720</td>\n",
              "    </tr>\n",
              "    <tr>\n",
              "      <td>5</td>\n",
              "      <td>0.142600</td>\n",
              "      <td>0.502121</td>\n",
              "      <td>0.857411</td>\n",
              "    </tr>\n",
              "  </tbody>\n",
              "</table><p>"
            ]
          },
          "metadata": {}
        },
        {
          "output_type": "execute_result",
          "data": {
            "text/plain": [
              "TrainOutput(global_step=2670, training_loss=0.24695184186156768, metrics={'train_runtime': 243.6968, 'train_samples_per_second': 175.013, 'train_steps_per_second': 10.956, 'total_flos': 537736398771528.0, 'train_loss': 0.24695184186156768, 'epoch': 5.0})"
            ]
          },
          "metadata": {},
          "execution_count": 43
        }
      ]
    },
    {
      "cell_type": "code",
      "source": [
        "trainer.evaluate(eval_dataset=tokenized_data[\"test\"])"
      ],
      "metadata": {
        "id": "m3-DCoWVF1gk",
        "outputId": "a497408f-07fc-4b10-ec08-c9c59bb1100f",
        "colab": {
          "base_uri": "https://localhost:8080/",
          "height": 141
        }
      },
      "execution_count": null,
      "outputs": [
        {
          "output_type": "display_data",
          "data": {
            "text/plain": [
              "<IPython.core.display.HTML object>"
            ],
            "text/html": [
              "\n",
              "    <div>\n",
              "      \n",
              "      <progress value='134' max='134' style='width:300px; height:20px; vertical-align: middle;'></progress>\n",
              "      [134/134 00:01]\n",
              "    </div>\n",
              "    "
            ]
          },
          "metadata": {}
        },
        {
          "output_type": "execute_result",
          "data": {
            "text/plain": [
              "{'eval_loss': 0.5620833039283752,\n",
              " 'eval_accuracy': 0.8405253283302064,\n",
              " 'eval_runtime': 1.7934,\n",
              " 'eval_samples_per_second': 594.399,\n",
              " 'eval_steps_per_second': 74.718,\n",
              " 'epoch': 5.0}"
            ]
          },
          "metadata": {},
          "execution_count": 44
        }
      ]
    },
    {
      "cell_type": "markdown",
      "source": [
        "### Visualization"
      ],
      "metadata": {
        "id": "b2ke7efFte6u"
      }
    },
    {
      "cell_type": "code",
      "source": [
        "from matplotlib import pyplot as plt"
      ],
      "metadata": {
        "id": "KMhRfXuRwbzg"
      },
      "execution_count": null,
      "outputs": []
    },
    {
      "cell_type": "code",
      "source": [
        "bert_acc = [j['eval_accuracy'] for j in trainer.state.log_history[:10][1::2]]"
      ],
      "metadata": {
        "id": "DlSb8tg5tg-1"
      },
      "execution_count": null,
      "outputs": []
    },
    {
      "cell_type": "code",
      "source": [
        "bert_acc += [bert_acc[-1]] * (10 - len(bert_acc))"
      ],
      "metadata": {
        "id": "ylRxB-48xLL2"
      },
      "execution_count": null,
      "outputs": []
    },
    {
      "cell_type": "code",
      "source": [
        "plt.plot(mlp_history.history['val_accuracy'], label=\"MLP\")\n",
        "plt.plot(lstm_history.history['val_accuracy'], label=\"LSTM\")\n",
        "plt.plot(cnn_history.history['val_accuracy'], label=\"CNN\")\n",
        "plt.plot(bert_acc, label=\"BERT\")\n",
        "plt.title('model accuracy')\n",
        "plt.ylabel('accuracy')\n",
        "plt.xlabel('epoch')\n",
        "plt.legend(loc='lower right')\n",
        "plt.show()"
      ],
      "metadata": {
        "id": "PCzFywaawIhK",
        "outputId": "d40742ee-996c-4ffe-e18e-a74fb3dd8353",
        "colab": {
          "base_uri": "https://localhost:8080/",
          "height": 472
        }
      },
      "execution_count": null,
      "outputs": [
        {
          "output_type": "display_data",
          "data": {
            "text/plain": [
              "<Figure size 640x480 with 1 Axes>"
            ],
            "image/png": "[encoded data removed]"
          },
          "metadata": {}
        }
      ]
    },
    {
      "cell_type": "markdown",
      "source": [
        "### Supplementary Material: Ensemble with Functional API (LSTM+CNN) (179k params // approx. 93s // 0.717)"
      ],
      "metadata": {
        "id": "sCW5l5QNX026"
      }
    },
    {
      "cell_type": "code",
      "source": [
        "inputs = Input(shape=(1,), dtype=tf.string)\n",
        "enc = encoder(inputs)\n",
        "x = Embedding(input_dim=len(encoder.get_vocabulary()),\n",
        "        output_dim=64,\n",
        "        input_length=SEQ_LEN,\n",
        "        mask_zero=True)(enc)\n",
        "\n",
        "# Separate\n",
        "## LSTM\n",
        "lstm = Bidirectional(LSTM(64))(x)\n",
        "lstm = Dense(64, activation='relu')(lstm)\n",
        "\n",
        "## CNN\n",
        "cnn = Conv1D(filters=64, kernel_size=8, activation='relu')(x)\n",
        "cnn = GlobalMaxPooling1D()(cnn)\n",
        "\n",
        "# Concatenate\n",
        "y = concatenate([lstm,cnn])\n",
        "y = Dense(64, activation='relu')(y)\n",
        "y = Dropout(0.3)(y)\n",
        "outputs = Dense(1)(y)\n",
        "\n",
        "ens_model = Model(inputs=inputs, outputs=outputs)"
      ],
      "metadata": {
        "id": "sL3BEt6sX6w2"
      },
      "execution_count": null,
      "outputs": []
    },
    {
      "cell_type": "code",
      "source": [
        "ens_model.summary()"
      ],
      "metadata": {
        "colab": {
          "base_uri": "https://localhost:8080/"
        },
        "id": "l4IBJAf2gyej",
        "outputId": "5381e77a-60bf-4479-ce90-9e695760e9b0"
      },
      "execution_count": null,
      "outputs": [
        {
          "output_type": "stream",
          "name": "stdout",
          "text": [
            "Model: \"model\"\n",
            "__________________________________________________________________________________________________\n",
            " Layer (type)                   Output Shape         Param #     Connected to                     \n",
            "==================================================================================================\n",
            " input_1 (InputLayer)           [(None, 1)]          0           []                               \n",
            "                                                                                                  \n",
            " text_vectorization (TextVector  (None, 60)          0           ['input_1[0][0]']                \n",
            " ization)                                                                                         \n",
            "                                                                                                  \n",
            " embedding_3 (Embedding)        (None, 60, 64)       64000       ['text_vectorization[3][0]']     \n",
            "                                                                                                  \n",
            " bidirectional_1 (Bidirectional  (None, 128)         66048       ['embedding_3[0][0]']            \n",
            " )                                                                                                \n",
            "                                                                                                  \n",
            " conv1d_1 (Conv1D)              (None, 53, 64)       32832       ['embedding_3[0][0]']            \n",
            "                                                                                                  \n",
            " dense_7 (Dense)                (None, 64)           8256        ['bidirectional_1[0][0]']        \n",
            "                                                                                                  \n",
            " global_max_pooling1d_1 (Global  (None, 64)          0           ['conv1d_1[0][0]']               \n",
            " MaxPooling1D)                                                                                    \n",
            "                                                                                                  \n",
            " concatenate (Concatenate)      (None, 128)          0           ['dense_7[0][0]',                \n",
            "                                                                  'global_max_pooling1d_1[0][0]'] \n",
            "                                                                                                  \n",
            " dense_8 (Dense)                (None, 64)           8256        ['concatenate[0][0]']            \n",
            "                                                                                                  \n",
            " dropout (Dropout)              (None, 64)           0           ['dense_8[0][0]']                \n",
            "                                                                                                  \n",
            " dense_9 (Dense)                (None, 1)            65          ['dropout[0][0]']                \n",
            "                                                                                                  \n",
            "==================================================================================================\n",
            "Total params: 179,457\n",
            "Trainable params: 179,457\n",
            "Non-trainable params: 0\n",
            "__________________________________________________________________________________________________\n"
          ]
        }
      ]
    },
    {
      "cell_type": "code",
      "source": [
        "ens_model.compile(loss=BinaryCrossentropy(from_logits=True),\n",
        "              optimizer=Adam(1e-4),\n",
        "              metrics=['accuracy'])"
      ],
      "metadata": {
        "id": "80M3Ke_MhhgS"
      },
      "execution_count": null,
      "outputs": []
    },
    {
      "cell_type": "code",
      "source": [
        "ens_history = ens_model.fit(tf_train, epochs=10,\n",
        "                    validation_data=tf_val,\n",
        "                    validation_steps=30)"
      ],
      "metadata": {
        "colab": {
          "base_uri": "https://localhost:8080/"
        },
        "outputId": "88e65421-ef55-44e9-e6ca-78fb777fca20",
        "id": "KorEyOcNhhgT"
      },
      "execution_count": null,
      "outputs": [
        {
          "output_type": "stream",
          "name": "stdout",
          "text": [
            "Epoch 1/10\n",
            "267/267 [==============================] - 29s 71ms/step - loss: 0.6930 - accuracy: 0.5000 - val_loss: 0.6922 - val_accuracy: 0.4448\n",
            "Epoch 2/10\n",
            "267/267 [==============================] - 8s 29ms/step - loss: 0.6870 - accuracy: 0.5000 - val_loss: 0.6723 - val_accuracy: 0.4448\n",
            "Epoch 3/10\n",
            "267/267 [==============================] - 6s 21ms/step - loss: 0.6194 - accuracy: 0.6088 - val_loss: 0.5995 - val_accuracy: 0.6438\n",
            "Epoch 4/10\n",
            "267/267 [==============================] - 5s 19ms/step - loss: 0.5336 - accuracy: 0.7246 - val_loss: 0.5889 - val_accuracy: 0.6396\n",
            "Epoch 5/10\n",
            "267/267 [==============================] - 6s 23ms/step - loss: 0.4962 - accuracy: 0.7512 - val_loss: 0.5801 - val_accuracy: 0.6396\n",
            "Epoch 6/10\n",
            "267/267 [==============================] - 7s 26ms/step - loss: 0.4759 - accuracy: 0.7666 - val_loss: 0.5685 - val_accuracy: 0.7010\n",
            "Epoch 7/10\n",
            "267/267 [==============================] - 9s 33ms/step - loss: 0.4600 - accuracy: 0.7775 - val_loss: 0.5737 - val_accuracy: 0.6531\n",
            "Epoch 8/10\n",
            "267/267 [==============================] - 9s 32ms/step - loss: 0.4452 - accuracy: 0.7868 - val_loss: 0.5619 - val_accuracy: 0.6896\n",
            "Epoch 9/10\n",
            "267/267 [==============================] - 11s 43ms/step - loss: 0.4312 - accuracy: 0.7970 - val_loss: 0.5657 - val_accuracy: 0.7031\n",
            "Epoch 10/10\n",
            "267/267 [==============================] - 5s 21ms/step - loss: 0.4192 - accuracy: 0.8001 - val_loss: 0.5784 - val_accuracy: 0.7156\n"
          ]
        }
      ]
    },
    {
      "cell_type": "code",
      "source": [
        "ens_loss, ens_acc = ens_model.evaluate(tf_test)\n",
        "\n",
        "print('Test Loss:', ens_loss)\n",
        "print('Test Accuracy:', ens_acc)"
      ],
      "metadata": {
        "colab": {
          "base_uri": "https://localhost:8080/"
        },
        "outputId": "091780cd-ded6-4e40-ebff-ffbe3c7c864e",
        "id": "oaZ4QT4bhhgU"
      },
      "execution_count": null,
      "outputs": [
        {
          "output_type": "stream",
          "name": "stdout",
          "text": [
            "34/34 [==============================] - 0s 8ms/step - loss: 0.5796 - accuracy: 0.7167\n",
            "Test Loss: 0.579640805721283\n",
            "Test Accuracy: 0.7166979312896729\n"
          ]
        }
      ]
    },
    {
      "cell_type": "markdown",
      "source": [
        "### Visualization with Supp. Material"
      ],
      "metadata": {
        "id": "dB8TUVtelMHE"
      }
    },
    {
      "cell_type": "code",
      "source": [
        "from matplotlib import pyplot as plt"
      ],
      "metadata": {
        "id": "7htjb5dVlMHE"
      },
      "execution_count": null,
      "outputs": []
    },
    {
      "cell_type": "code",
      "source": [
        "bert_acc = [j['eval_accuracy'] for j in trainer.state.log_history[:10][1::2]]"
      ],
      "metadata": {
        "id": "8Eia34cHlMHF"
      },
      "execution_count": null,
      "outputs": []
    },
    {
      "cell_type": "code",
      "source": [
        "bert_acc += [bert_acc[-1]] * (10 - len(bert_acc))"
      ],
      "metadata": {
        "id": "GvdXFl4zlMHF"
      },
      "execution_count": null,
      "outputs": []
    },
    {
      "cell_type": "code",
      "source": [
        "plt.plot(mlp_history.history['val_accuracy'], label=\"MLP\")\n",
        "plt.plot(lstm_history.history['val_accuracy'], label=\"LSTM\")\n",
        "plt.plot(cnn_history.history['val_accuracy'], label=\"CNN\")\n",
        "plt.plot(bert_acc, label=\"BERT\")\n",
        "plt.plot(ens_history.history['val_accuracy'], label=\"ENS\")\n",
        "plt.title('model accuracy')\n",
        "plt.ylabel('accuracy')\n",
        "plt.xlabel('epoch')\n",
        "plt.legend(loc='lower right')\n",
        "plt.show()"
      ],
      "metadata": {
        "id": "OmNQVVKDlMHF",
        "outputId": "608b813b-4d0e-47c6-cfcd-ed226099ccbc",
        "colab": {
          "base_uri": "https://localhost:8080/",
          "height": 472
        }
      },
      "execution_count": null,
      "outputs": [
        {
          "output_type": "display_data",
          "data": {
            "text/plain": [
              "<Figure size 640x480 with 1 Axes>"
            ],
            "image/png": "[encoded data removed]"
          },
          "metadata": {}
        }
      ]
    }
  ]
}