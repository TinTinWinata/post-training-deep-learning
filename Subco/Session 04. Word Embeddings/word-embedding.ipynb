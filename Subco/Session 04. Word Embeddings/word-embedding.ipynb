{
 "cells": [
  {
   "cell_type": "code",
   "execution_count": 17,
   "metadata": {},
   "outputs": [],
   "source": [
    "import tensorflow as tf\n",
    "# import tensorflow_datasets as tfdt\n",
    "from keras import layers\n",
    "from keras.models import Model\n",
    "import pandas as pd\n",
    "import matplotlib.pyplot as plt\n",
    "from transformers import BertTokenizer\n",
    "import numpy as np"
   ]
  },
  {
   "cell_type": "code",
   "execution_count": 18,
   "metadata": {},
   "outputs": [],
   "source": [
    "# Read Dataset\n",
    "data = pd.read_csv('./dataset/dataset.csv')\n",
    "\n",
    "data = data.sample(frac=1).reset_index(drop=True)\n"
   ]
  },
  {
   "cell_type": "code",
   "execution_count": 21,
   "metadata": {},
   "outputs": [
    {
     "name": "stdout",
     "output_type": "stream",
     "text": [
      "Train Size :  96000\n",
      "Val Size :  12000\n",
      "Train Length : 96000\n",
      "Val Length : 12000\n",
      "Test Length : 12000\n"
     ]
    }
   ],
   "source": [
    "# Split the Dataset\n",
    "\n",
    "train_size = int(0.8 * len(data))\n",
    "val_size = int(0.1 * len(data))\n",
    "\n",
    "print('Train Size : ', train_size)\n",
    "print('Val Size : ', val_size)\n",
    "\n",
    "train_df = data[:train_size]\n",
    "val_df = data[train_size:train_size+val_size]\n",
    "test_df = data[train_size+val_size:]\n",
    "\n",
    "print(f'Train Length : {len(train_df)}')\n",
    "print(f'Val Length : {len(val_df)}')\n",
    "print(f'Test Length : {len(test_df)}')"
   ]
  },
  {
   "cell_type": "code",
   "execution_count": 28,
   "metadata": {},
   "outputs": [
    {
     "name": "stdout",
     "output_type": "stream",
     "text": [
      "<_MapDataset element_spec=(TensorSpec(shape=(), dtype=tf.string, name=None), TensorSpec(shape=(), dtype=tf.int64, name=None))>\n",
      "<_MapDataset element_spec=(TensorSpec(shape=(), dtype=tf.string, name=None), TensorSpec(shape=(), dtype=tf.int64, name=None))>\n",
      "<_MapDataset element_spec=(TensorSpec(shape=(), dtype=tf.string, name=None), TensorSpec(shape=(), dtype=tf.int64, name=None))>\n"
     ]
    }
   ],
   "source": [
    "text_col = 'description'\n",
    "label_col = 'label'\n",
    "class_names = ['World', 'Sports', 'Business', 'Sci/Tech']\n",
    "\n",
    "def subtract_one_label(text, label):\n",
    "  return text,label -1\n",
    "\n",
    "bert_tokenizer = BertTokenizer.from_pretrained('bert-base-uncased')\n",
    "# Pake model pre trained jadi langsung jadi \n",
    "\n",
    "# Convert dataframe (training, validation, and testing) ke dalam tensorflow datasets\n",
    "train_data = tf.data.Dataset.from_tensor_slices((train_df[text_col].values, train_df[label_col].values))\n",
    "train_data = train_data.map(subtract_one_label)\n",
    "print(train_data)\n",
    "\n",
    "val_data = tf.data.Dataset.from_tensor_slices((val_df[text_col].values, val_df[label_col].values))\n",
    "val_data = val_data.map(subtract_one_label)\n",
    "print(val_data)\n",
    "\n",
    "test_data = tf.data.Dataset.from_tensor_slices((test_df[text_col].values, test_df[label_col].values))\n",
    "test_data = test_data.map(subtract_one_label)\n",
    "print(test_data)"
   ]
  },
  {
   "cell_type": "code",
   "execution_count": 29,
   "metadata": {},
   "outputs": [],
   "source": [
    "# Pre Processing\n",
    "\n",
    "BUFFER_SIZE = 10000\n",
    "BATCH_SIZE = 64\n",
    "MAX_LENGTH = 256\n",
    "\n",
    "def encode_text(text, label):\n",
    "  encoded_text = bert_tokenizer.encode(text.numpy().decode('utf-8', add_special_tokens=True, max_length=MAX_LENGTH, truncation=True, padding='max-length'))\n",
    "  return encoded_text, label\n",
    "\n",
    "train_data = train_data.map(lambda text, label: tf.py_function(encode_text, [text, label], [tf.int64, tf.int64]))\n",
    "val_data = val_data.map(lambda text, label: tf.py_function(encode_text, [text, label], [tf.int64, tf.int64]))\n",
    "test_data = test_data.map(lambda text, label: tf.py_function(encode_text, [text, label], [tf.int64, tf.int64]))\n",
    "\n",
    "# Pad dataset and batch dataset\n"
   ]
  }
 ],
 "metadata": {
  "kernelspec": {
   "display_name": "Python 3",
   "language": "python",
   "name": "python3"
  },
  "language_info": {
   "codemirror_mode": {
    "name": "ipython",
    "version": 3
   },
   "file_extension": ".py",
   "mimetype": "text/x-python",
   "name": "python",
   "nbconvert_exporter": "python",
   "pygments_lexer": "ipython3",
   "version": "3.10.4"
  },
  "orig_nbformat": 4
 },
 "nbformat": 4,
 "nbformat_minor": 2
}
